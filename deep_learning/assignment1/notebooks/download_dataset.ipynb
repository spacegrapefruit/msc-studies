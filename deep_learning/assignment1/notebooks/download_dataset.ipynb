{
 "cells": [
  {
   "cell_type": "code",
   "execution_count": 2,
   "id": "c36b8342-9f8f-42f7-a887-3b7de5038789",
   "metadata": {
    "tags": []
   },
   "outputs": [
    {
     "name": "stdout",
     "output_type": "stream",
     "text": [
      "mkdir: ../data/masks/: File exists\n",
      "mkdir: ../data/meta/: File exists\n",
      "mkdir: ../data/images/: File exists\n"
     ]
    }
   ],
   "source": [
    "!mkdir ../data/masks/\n",
    "!mkdir ../data/meta/\n",
    "!mkdir ../data/images/"
   ]
  },
  {
   "cell_type": "markdown",
   "id": "44f3fbc9",
   "metadata": {},
   "source": [
    "## Download input data"
   ]
  },
  {
   "cell_type": "markdown",
   "id": "2fa9a72c",
   "metadata": {},
   "source": [
    "### Masks"
   ]
  },
  {
   "cell_type": "code",
   "execution_count": 42,
   "id": "87df8997",
   "metadata": {},
   "outputs": [
    {
     "name": "stdout",
     "output_type": "stream",
     "text": [
      "--2025-04-07 01:00:14--  https://storage.googleapis.com/openimages/v5/train-masks/train-masks-0.zip\n",
      "Resolving storage.googleapis.com (storage.googleapis.com)... 216.58.215.91, 142.250.186.219, 216.58.208.219, ...\n",
      "Connecting to storage.googleapis.com (storage.googleapis.com)|216.58.215.91|:443... connected.\n",
      "HTTP request sent, awaiting response... 200 OK\n",
      "Length: 385547550 (368M) [application/zip]\n",
      "Saving to: ‘../data/train-masks-0.zip’\n",
      "\n",
      "train-masks-0.zip   100%[===================>] 367.69M  15.2MB/s    in 24s     \n",
      "\n",
      "2025-04-07 01:00:39 (15.3 MB/s) - ‘../data/train-masks-0.zip’ saved [385547550/385547550]\n",
      "\n"
     ]
    }
   ],
   "source": [
    "!wget \\\n",
    "  https://storage.googleapis.com/openimages/v5/train-masks/train-masks-0.zip \\\n",
    "  -P ../data/"
   ]
  },
  {
   "cell_type": "code",
   "execution_count": 43,
   "id": "1e49da4b",
   "metadata": {},
   "outputs": [
    {
     "name": "stdout",
     "output_type": "stream",
     "text": [
      "--2025-04-07 01:00:39--  https://storage.googleapis.com/openimages/v5/validation-masks/validation-masks-0.zip\n",
      "Resolving storage.googleapis.com (storage.googleapis.com)... 216.58.215.91, 142.250.186.219, 216.58.208.219, ...\n",
      "Connecting to storage.googleapis.com (storage.googleapis.com)|216.58.215.91|:443... connected.\n",
      "HTTP request sent, awaiting response... 200 OK\n",
      "Length: 3746207 (3.6M) [application/zip]\n",
      "Saving to: ‘../data/validation-masks-0.zip’\n",
      "\n",
      "validation-masks-0. 100%[===================>]   3.57M  14.1MB/s    in 0.3s    \n",
      "\n",
      "2025-04-07 01:00:40 (14.1 MB/s) - ‘../data/validation-masks-0.zip’ saved [3746207/3746207]\n",
      "\n"
     ]
    }
   ],
   "source": [
    "!wget \\\n",
    "  https://storage.googleapis.com/openimages/v5/validation-masks/validation-masks-0.zip \\\n",
    "  -P ../data/"
   ]
  },
  {
   "cell_type": "code",
   "execution_count": 44,
   "id": "d186533b",
   "metadata": {},
   "outputs": [
    {
     "name": "stdout",
     "output_type": "stream",
     "text": [
      "--2025-04-07 01:00:43--  https://storage.googleapis.com/openimages/v5/test-masks/test-masks-0.zip\n",
      "Resolving storage.googleapis.com (storage.googleapis.com)... 216.58.215.91, 142.250.186.219, 216.58.208.219, ...\n",
      "Connecting to storage.googleapis.com (storage.googleapis.com)|216.58.215.91|:443... connected.\n",
      "HTTP request sent, awaiting response... 200 OK\n",
      "Length: 11123614 (11M) [application/zip]\n",
      "Saving to: ‘../data/test-masks-0.zip’\n",
      "\n",
      "test-masks-0.zip    100%[===================>]  10.61M  7.33MB/s    in 1.4s    \n",
      "\n",
      "2025-04-07 01:00:45 (7.33 MB/s) - ‘../data/test-masks-0.zip’ saved [11123614/11123614]\n",
      "\n"
     ]
    }
   ],
   "source": [
    "!wget \\\n",
    "  https://storage.googleapis.com/openimages/v5/test-masks/test-masks-0.zip \\\n",
    "  -P ../data/"
   ]
  },
  {
   "cell_type": "code",
   "execution_count": 46,
   "id": "0ed7dd3b",
   "metadata": {},
   "outputs": [],
   "source": [
    "!unzip -q ../data/train-masks-0.zip -d ../data/masks/train/"
   ]
  },
  {
   "cell_type": "code",
   "execution_count": 47,
   "id": "b48a3658",
   "metadata": {},
   "outputs": [],
   "source": [
    "!unzip -q ../data/validation-masks-0.zip -d ../data/masks/validation/"
   ]
  },
  {
   "cell_type": "code",
   "execution_count": 48,
   "id": "a6c0fae7",
   "metadata": {},
   "outputs": [],
   "source": [
    "!unzip -q ../data/test-masks-0.zip -d ../data/masks/test/"
   ]
  },
  {
   "cell_type": "markdown",
   "id": "6dd83a63",
   "metadata": {},
   "source": [
    "### Metadata"
   ]
  },
  {
   "cell_type": "code",
   "execution_count": 5,
   "id": "d7ab1512-28e4-46f1-8cba-bd5f4943cda9",
   "metadata": {},
   "outputs": [
    {
     "name": "stdout",
     "output_type": "stream",
     "text": [
      "--2025-04-07 00:43:12--  https://storage.googleapis.com/openimages/v5/train-annotations-object-segmentation.csv\n",
      "Resolving storage.googleapis.com (storage.googleapis.com)... 216.58.209.27, 172.217.16.59, 172.217.16.27, ...\n",
      "Connecting to storage.googleapis.com (storage.googleapis.com)|216.58.209.27|:443... connected.\n",
      "HTTP request sent, awaiting response... 200 OK\n",
      "Length: 806943628 (770M) [text/csv]\n",
      "Saving to: ‘../data/meta/train-annotations-object-segmentation.csv’\n",
      "\n",
      "train-annotations-o 100%[===================>] 769.56M  13.6MB/s    in 59s     \n",
      "\n",
      "2025-04-07 00:44:12 (13.0 MB/s) - ‘../data/meta/train-annotations-object-segmentation.csv’ saved [806943628/806943628]\n",
      "\n"
     ]
    }
   ],
   "source": [
    "!wget \\\n",
    "  https://storage.googleapis.com/openimages/v5/train-annotations-object-segmentation.csv \\\n",
    "  -P ../data/meta/"
   ]
  },
  {
   "cell_type": "code",
   "execution_count": 8,
   "id": "4e00befc-a177-42d0-adc3-3fd94848ecff",
   "metadata": {},
   "outputs": [
    {
     "name": "stdout",
     "output_type": "stream",
     "text": [
      "--2025-04-07 00:44:16--  https://storage.googleapis.com/openimages/v5/validation-annotations-object-segmentation.csv\n",
      "Resolving storage.googleapis.com (storage.googleapis.com)... 216.58.209.27, 142.250.203.219, 216.58.208.219, ...\n",
      "Connecting to storage.googleapis.com (storage.googleapis.com)|216.58.209.27|:443... connected.\n",
      "HTTP request sent, awaiting response... 200 OK\n",
      "Length: 2920821 (2.8M) [text/csv]\n",
      "Saving to: ‘../data/meta/validation-annotations-object-segmentation.csv’\n",
      "\n",
      "validation-annotati 100%[===================>]   2.79M  3.30MB/s    in 0.8s    \n",
      "\n",
      "2025-04-07 00:44:17 (3.30 MB/s) - ‘../data/meta/validation-annotations-object-segmentation.csv’ saved [2920821/2920821]\n",
      "\n"
     ]
    }
   ],
   "source": [
    "!wget \\\n",
    "  https://storage.googleapis.com/openimages/v5/validation-annotations-object-segmentation.csv \\\n",
    "  -P ../data/meta/"
   ]
  },
  {
   "cell_type": "code",
   "execution_count": 6,
   "id": "4ce434b1-0249-4d77-9a1c-ec430f6ce67b",
   "metadata": {},
   "outputs": [
    {
     "name": "stdout",
     "output_type": "stream",
     "text": [
      "--2025-04-07 00:44:12--  https://storage.googleapis.com/openimages/v5/test-annotations-object-segmentation.csv\n",
      "Resolving storage.googleapis.com (storage.googleapis.com)... 216.58.209.27, 142.250.203.219, 216.58.208.219, ...\n",
      "Connecting to storage.googleapis.com (storage.googleapis.com)|216.58.209.27|:443... connected.\n",
      "HTTP request sent, awaiting response... 200 OK\n",
      "Length: 8752779 (8.3M) [text/csv]\n",
      "Saving to: ‘../data/meta/test-annotations-object-segmentation.csv’\n",
      "\n",
      "test-annotations-ob 100%[===================>]   8.35M  6.57MB/s    in 1.3s    \n",
      "\n",
      "2025-04-07 00:44:14 (6.57 MB/s) - ‘../data/meta/test-annotations-object-segmentation.csv’ saved [8752779/8752779]\n",
      "\n"
     ]
    }
   ],
   "source": [
    "!wget \\\n",
    "  https://storage.googleapis.com/openimages/v5/test-annotations-object-segmentation.csv \\\n",
    "  -P ../data/meta/"
   ]
  },
  {
   "cell_type": "code",
   "execution_count": 7,
   "id": "6e8171c9-6f6a-4b87-99b2-a09df169c46a",
   "metadata": {
    "tags": []
   },
   "outputs": [
    {
     "name": "stdout",
     "output_type": "stream",
     "text": [
      "--2025-04-07 00:44:15--  https://storage.googleapis.com/openimages/v7/oidv7-class-descriptions.csv\n",
      "Resolving storage.googleapis.com (storage.googleapis.com)... 216.58.209.27, 142.250.203.219, 216.58.208.219, ...\n",
      "Connecting to storage.googleapis.com (storage.googleapis.com)|216.58.209.27|:443... connected.\n",
      "HTTP request sent, awaiting response... 200 OK\n",
      "Length: 501178 (489K) [text/csv]\n",
      "Saving to: ‘../data/meta/oidv7-class-descriptions.csv’\n",
      "\n",
      "oidv7-class-descrip 100%[===================>] 489.43K  --.-KB/s    in 0.06s   \n",
      "\n",
      "2025-04-07 00:44:15 (7.75 MB/s) - ‘../data/meta/oidv7-class-descriptions.csv’ saved [501178/501178]\n",
      "\n"
     ]
    }
   ],
   "source": [
    "!wget \\\n",
    "    https://storage.googleapis.com/openimages/v7/oidv7-class-descriptions.csv \\\n",
    "    -P ../data/meta/"
   ]
  },
  {
   "cell_type": "code",
   "execution_count": 9,
   "id": "645f8445-f4f5-4a2b-8f4e-e40b0231ae17",
   "metadata": {
    "tags": []
   },
   "outputs": [
    {
     "name": "stdout",
     "output_type": "stream",
     "text": [
      "--2025-04-07 00:44:40--  https://raw.githubusercontent.com/openimages/dataset/master/downloader.py\n",
      "Resolving raw.githubusercontent.com (raw.githubusercontent.com)... 185.199.108.133, 185.199.109.133, 185.199.110.133, ...\n",
      "Connecting to raw.githubusercontent.com (raw.githubusercontent.com)|185.199.108.133|:443... connected.\n",
      "HTTP request sent, awaiting response... 200 OK\n",
      "Length: 4244 (4.1K) [text/plain]\n",
      "Saving to: ‘../python/downloader.py.1’\n",
      "\n",
      "downloader.py.1     100%[===================>]   4.14K  9.76KB/s    in 0.4s    \n",
      "\n",
      "2025-04-07 00:44:41 (9.76 KB/s) - ‘../python/downloader.py.1’ saved [4244/4244]\n",
      "\n"
     ]
    }
   ],
   "source": [
    "!wget https://raw.githubusercontent.com/openimages/dataset/master/downloader.py \\\n",
    "    -P ../python/"
   ]
  },
  {
   "cell_type": "markdown",
   "id": "53108994-8fe7-43a1-9359-13f6c023c34b",
   "metadata": {},
   "source": [
    "## Load metadata"
   ]
  },
  {
   "cell_type": "code",
   "execution_count": 10,
   "id": "b9760c28-0c2c-4310-ab4d-1f2d96d8c361",
   "metadata": {
    "tags": []
   },
   "outputs": [],
   "source": [
    "import os\n",
    "import pandas as pd"
   ]
  },
  {
   "cell_type": "code",
   "execution_count": 11,
   "id": "e4ebff06-ec23-4440-ac61-00e5eb911a40",
   "metadata": {
    "tags": []
   },
   "outputs": [],
   "source": [
    "class_names = [\"Tomato\", \"Orange (fruit)\", \"Strawberry\", \"Grapefruit\", \"Apple\"]"
   ]
  },
  {
   "cell_type": "code",
   "execution_count": 14,
   "id": "9d0993a6-1e9d-449a-aee3-bd74a6b6abc8",
   "metadata": {
    "tags": []
   },
   "outputs": [],
   "source": [
    "classes_df = pd.read_csv(\"../data/meta/oidv7-class-descriptions.csv\")"
   ]
  },
  {
   "cell_type": "code",
   "execution_count": 15,
   "id": "2268a070-ce82-438a-9a84-1ed64c41f754",
   "metadata": {
    "tags": []
   },
   "outputs": [
    {
     "data": {
      "text/html": [
       "<div>\n",
       "<style scoped>\n",
       "    .dataframe tbody tr th:only-of-type {\n",
       "        vertical-align: middle;\n",
       "    }\n",
       "\n",
       "    .dataframe tbody tr th {\n",
       "        vertical-align: top;\n",
       "    }\n",
       "\n",
       "    .dataframe thead th {\n",
       "        text-align: right;\n",
       "    }\n",
       "</style>\n",
       "<table border=\"1\" class=\"dataframe\">\n",
       "  <thead>\n",
       "    <tr style=\"text-align: right;\">\n",
       "      <th></th>\n",
       "      <th>LabelName</th>\n",
       "      <th>DisplayName</th>\n",
       "    </tr>\n",
       "  </thead>\n",
       "  <tbody>\n",
       "    <tr>\n",
       "      <th>0</th>\n",
       "      <td>/m/014j1m</td>\n",
       "      <td>Apple</td>\n",
       "    </tr>\n",
       "    <tr>\n",
       "      <th>1</th>\n",
       "      <td>/m/0hqkz</td>\n",
       "      <td>Grapefruit</td>\n",
       "    </tr>\n",
       "    <tr>\n",
       "      <th>2</th>\n",
       "      <td>/m/0cyhj_</td>\n",
       "      <td>Orange (fruit)</td>\n",
       "    </tr>\n",
       "    <tr>\n",
       "      <th>3</th>\n",
       "      <td>/m/07fbm7</td>\n",
       "      <td>Strawberry</td>\n",
       "    </tr>\n",
       "    <tr>\n",
       "      <th>4</th>\n",
       "      <td>/m/07j87</td>\n",
       "      <td>Tomato</td>\n",
       "    </tr>\n",
       "  </tbody>\n",
       "</table>\n",
       "</div>"
      ],
      "text/plain": [
       "   LabelName     DisplayName\n",
       "0  /m/014j1m           Apple\n",
       "1   /m/0hqkz      Grapefruit\n",
       "2  /m/0cyhj_  Orange (fruit)\n",
       "3  /m/07fbm7      Strawberry\n",
       "4   /m/07j87          Tomato"
      ]
     },
     "execution_count": 15,
     "metadata": {},
     "output_type": "execute_result"
    }
   ],
   "source": [
    "classes_df = classes_df[classes_df.DisplayName.isin(class_names)].reset_index(drop=True)\n",
    "\n",
    "classes_df"
   ]
  },
  {
   "cell_type": "code",
   "execution_count": 20,
   "id": "02cccdea-f221-414d-bc77-a7a8e699552f",
   "metadata": {
    "tags": []
   },
   "outputs": [],
   "source": [
    "def read_meta_csv(base_dir, data_split, classes_df):\n",
    "    csv_path = os.path.join(base_dir, f\"{data_split}-annotations-object-segmentation.csv\")\n",
    "    meta_df = pd.read_csv(csv_path)\n",
    "    meta_df = meta_df.merge(\n",
    "        classes_df,\n",
    "        on=\"LabelName\",\n",
    "    )[[\"MaskPath\", \"ImageID\", \"BoxID\", \"DisplayName\"]]\n",
    "    meta_df = meta_df[meta_df.ImageID.str.startswith(\"0\")]\n",
    "    meta_df[\"data_split\"] = data_split\n",
    "    meta_df[\"image_path\"] = meta_df[\"data_split\"] + \"/\" + meta_df[\"ImageID\"]\n",
    "    return meta_df"
   ]
  },
  {
   "cell_type": "code",
   "execution_count": 21,
   "id": "3cb959b2-2396-4f8b-93bb-711b08b97e64",
   "metadata": {
    "tags": []
   },
   "outputs": [],
   "source": [
    "train_meta_df = read_meta_csv(\"../data/meta\", \"train\", classes_df)\n",
    "validation_meta_df = read_meta_csv(\"../data/meta\", \"validation\", classes_df)\n",
    "test_meta_df = read_meta_csv(\"../data/meta\", \"test\", classes_df)"
   ]
  },
  {
   "cell_type": "code",
   "execution_count": 28,
   "id": "757946f5-d790-4d67-978e-06d9d703f174",
   "metadata": {},
   "outputs": [
    {
     "name": "stdout",
     "output_type": "stream",
     "text": [
      "Downloading images: 100%|█████████████████████| 645/645 [00:17<00:00, 37.84it/s]\n"
     ]
    }
   ],
   "source": [
    "train_meta_df[[\"image_path\"]].drop_duplicates().to_csv(\n",
    "    \"images_to_download.csv\",\n",
    "    index=False,\n",
    "    header=False,\n",
    ")\n",
    "\n",
    "!python ../python/downloader.py \\\n",
    "    --num_processes 20 \\\n",
    "    --download_folder ../data/images/train/ \\\n",
    "    images_to_download.csv"
   ]
  },
  {
   "cell_type": "code",
   "execution_count": 37,
   "id": "41cf8a3c-b0f4-41cc-86eb-53c78029b1ea",
   "metadata": {},
   "outputs": [
    {
     "name": "stdout",
     "output_type": "stream",
     "text": [
      "Downloading images: 100%|███████████████████████| 11/11 [00:01<00:00,  9.93it/s]\n"
     ]
    }
   ],
   "source": [
    "validation_meta_df[[\"image_path\"]].drop_duplicates().to_csv(\n",
    "    \"images_to_download.csv\",\n",
    "    index=False,\n",
    "    header=False,\n",
    ")\n",
    "\n",
    "!python ../python/downloader.py \\\n",
    "    --num_processes 20 \\\n",
    "    --download_folder ../data/images/validation/ \\\n",
    "    images_to_download.csv"
   ]
  },
  {
   "cell_type": "code",
   "execution_count": 36,
   "id": "a9138a58-b5d6-4a96-80e3-04de3909e336",
   "metadata": {
    "tags": []
   },
   "outputs": [
    {
     "name": "stdout",
     "output_type": "stream",
     "text": [
      "Downloading images: 100%|███████████████████████| 34/34 [00:01<00:00, 17.80it/s]\n"
     ]
    }
   ],
   "source": [
    "test_meta_df[[\"image_path\"]].drop_duplicates().to_csv(\n",
    "    \"images_to_download.csv\",\n",
    "    index=False,\n",
    "    header=False,\n",
    ")\n",
    "\n",
    "!python ../python/downloader.py \\\n",
    "    --num_processes 20 \\\n",
    "    --download_folder ../data/images/test/ \\\n",
    "    images_to_download.csv"
   ]
  },
  {
   "cell_type": "code",
   "execution_count": 38,
   "id": "a7272e8f-a6c1-40a6-8951-2e9b095c6def",
   "metadata": {
    "tags": []
   },
   "outputs": [],
   "source": [
    "all_images_df = pd.concat([train_meta_df, validation_meta_df, test_meta_df])"
   ]
  },
  {
   "cell_type": "code",
   "execution_count": 39,
   "id": "869e754f-6c4d-4a99-b5dc-75b3d9d1bd15",
   "metadata": {
    "tags": []
   },
   "outputs": [],
   "source": [
    "all_images_df = all_images_df[all_images_df.ImageID.str.startswith(\"0\")]"
   ]
  },
  {
   "cell_type": "code",
   "execution_count": 40,
   "id": "97acfb6f-a354-4de5-b1e2-d001492277dc",
   "metadata": {
    "tags": []
   },
   "outputs": [],
   "source": [
    "all_images_df.to_csv(\"../data/meta/all_images.csv\")"
   ]
  }
 ],
 "metadata": {
  "environment": {
   "kernel": "conda-base-poetry-kernel",
   "name": "workbench-notebooks.m129",
   "type": "gcloud",
   "uri": "us-docker.pkg.dev/deeplearning-platform-release/gcr.io/workbench-notebooks:m129"
  },
  "kernelspec": {
   "display_name": "assignment1-U_XO7eIy-py3.10",
   "language": "python",
   "name": "python3"
  },
  "language_info": {
   "codemirror_mode": {
    "name": "ipython",
    "version": 3
   },
   "file_extension": ".py",
   "mimetype": "text/x-python",
   "name": "python",
   "nbconvert_exporter": "python",
   "pygments_lexer": "ipython3",
   "version": "3.10.16"
  }
 },
 "nbformat": 4,
 "nbformat_minor": 5
}
