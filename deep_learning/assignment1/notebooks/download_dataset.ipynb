{
 "cells": [
  {
   "cell_type": "code",
   "execution_count": 1,
   "id": "c36b8342-9f8f-42f7-a887-3b7de5038789",
   "metadata": {
    "tags": []
   },
   "outputs": [],
   "source": [
    "!mkdir ../data/masks/ --parents\n",
    "!mkdir ../data/meta/ --parents\n",
    "!mkdir ../data/images/ --parents"
   ]
  },
  {
   "cell_type": "markdown",
   "id": "44f3fbc9",
   "metadata": {},
   "source": [
    "## Download input data"
   ]
  },
  {
   "cell_type": "markdown",
   "id": "2fa9a72c",
   "metadata": {},
   "source": [
    "### Masks"
   ]
  },
  {
   "cell_type": "code",
   "execution_count": 2,
   "id": "87df8997",
   "metadata": {
    "tags": []
   },
   "outputs": [],
   "source": [
    "!wget \\\n",
    "  -nv -nc \\\n",
    "  https://storage.googleapis.com/openimages/v5/train-masks/train-masks-0.zip \\\n",
    "  https://storage.googleapis.com/openimages/v5/train-masks/train-masks-1.zip \\\n",
    "  https://storage.googleapis.com/openimages/v5/train-masks/train-masks-2.zip \\\n",
    "  https://storage.googleapis.com/openimages/v5/train-masks/train-masks-3.zip \\\n",
    "  -P ../data/"
   ]
  },
  {
   "cell_type": "code",
   "execution_count": 3,
   "id": "1e49da4b",
   "metadata": {
    "tags": []
   },
   "outputs": [],
   "source": [
    "!wget \\\n",
    "  -nv -nc \\\n",
    "  https://storage.googleapis.com/openimages/v5/validation-masks/validation-masks-0.zip \\\n",
    "  https://storage.googleapis.com/openimages/v5/validation-masks/validation-masks-1.zip \\\n",
    "  https://storage.googleapis.com/openimages/v5/validation-masks/validation-masks-2.zip \\\n",
    "  https://storage.googleapis.com/openimages/v5/validation-masks/validation-masks-3.zip \\\n",
    "  -P ../data/"
   ]
  },
  {
   "cell_type": "code",
   "execution_count": 4,
   "id": "d186533b",
   "metadata": {
    "tags": []
   },
   "outputs": [],
   "source": [
    "!wget \\\n",
    "  -nv -nc \\\n",
    "  https://storage.googleapis.com/openimages/v5/test-masks/test-masks-0.zip \\\n",
    "  https://storage.googleapis.com/openimages/v5/test-masks/test-masks-1.zip \\\n",
    "  https://storage.googleapis.com/openimages/v5/test-masks/test-masks-2.zip \\\n",
    "  https://storage.googleapis.com/openimages/v5/test-masks/test-masks-3.zip \\\n",
    "  -P ../data/"
   ]
  },
  {
   "cell_type": "code",
   "execution_count": 47,
   "id": "0ed7dd3b",
   "metadata": {
    "tags": []
   },
   "outputs": [],
   "source": [
    "!unzip -q -n ../data/train-masks-0.zip -d ../data/masks/train/\n",
    "!unzip -q -n ../data/train-masks-1.zip -d ../data/masks/train/\n",
    "!unzip -q -n ../data/train-masks-2.zip -d ../data/masks/train/\n",
    "!unzip -q -n ../data/train-masks-3.zip -d ../data/masks/train/"
   ]
  },
  {
   "cell_type": "code",
   "execution_count": 49,
   "id": "b48a3658",
   "metadata": {
    "tags": []
   },
   "outputs": [],
   "source": [
    "!unzip -q -n ../data/validation-masks-0.zip -d ../data/masks/validation/\n",
    "!unzip -q -n ../data/validation-masks-1.zip -d ../data/masks/validation/\n",
    "!unzip -q -n ../data/validation-masks-2.zip -d ../data/masks/validation/\n",
    "!unzip -q -n ../data/validation-masks-3.zip -d ../data/masks/validation/"
   ]
  },
  {
   "cell_type": "code",
   "execution_count": 51,
   "id": "a6c0fae7",
   "metadata": {
    "tags": []
   },
   "outputs": [],
   "source": [
    "!unzip -q -n ../data/test-masks-0.zip -d ../data/masks/test/\n",
    "!unzip -q -n ../data/test-masks-1.zip -d ../data/masks/test/\n",
    "!unzip -q -n ../data/test-masks-2.zip -d ../data/masks/test/\n",
    "!unzip -q -n ../data/test-masks-3.zip -d ../data/masks/test/"
   ]
  },
  {
   "cell_type": "markdown",
   "id": "6dd83a63",
   "metadata": {},
   "source": [
    "### Metadata"
   ]
  },
  {
   "cell_type": "code",
   "execution_count": 9,
   "id": "d7ab1512-28e4-46f1-8cba-bd5f4943cda9",
   "metadata": {
    "tags": []
   },
   "outputs": [
    {
     "name": "stdout",
     "output_type": "stream",
     "text": [
      "--2025-04-07 00:19:39--  https://storage.googleapis.com/openimages/v5/train-annotations-object-segmentation.csv\n",
      "Resolving storage.googleapis.com (storage.googleapis.com)... 64.233.167.207, 64.233.166.207, 74.125.71.207, ...\n",
      "Connecting to storage.googleapis.com (storage.googleapis.com)|64.233.167.207|:443... connected.\n",
      "HTTP request sent, awaiting response... 200 OK\n",
      "Length: 806943628 (770M) [text/csv]\n",
      "Saving to: ‘../data/meta/train-annotations-object-segmentation.csv’\n",
      "\n",
      "train-annotations-o 100%[===================>] 769.56M  44.1MB/s    in 18s     \n",
      "\n",
      "2025-04-07 00:19:57 (43.1 MB/s) - ‘../data/meta/train-annotations-object-segmentation.csv’ saved [806943628/806943628]\n",
      "\n"
     ]
    }
   ],
   "source": [
    "!wget \\\n",
    "  https://storage.googleapis.com/openimages/v5/train-annotations-object-segmentation.csv \\\n",
    "  -P ../data/meta/"
   ]
  },
  {
   "cell_type": "code",
   "execution_count": 10,
   "id": "4e00befc-a177-42d0-adc3-3fd94848ecff",
   "metadata": {
    "tags": []
   },
   "outputs": [
    {
     "name": "stdout",
     "output_type": "stream",
     "text": [
      "--2025-04-07 00:19:57--  https://storage.googleapis.com/openimages/v5/validation-annotations-object-segmentation.csv\n",
      "Resolving storage.googleapis.com (storage.googleapis.com)... 64.233.167.207, 64.233.166.207, 74.125.71.207, ...\n",
      "Connecting to storage.googleapis.com (storage.googleapis.com)|64.233.167.207|:443... connected.\n",
      "HTTP request sent, awaiting response... 200 OK\n",
      "Length: 2920821 (2.8M) [text/csv]\n",
      "Saving to: ‘../data/meta/validation-annotations-object-segmentation.csv’\n",
      "\n",
      "validation-annotati 100%[===================>]   2.79M  4.48MB/s    in 0.6s    \n",
      "\n",
      "2025-04-07 00:19:59 (4.48 MB/s) - ‘../data/meta/validation-annotations-object-segmentation.csv’ saved [2920821/2920821]\n",
      "\n"
     ]
    }
   ],
   "source": [
    "!wget \\\n",
    "  https://storage.googleapis.com/openimages/v5/validation-annotations-object-segmentation.csv \\\n",
    "  -P ../data/meta/"
   ]
  },
  {
   "cell_type": "code",
   "execution_count": 11,
   "id": "4ce434b1-0249-4d77-9a1c-ec430f6ce67b",
   "metadata": {
    "tags": []
   },
   "outputs": [
    {
     "name": "stdout",
     "output_type": "stream",
     "text": [
      "--2025-04-07 00:19:59--  https://storage.googleapis.com/openimages/v5/test-annotations-object-segmentation.csv\n",
      "Resolving storage.googleapis.com (storage.googleapis.com)... 64.233.167.207, 64.233.166.207, 74.125.71.207, ...\n",
      "Connecting to storage.googleapis.com (storage.googleapis.com)|64.233.167.207|:443... connected.\n",
      "HTTP request sent, awaiting response... 200 OK\n",
      "Length: 8752779 (8.3M) [text/csv]\n",
      "Saving to: ‘../data/meta/test-annotations-object-segmentation.csv’\n",
      "\n",
      "test-annotations-ob 100%[===================>]   8.35M  10.8MB/s    in 0.8s    \n",
      "\n",
      "2025-04-07 00:20:00 (10.8 MB/s) - ‘../data/meta/test-annotations-object-segmentation.csv’ saved [8752779/8752779]\n",
      "\n"
     ]
    }
   ],
   "source": [
    "!wget \\\n",
    "  https://storage.googleapis.com/openimages/v5/test-annotations-object-segmentation.csv \\\n",
    "  -P ../data/meta/"
   ]
  },
  {
   "cell_type": "code",
   "execution_count": 12,
   "id": "6e8171c9-6f6a-4b87-99b2-a09df169c46a",
   "metadata": {
    "tags": []
   },
   "outputs": [
    {
     "name": "stdout",
     "output_type": "stream",
     "text": [
      "--2025-04-07 00:20:00--  https://storage.googleapis.com/openimages/v7/oidv7-class-descriptions.csv\n",
      "Resolving storage.googleapis.com (storage.googleapis.com)... 64.233.167.207, 64.233.166.207, 74.125.71.207, ...\n",
      "Connecting to storage.googleapis.com (storage.googleapis.com)|64.233.167.207|:443... connected.\n",
      "HTTP request sent, awaiting response... 200 OK\n",
      "Length: 501178 (489K) [text/csv]\n",
      "Saving to: ‘../data/meta/oidv7-class-descriptions.csv’\n",
      "\n",
      "oidv7-class-descrip 100%[===================>] 489.43K  1.21MB/s    in 0.4s    \n",
      "\n",
      "2025-04-07 00:20:01 (1.21 MB/s) - ‘../data/meta/oidv7-class-descriptions.csv’ saved [501178/501178]\n",
      "\n"
     ]
    }
   ],
   "source": [
    "!wget \\\n",
    "    https://storage.googleapis.com/openimages/v7/oidv7-class-descriptions.csv \\\n",
    "    -P ../data/meta/"
   ]
  },
  {
   "cell_type": "code",
   "execution_count": 13,
   "id": "645f8445-f4f5-4a2b-8f4e-e40b0231ae17",
   "metadata": {
    "tags": []
   },
   "outputs": [
    {
     "name": "stdout",
     "output_type": "stream",
     "text": [
      "--2025-04-07 00:20:01--  https://raw.githubusercontent.com/openimages/dataset/master/downloader.py\n",
      "Resolving raw.githubusercontent.com (raw.githubusercontent.com)... 185.199.108.133, 185.199.109.133, 185.199.110.133, ...\n",
      "Connecting to raw.githubusercontent.com (raw.githubusercontent.com)|185.199.108.133|:443... connected.\n",
      "HTTP request sent, awaiting response... 200 OK\n",
      "Length: 4244 (4.1K) [text/plain]\n",
      "Saving to: ‘../python/downloader.py.1’\n",
      "\n",
      "downloader.py.1     100%[===================>]   4.14K  --.-KB/s    in 0s      \n",
      "\n",
      "2025-04-07 00:20:01 (68.4 MB/s) - ‘../python/downloader.py.1’ saved [4244/4244]\n",
      "\n"
     ]
    }
   ],
   "source": [
    "!wget https://raw.githubusercontent.com/openimages/dataset/master/downloader.py \\\n",
    "    -P ../python/"
   ]
  },
  {
   "cell_type": "markdown",
   "id": "53108994-8fe7-43a1-9359-13f6c023c34b",
   "metadata": {},
   "source": [
    "## Load metadata"
   ]
  },
  {
   "cell_type": "code",
   "execution_count": 52,
   "id": "b9760c28-0c2c-4310-ab4d-1f2d96d8c361",
   "metadata": {
    "tags": []
   },
   "outputs": [],
   "source": [
    "import os\n",
    "import pandas as pd"
   ]
  },
  {
   "cell_type": "code",
   "execution_count": 20,
   "id": "e4ebff06-ec23-4440-ac61-00e5eb911a40",
   "metadata": {
    "tags": []
   },
   "outputs": [],
   "source": [
    "class_names = [\"Person\", \"Cat\", \"Dog\", \"Bird\", \"Horse\"]"
   ]
  },
  {
   "cell_type": "code",
   "execution_count": 21,
   "id": "9d0993a6-1e9d-449a-aee3-bd74a6b6abc8",
   "metadata": {
    "tags": []
   },
   "outputs": [],
   "source": [
    "classes_df = pd.read_csv(\"../data/meta/oidv7-class-descriptions.csv\")"
   ]
  },
  {
   "cell_type": "code",
   "execution_count": 22,
   "id": "2268a070-ce82-438a-9a84-1ed64c41f754",
   "metadata": {
    "tags": []
   },
   "outputs": [
    {
     "data": {
      "text/html": [
       "<div>\n",
       "<style scoped>\n",
       "    .dataframe tbody tr th:only-of-type {\n",
       "        vertical-align: middle;\n",
       "    }\n",
       "\n",
       "    .dataframe tbody tr th {\n",
       "        vertical-align: top;\n",
       "    }\n",
       "\n",
       "    .dataframe thead th {\n",
       "        text-align: right;\n",
       "    }\n",
       "</style>\n",
       "<table border=\"1\" class=\"dataframe\">\n",
       "  <thead>\n",
       "    <tr style=\"text-align: right;\">\n",
       "      <th></th>\n",
       "      <th>LabelName</th>\n",
       "      <th>DisplayName</th>\n",
       "    </tr>\n",
       "  </thead>\n",
       "  <tbody>\n",
       "    <tr>\n",
       "      <th>0</th>\n",
       "      <td>/m/015p6</td>\n",
       "      <td>Bird</td>\n",
       "    </tr>\n",
       "    <tr>\n",
       "      <th>1</th>\n",
       "      <td>/m/01yrx</td>\n",
       "      <td>Cat</td>\n",
       "    </tr>\n",
       "    <tr>\n",
       "      <th>2</th>\n",
       "      <td>/m/0bt9lr</td>\n",
       "      <td>Dog</td>\n",
       "    </tr>\n",
       "    <tr>\n",
       "      <th>3</th>\n",
       "      <td>/m/03k3r</td>\n",
       "      <td>Horse</td>\n",
       "    </tr>\n",
       "    <tr>\n",
       "      <th>4</th>\n",
       "      <td>/m/01g317</td>\n",
       "      <td>Person</td>\n",
       "    </tr>\n",
       "  </tbody>\n",
       "</table>\n",
       "</div>"
      ],
      "text/plain": [
       "   LabelName DisplayName\n",
       "0   /m/015p6        Bird\n",
       "1   /m/01yrx         Cat\n",
       "2  /m/0bt9lr         Dog\n",
       "3   /m/03k3r       Horse\n",
       "4  /m/01g317      Person"
      ]
     },
     "execution_count": 22,
     "metadata": {},
     "output_type": "execute_result"
    }
   ],
   "source": [
    "classes_df = classes_df[classes_df.DisplayName.isin(class_names)].reset_index(drop=True)\n",
    "\n",
    "classes_df"
   ]
  },
  {
   "cell_type": "code",
   "execution_count": 23,
   "id": "02cccdea-f221-414d-bc77-a7a8e699552f",
   "metadata": {
    "tags": []
   },
   "outputs": [],
   "source": [
    "def read_meta_csv(base_dir, data_split, classes_df):\n",
    "    csv_path = os.path.join(\n",
    "        base_dir, f\"{data_split}-annotations-object-segmentation.csv\"\n",
    "    )\n",
    "    meta_df = pd.read_csv(csv_path)\n",
    "    meta_df = meta_df.merge(\n",
    "        classes_df,\n",
    "        on=\"LabelName\",\n",
    "    )[[\"MaskPath\", \"ImageID\", \"BoxID\", \"DisplayName\"]]\n",
    "    meta_df = meta_df[meta_df.ImageID.str[0] < \"4\"]\n",
    "    meta_df[\"data_split\"] = data_split\n",
    "    meta_df[\"image_path\"] = meta_df[\"data_split\"] + \"/\" + meta_df[\"ImageID\"]\n",
    "    return meta_df"
   ]
  },
  {
   "cell_type": "code",
   "execution_count": 53,
   "id": "3cb959b2-2396-4f8b-93bb-711b08b97e64",
   "metadata": {
    "tags": []
   },
   "outputs": [],
   "source": [
    "train_meta_df = read_meta_csv(\"../data/meta\", \"train\", classes_df)\n",
    "validation_meta_df = read_meta_csv(\"../data/meta\", \"validation\", classes_df)\n",
    "test_meta_df = read_meta_csv(\"../data/meta\", \"test\", classes_df)"
   ]
  },
  {
   "cell_type": "code",
   "execution_count": 54,
   "id": "f3964f0b-2215-4973-82d8-4060c137f182",
   "metadata": {
    "tags": []
   },
   "outputs": [],
   "source": [
    "train_ids = sum(\n",
    "    train_meta_df.groupby(\"DisplayName\")\n",
    "    .ImageID.aggregate(lambda x: list(set(x))[:1000])\n",
    "    .values,\n",
    "    [],\n",
    ")\n",
    "validation_ids = sum(\n",
    "    validation_meta_df.groupby(\"DisplayName\")\n",
    "    .ImageID.aggregate(lambda x: list(set(x))[:50])\n",
    "    .values,\n",
    "    [],\n",
    ")"
   ]
  },
  {
   "cell_type": "code",
   "execution_count": 55,
   "id": "e2170d8a-0e8f-40cc-acec-0d8412af01b1",
   "metadata": {
    "tags": []
   },
   "outputs": [],
   "source": [
    "train_meta_df = train_meta_df[train_meta_df.ImageID.isin(train_ids)]\n",
    "validation_meta_df = validation_meta_df[validation_meta_df.ImageID.isin(validation_ids)]"
   ]
  },
  {
   "cell_type": "code",
   "execution_count": 56,
   "id": "757946f5-d790-4d67-978e-06d9d703f174",
   "metadata": {
    "tags": []
   },
   "outputs": [
    {
     "name": "stdout",
     "output_type": "stream",
     "text": [
      "Downloading images: 100%|███████████████████| 4977/4977 [01:09<00:00, 71.19it/s]\n"
     ]
    }
   ],
   "source": [
    "train_meta_df[[\"image_path\"]].drop_duplicates().to_csv(\n",
    "    \"images_to_download.csv\",\n",
    "    index=False,\n",
    "    header=False,\n",
    ")\n",
    "\n",
    "!python ../python/downloader.py \\\n",
    "    --num_processes 20 \\\n",
    "    --download_folder ../data/images/train/ \\\n",
    "    images_to_download.csv"
   ]
  },
  {
   "cell_type": "code",
   "execution_count": 57,
   "id": "41cf8a3c-b0f4-41cc-86eb-53c78029b1ea",
   "metadata": {
    "tags": []
   },
   "outputs": [
    {
     "name": "stdout",
     "output_type": "stream",
     "text": [
      "Downloading images: 100%|█████████████████████| 247/247 [00:04<00:00, 60.64it/s]\n"
     ]
    }
   ],
   "source": [
    "validation_meta_df[[\"image_path\"]].drop_duplicates().to_csv(\n",
    "    \"images_to_download.csv\",\n",
    "    index=False,\n",
    "    header=False,\n",
    ")\n",
    "\n",
    "!python ../python/downloader.py \\\n",
    "    --num_processes 20 \\\n",
    "    --download_folder ../data/images/validation/ \\\n",
    "    images_to_download.csv"
   ]
  },
  {
   "cell_type": "code",
   "execution_count": 58,
   "id": "a9138a58-b5d6-4a96-80e3-04de3909e336",
   "metadata": {
    "tags": []
   },
   "outputs": [
    {
     "name": "stdout",
     "output_type": "stream",
     "text": [
      "Downloading images: 100%|█████████████████████| 988/988 [00:14<00:00, 69.08it/s]\n"
     ]
    }
   ],
   "source": [
    "test_meta_df[[\"image_path\"]].drop_duplicates().to_csv(\n",
    "    \"images_to_download.csv\",\n",
    "    index=False,\n",
    "    header=False,\n",
    ")\n",
    "\n",
    "!python ../python/downloader.py \\\n",
    "    --num_processes 20 \\\n",
    "    --download_folder ../data/images/test/ \\\n",
    "    images_to_download.csv"
   ]
  },
  {
   "cell_type": "code",
   "execution_count": 59,
   "id": "a7272e8f-a6c1-40a6-8951-2e9b095c6def",
   "metadata": {
    "tags": []
   },
   "outputs": [],
   "source": [
    "all_images_df = pd.concat([train_meta_df, validation_meta_df, test_meta_df])"
   ]
  },
  {
   "cell_type": "code",
   "execution_count": 60,
   "id": "97acfb6f-a354-4de5-b1e2-d001492277dc",
   "metadata": {
    "tags": []
   },
   "outputs": [],
   "source": [
    "all_images_df.to_csv(\"../data/meta/all_images.csv\")"
   ]
  },
  {
   "cell_type": "code",
   "execution_count": 61,
   "id": "8ab1460f-7962-4c1d-8844-c6791f1283d9",
   "metadata": {
    "tags": []
   },
   "outputs": [
    {
     "data": {
      "text/plain": [
       "'3ffd5eab8f62a0da'"
      ]
     },
     "execution_count": 61,
     "metadata": {},
     "output_type": "execute_result"
    }
   ],
   "source": [
    "all_images_df.ImageID.max()"
   ]
  }
 ],
 "metadata": {
  "environment": {
   "kernel": "conda-env-jupyterlab-poetry-kernel",
   "name": "workbench-notebooks.m126",
   "type": "gcloud",
   "uri": "us-docker.pkg.dev/deeplearning-platform-release/gcr.io/workbench-notebooks:m126"
  },
  "kernelspec": {
   "display_name": "Poetry * (Local)",
   "language": "python",
   "name": "conda-env-jupyterlab-poetry-kernel"
  },
  "language_info": {
   "codemirror_mode": {
    "name": "ipython",
    "version": 3
   },
   "file_extension": ".py",
   "mimetype": "text/x-python",
   "name": "python",
   "nbconvert_exporter": "python",
   "pygments_lexer": "ipython3",
   "version": "3.10.15"
  }
 },
 "nbformat": 4,
 "nbformat_minor": 5
}
