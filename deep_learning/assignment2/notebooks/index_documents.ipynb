{
 "cells": [
  {
   "cell_type": "code",
   "execution_count": 11,
   "id": "400d387c",
   "metadata": {},
   "outputs": [],
   "source": [
    "import logging\n",
    "\n",
    "import chromadb\n",
    "import numpy as np\n",
    "import pandas as pd\n",
    "from chromadb.config import Settings\n",
    "from langchain_chroma import Chroma\n",
    "from langchain_community.embeddings import GPT4AllEmbeddings\n",
    "from langchain_text_splitters import RecursiveCharacterTextSplitter\n",
    "from tqdm import tqdm"
   ]
  },
  {
   "cell_type": "code",
   "execution_count": 2,
   "id": "f8b912fa",
   "metadata": {},
   "outputs": [],
   "source": [
    "logging.basicConfig(level=logging.INFO)"
   ]
  },
  {
   "cell_type": "code",
   "execution_count": 3,
   "id": "126cfaed",
   "metadata": {},
   "outputs": [
    {
     "name": "stderr",
     "output_type": "stream",
     "text": [
      "Failed to load libllamamodel-mainline-cuda.so: dlopen: libcudart.so.11.0: cannot open shared object file: No such file or directory\n",
      "Failed to load libllamamodel-mainline-cuda-avxonly.so: dlopen: libcudart.so.11.0: cannot open shared object file: No such file or directory\n"
     ]
    }
   ],
   "source": [
    "embeddings = GPT4AllEmbeddings(\n",
    "    model_name=\"all-MiniLM-L6-v2.gguf2.f16.gguf\",\n",
    "    n_threads=8,\n",
    ")"
   ]
  },
  {
   "cell_type": "code",
   "execution_count": 4,
   "id": "b72396d7",
   "metadata": {},
   "outputs": [],
   "source": [
    "articles_df = pd.read_parquet(\"../data/input/wikipedia_articles.parquet\")"
   ]
  },
  {
   "cell_type": "code",
   "execution_count": 5,
   "id": "cca190d0",
   "metadata": {},
   "outputs": [],
   "source": [
    "text_splitter = RecursiveCharacterTextSplitter(\n",
    "    chunk_size=1000,\n",
    "    chunk_overlap=200,\n",
    "    separators=[\"\\n\\n\", \"\\n\", \" \", \"\"],\n",
    "    length_function=len,\n",
    ")"
   ]
  },
  {
   "cell_type": "code",
   "execution_count": 6,
   "id": "82d7adfb",
   "metadata": {},
   "outputs": [],
   "source": [
    "documents = text_splitter.create_documents(\n",
    "    articles_df[\"summary\"].tolist(),\n",
    "    metadatas=[\n",
    "        {\"source\": str(row.Index), \"title\": row.title, \"url\": row.url}\n",
    "        for row in articles_df.itertuples()\n",
    "    ],\n",
    ")"
   ]
  },
  {
   "cell_type": "code",
   "execution_count": 7,
   "id": "50921b9a",
   "metadata": {},
   "outputs": [
    {
     "name": "stderr",
     "output_type": "stream",
     "text": [
      "INFO:root:Split 4573 articles into 7873 chunks.\n"
     ]
    }
   ],
   "source": [
    "logging.info(f\"Split {len(articles_df)} articles into {len(documents)} chunks.\")"
   ]
  },
  {
   "cell_type": "code",
   "execution_count": 8,
   "id": "9a4bb344",
   "metadata": {},
   "outputs": [
    {
     "name": "stderr",
     "output_type": "stream",
     "text": [
      "INFO:chromadb.telemetry.product.posthog:Anonymized telemetry enabled. See                     https://docs.trychroma.com/telemetry for more information.\n"
     ]
    }
   ],
   "source": [
    "chroma_client = chromadb.PersistentClient(\n",
    "    path=\"../data/database/wikipedia.db\",\n",
    "    settings=Settings(allow_reset=True),\n",
    ")\n",
    "\n",
    "INDEX_NAME = \"wikipedia-index\"\n",
    "vector_store = Chroma(\n",
    "    client=chroma_client,\n",
    "    collection_name=INDEX_NAME,\n",
    "    embedding_function=embeddings,\n",
    ")"
   ]
  },
  {
   "cell_type": "code",
   "execution_count": 10,
   "id": "75e622ce",
   "metadata": {},
   "outputs": [],
   "source": [
    "# vector_store.reset_collection()"
   ]
  },
  {
   "cell_type": "code",
   "execution_count": null,
   "id": "f34fa0ea",
   "metadata": {},
   "outputs": [
    {
     "name": "stderr",
     "output_type": "stream",
     "text": [
      "Ingesting documents:  23%|██▎       | 18/79 [03:38<11:02, 10.86s/it]"
     ]
    }
   ],
   "source": [
    "document_batch_size = 100\n",
    "document_batches = np.array_split(documents, len(documents) // document_batch_size + 1)\n",
    "\n",
    "for document_batch in tqdm(document_batches, desc=\"Ingesting documents\"):\n",
    "    vector_store.add_documents(document_batch)"
   ]
  },
  {
   "cell_type": "code",
   "execution_count": null,
   "id": "2a0ca628",
   "metadata": {},
   "outputs": [
    {
     "data": {
      "text/plain": [
       "5318"
      ]
     },
     "metadata": {},
     "output_type": "display_data"
    }
   ],
   "source": [
    "vector_store._chroma_collection.count()"
   ]
  },
  {
   "cell_type": "code",
   "execution_count": null,
   "id": "3d2767f2",
   "metadata": {},
   "outputs": [],
   "source": [
    "vector_store.search(\n",
    "    \"donald trump\",\n",
    "    search_type=\"similarity\",\n",
    "    k=5,\n",
    ")"
   ]
  }
 ],
 "metadata": {
  "kernelspec": {
   "display_name": "assignment2-RpA_TLD6-py3.11",
   "language": "python",
   "name": "python3"
  },
  "language_info": {
   "codemirror_mode": {
    "name": "ipython",
    "version": 3
   },
   "file_extension": ".py",
   "mimetype": "text/x-python",
   "name": "python",
   "nbconvert_exporter": "python",
   "pygments_lexer": "ipython3",
   "version": "3.11.0rc1"
  }
 },
 "nbformat": 4,
 "nbformat_minor": 5
}
