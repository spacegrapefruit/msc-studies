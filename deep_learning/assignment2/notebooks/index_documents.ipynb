{
 "cells": [
  {
   "cell_type": "markdown",
   "id": "4b62f428",
   "metadata": {},
   "source": [
    "# Building a Vector Index\n",
    "\n",
    "This notebook uses pre-fetched data to build a vector index using the `langchain` library. The index is built using the `Chroma` vector store and is saved to disk for subsequent querying."
   ]
  },
  {
   "cell_type": "code",
   "execution_count": 11,
   "id": "400d387c",
   "metadata": {},
   "outputs": [],
   "source": [
    "import logging\n",
    "\n",
    "import chromadb\n",
    "import numpy as np\n",
    "import pandas as pd\n",
    "from chromadb.config import Settings\n",
    "from langchain_chroma import Chroma\n",
    "from langchain_community.embeddings import GPT4AllEmbeddings\n",
    "from langchain_text_splitters import RecursiveCharacterTextSplitter\n",
    "from tqdm import tqdm"
   ]
  },
  {
   "cell_type": "code",
   "execution_count": 2,
   "id": "f8b912fa",
   "metadata": {},
   "outputs": [],
   "source": [
    "logging.basicConfig(level=logging.INFO)"
   ]
  },
  {
   "cell_type": "markdown",
   "id": "2b492745",
   "metadata": {},
   "source": [
    "### Configure the model\n",
    "\n",
    "We use the `all-MiniLM-L6` quantized model via GPT4All for local, efficient embeddings."
   ]
  },
  {
   "cell_type": "code",
   "execution_count": 3,
   "id": "126cfaed",
   "metadata": {},
   "outputs": [
    {
     "name": "stderr",
     "output_type": "stream",
     "text": [
      "Failed to load libllamamodel-mainline-cuda.so: dlopen: libcudart.so.11.0: cannot open shared object file: No such file or directory\n",
      "Failed to load libllamamodel-mainline-cuda-avxonly.so: dlopen: libcudart.so.11.0: cannot open shared object file: No such file or directory\n"
     ]
    }
   ],
   "source": [
    "embeddings = GPT4AllEmbeddings(\n",
    "    model_name=\"all-MiniLM-L6-v2.gguf2.f16.gguf\",\n",
    "    n_threads=8,\n",
    ")"
   ]
  },
  {
   "cell_type": "markdown",
   "id": "9180282b",
   "metadata": {},
   "source": [
    "### Load pre-fetched Wikipedia data"
   ]
  },
  {
   "cell_type": "code",
   "execution_count": null,
   "id": "b72396d7",
   "metadata": {},
   "outputs": [
    {
     "name": "stderr",
     "output_type": "stream",
     "text": [
      "INFO:root:Loaded 4573 articles from Parquet.\n"
     ]
    }
   ],
   "source": [
    "articles_df = pd.read_parquet(\"../data/input/wikipedia_articles.parquet\")\n",
    "\n",
    "logging.info(f\"Loaded {len(articles_df)} articles from Parquet.\")"
   ]
  },
  {
   "cell_type": "markdown",
   "id": "1286d2ab",
   "metadata": {},
   "source": [
    "### Split summaries into chunks\n",
    "\n",
    "To improve retrieval precision, let's split each summary into overlapping chunks of ~1000 characters with some overlap. We also preserve metadata like source index, title, and URL."
   ]
  },
  {
   "cell_type": "code",
   "execution_count": null,
   "id": "66f76689",
   "metadata": {},
   "outputs": [],
   "source": [
    "text_splitter = RecursiveCharacterTextSplitter(\n",
    "    chunk_size=1000,\n",
    "    chunk_overlap=200,\n",
    "    separators=[\"\\n\\n\", \"\\n\", \" \", \"\"],\n",
    "    length_function=len,\n",
    ")"
   ]
  },
  {
   "cell_type": "code",
   "execution_count": null,
   "id": "82d7adfb",
   "metadata": {},
   "outputs": [],
   "source": [
    "documents = text_splitter.create_documents(\n",
    "    articles_df[\"summary\"].tolist(),\n",
    "    metadatas=[\n",
    "        {\"source\": str(row.Index), \"title\": row.title, \"url\": row.url}\n",
    "        for row in articles_df.itertuples()\n",
    "    ],\n",
    ")"
   ]
  },
  {
   "cell_type": "markdown",
   "id": "8b61137e",
   "metadata": {},
   "source": [
    "Add the `title` to each chunk to help with retrieval."
   ]
  },
  {
   "cell_type": "code",
   "execution_count": 24,
   "id": "c66f4421",
   "metadata": {},
   "outputs": [],
   "source": [
    "for doc in documents:\n",
    "    doc.page_content = f\"{doc.metadata['title']}\\n{doc.page_content}\""
   ]
  },
  {
   "cell_type": "code",
   "execution_count": 32,
   "id": "50921b9a",
   "metadata": {},
   "outputs": [
    {
     "name": "stderr",
     "output_type": "stream",
     "text": [
      "INFO:root:Split 4573 articles into 7873 chunks.\n"
     ]
    }
   ],
   "source": [
    "logging.info(f\"Split {len(articles_df)} articles into {len(documents)} chunks.\")"
   ]
  },
  {
   "cell_type": "markdown",
   "id": "530898c0",
   "metadata": {},
   "source": [
    "## Build the index\n",
    "\n",
    "### Index configuration\n",
    "\n",
    "The embeddings are automatically computed on ingestion. The vectors are stored in a `Chroma` vector store."
   ]
  },
  {
   "cell_type": "code",
   "execution_count": 33,
   "id": "9a4bb344",
   "metadata": {},
   "outputs": [],
   "source": [
    "chroma_client = chromadb.PersistentClient(\n",
    "    path=\"../data/database/wikipedia.db\",\n",
    "    settings=Settings(allow_reset=True),\n",
    ")\n",
    "\n",
    "INDEX_NAME = \"wikipedia-index\"\n",
    "vector_store = Chroma(\n",
    "    client=chroma_client,\n",
    "    collection_name=INDEX_NAME,\n",
    "    embedding_function=embeddings,\n",
    ")"
   ]
  },
  {
   "cell_type": "markdown",
   "id": "232f51ee",
   "metadata": {},
   "source": [
    "### Load the documents"
   ]
  },
  {
   "cell_type": "code",
   "execution_count": null,
   "id": "62e50848",
   "metadata": {},
   "outputs": [],
   "source": [
    "# vector_store.reset_collection()"
   ]
  },
  {
   "cell_type": "code",
   "execution_count": 39,
   "id": "f34fa0ea",
   "metadata": {},
   "outputs": [
    {
     "name": "stderr",
     "output_type": "stream",
     "text": [
      "Ingesting documents: 100%|██████████| 79/79 [11:09<00:00,  8.48s/it]\n"
     ]
    }
   ],
   "source": [
    "document_batch_size = 100\n",
    "document_batches = np.array_split(documents, len(documents) // document_batch_size + 1)\n",
    "\n",
    "for document_batch in tqdm(document_batches, desc=\"Ingesting documents\"):\n",
    "    vector_store.add_documents(document_batch)"
   ]
  },
  {
   "cell_type": "code",
   "execution_count": 43,
   "id": "2a0ca628",
   "metadata": {},
   "outputs": [
    {
     "name": "stderr",
     "output_type": "stream",
     "text": [
      "INFO:root:Ingested 7873 vectors into 'wikipedia-index'.\n"
     ]
    }
   ],
   "source": [
    "total_vectors = vector_store._chroma_collection.count()\n",
    "logging.info(f\"Ingested {total_vectors} vectors into '{INDEX_NAME}'.\")"
   ]
  },
  {
   "cell_type": "markdown",
   "id": "430690cc",
   "metadata": {},
   "source": [
    "## Perform a similarity search"
   ]
  },
  {
   "cell_type": "code",
   "execution_count": 44,
   "id": "3d2767f2",
   "metadata": {},
   "outputs": [
    {
     "data": {
      "text/plain": [
       "[Document(id='b98d5e99-5c1f-49d8-bff2-84b566762c33', metadata={'source': '0', 'title': 'Donald Trump', 'url': 'https://en.wikipedia.org/wiki/Donald_Trump'}, page_content=\"Donald Trump\\nDonald John Trump (born June 14, 1946) is an American politician, media personality, and businessman who is the 47th president of the United States. A member of the Republican Party, he served as the 45th president from 2017 to 2021.\\nBorn into a wealthy family in the New York City borough of Queens, Trump graduated from the University of Pennsylvania in 1968 with a bachelor's degree in economics. He became the president of his family's real estate business in 1971, renamed it the Trump Organization, and began acquiring and building skyscrapers, hotels, casinos, and golf courses. He launched side ventures, many licensing the Trump name, and filed for six business bankruptcies in the 1990s and 2000s. From 2004 to 2015, he hosted the reality television show The Apprentice, bolstering his fame as a billionaire. Presenting himself as a political outsider, Trump won the 2016 presidential election against the Democratic Party's nominee, Hillary Clinton.\"),\n",
       " Document(id='c359a17b-3173-4ad0-a4aa-4a77cf31766c', metadata={'source': '960', 'title': 'Donald Trump Jr.', 'url': 'https://en.wikipedia.org/wiki/Donald_Trump_Jr.'}, page_content=\"Donald Trump Jr.\\nDonald John Trump Jr. (born December 31, 1977), often nicknamed Don Jr., is an American businessman and political activist. He is the eldest child of U.S. president Donald Trump and his first wife Ivana Trump.\\nTrump serves as a trustee and executive vice president of the Trump Organization, running the company alongside his younger brother Eric. During their father's first presidency, the brothers continued to engage in deals and investments in foreign countries and collect payments at their U.S. properties from foreign governments, despite pledging not to do so. He also served as a boardroom judge on the reality TV show featuring his father, The Apprentice. In addition, he authored Triggered in 2019 and Liberal Privilege in 2020.\"),\n",
       " Document(id='94079e4b-1cbf-4261-9972-c44109a3841f', metadata={'source': '960', 'title': 'Donald Trump Jr.', 'url': 'https://en.wikipedia.org/wiki/Donald_Trump_Jr.'}, page_content=\"Donald Trump Jr.\\nTrump was active in his father's 2016 presidential campaign. He had a meeting with a Russian lawyer who promised damaging information about the campaign of Hillary Clinton in the 2016 presidential election. Trump campaigned for several Republicans during the 2018 midterm elections. He has promoted several conspiracy theories.\"),\n",
       " Document(id='624a9619-4ec9-4449-9154-69a5f6547d84', metadata={'source': '960', 'title': 'Donald Trump Jr.', 'url': 'https://en.wikipedia.org/wiki/Donald_Trump_Jr.'}, page_content=\"Donald Trump Jr.\\nAt the 2024 Republican National Convention, he led the introductions of JD Vance, who had been selected as Donald Trump's running mate.\"),\n",
       " Document(id='ace146f5-e6a3-4cbf-90ce-9f1969d2c85d', metadata={'source': '0', 'title': 'Donald Trump', 'url': 'https://en.wikipedia.org/wiki/Donald_Trump'}, page_content='Donald Trump\\nand obstruction of Congress, and in 2021 for incitement of insurrection; the Senate acquitted him both times. After his first term, scholars and historians ranked him as one of the worst presidents in American history.')]"
      ]
     },
     "execution_count": 44,
     "metadata": {},
     "output_type": "execute_result"
    }
   ],
   "source": [
    "vector_store.search(\n",
    "    \"donald trump\",\n",
    "    search_type=\"similarity\",\n",
    "    k=5,\n",
    ")"
   ]
  }
 ],
 "metadata": {
  "kernelspec": {
   "display_name": "assignment2-RpA_TLD6-py3.11",
   "language": "python",
   "name": "python3"
  },
  "language_info": {
   "codemirror_mode": {
    "name": "ipython",
    "version": 3
   },
   "file_extension": ".py",
   "mimetype": "text/x-python",
   "name": "python",
   "nbconvert_exporter": "python",
   "pygments_lexer": "ipython3",
   "version": "3.11.0rc1"
  }
 },
 "nbformat": 4,
 "nbformat_minor": 5
}
