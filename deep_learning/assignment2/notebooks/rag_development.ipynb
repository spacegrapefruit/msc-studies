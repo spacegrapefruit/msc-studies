{
 "cells": [
  {
   "cell_type": "markdown",
   "id": "b6b4ce37",
   "metadata": {},
   "source": [
    "# RAG pipeline development"
   ]
  },
  {
   "cell_type": "code",
   "execution_count": 9,
   "id": "9a982e37",
   "metadata": {},
   "outputs": [],
   "source": [
    "import json\n",
    "import logging\n",
    "\n",
    "import chromadb\n",
    "import pandas as pd\n",
    "\n",
    "from chromadb.config import Settings\n",
    "from IPython.display import Image, display\n",
    "from langchain_chroma import Chroma\n",
    "from langchain_community.embeddings import GPT4AllEmbeddings\n",
    "from langchain_community.llms.gpt4all import GPT4All\n",
    "from langchain_core.documents import Document\n",
    "from langchain_core.prompts import ChatPromptTemplate\n",
    "from langgraph.graph import START, StateGraph\n",
    "from typing_extensions import List, TypedDict"
   ]
  },
  {
   "cell_type": "code",
   "execution_count": 3,
   "id": "00644e01",
   "metadata": {},
   "outputs": [],
   "source": [
    "logging.basicConfig(level=logging.INFO)\n",
    "\n",
    "pd.options.display.max_colwidth = 200"
   ]
  },
  {
   "cell_type": "code",
   "execution_count": 12,
   "id": "6416d2cd",
   "metadata": {},
   "outputs": [],
   "source": [
    "NEWLINE = \"\\n\""
   ]
  },
  {
   "cell_type": "code",
   "execution_count": 4,
   "id": "0c80a633",
   "metadata": {},
   "outputs": [
    {
     "name": "stderr",
     "output_type": "stream",
     "text": [
      "Failed to load libllamamodel-mainline-cuda.so: dlopen: libcudart.so.11.0: cannot open shared object file: No such file or directory\n",
      "Failed to load libllamamodel-mainline-cuda-avxonly.so: dlopen: libcudart.so.11.0: cannot open shared object file: No such file or directory\n"
     ]
    }
   ],
   "source": [
    "llm = GPT4All(\n",
    "    model=\"Llama-3.2-1B-Instruct-Q4_0.gguf\",\n",
    "    allow_download=True,\n",
    "    n_threads=8,\n",
    ")"
   ]
  },
  {
   "cell_type": "code",
   "execution_count": 5,
   "id": "04e1c55a",
   "metadata": {},
   "outputs": [],
   "source": [
    "embeddings = GPT4AllEmbeddings(\n",
    "    model_name=\"all-MiniLM-L6-v2.gguf2.f16.gguf\",\n",
    "    n_threads=8,\n",
    ")"
   ]
  },
  {
   "cell_type": "code",
   "execution_count": 6,
   "id": "81a98f30",
   "metadata": {},
   "outputs": [
    {
     "name": "stderr",
     "output_type": "stream",
     "text": [
      "INFO:chromadb.telemetry.product.posthog:Anonymized telemetry enabled. See                     https://docs.trychroma.com/telemetry for more information.\n"
     ]
    }
   ],
   "source": [
    "chroma_client = chromadb.PersistentClient(\n",
    "    path=\"../data/database/wikipedia.db\",\n",
    "    settings=Settings(allow_reset=True),\n",
    ")\n",
    "\n",
    "INDEX_NAME = \"wikipedia-index\"\n",
    "vector_store = Chroma(\n",
    "    client=chroma_client,\n",
    "    collection_name=INDEX_NAME,\n",
    "    embedding_function=embeddings,\n",
    ")"
   ]
  },
  {
   "cell_type": "code",
   "execution_count": 7,
   "id": "88ff7b6c",
   "metadata": {},
   "outputs": [
    {
     "data": {
      "text/plain": [
       "7873"
      ]
     },
     "execution_count": 7,
     "metadata": {},
     "output_type": "execute_result"
    }
   ],
   "source": [
    "vector_store._chroma_collection.count()"
   ]
  },
  {
   "cell_type": "markdown",
   "id": "8dfca86e",
   "metadata": {},
   "source": [
    "## Building a RAG pipeline"
   ]
  },
  {
   "cell_type": "code",
   "execution_count": 49,
   "id": "177f8817",
   "metadata": {},
   "outputs": [],
   "source": [
    "prompt_template = \"\"\"Answer the question based only on the retrieved documents.\n",
    "Cite the source of the information in the format [source: doc1].\n",
    "If the answer is not in the context, say \"I don't know\".\n",
    "\n",
    "Retrieved documents::\n",
    "{context}\n",
    "\n",
    "Question: {question}\n",
    "\n",
    "Answer: \"\"\"\n",
    "\n",
    "prompt = ChatPromptTemplate.from_template(prompt_template)"
   ]
  },
  {
   "cell_type": "code",
   "execution_count": 50,
   "id": "93263318",
   "metadata": {},
   "outputs": [],
   "source": [
    "class State(TypedDict):\n",
    "    question: str\n",
    "    context: List[Document]\n",
    "    answer: str\n",
    "\n",
    "\n",
    "def retrieve(state: State):\n",
    "    retrieved_docs = vector_store.search(\n",
    "        state[\"question\"],\n",
    "        search_type=\"similarity\",\n",
    "        k=5,\n",
    "    )\n",
    "    logging.info(f\"Retrieved {len(retrieved_docs)} documents\")\n",
    "\n",
    "    for i, doc in enumerate(retrieved_docs, start=1):\n",
    "        logging.info(f\"  Document {i}: {doc.metadata['title']}\")\n",
    "        logging.info(f\"  Content: {doc.page_content[:100].replace(NEWLINE, '  ')}...\")\n",
    "\n",
    "    return {\"context\": retrieved_docs}\n",
    "\n",
    "\n",
    "def generate(state: State):\n",
    "    # docs_content = \"\\n\\n\".join(doc.page_content for doc in state[\"context\"])\n",
    "    docs_content = {\n",
    "        f\"[doc{doc_id}]\": {\n",
    "            \"title\": doc.metadata[\"title\"],\n",
    "            \"content\": doc.page_content,\n",
    "        }\n",
    "        for doc_id, doc in enumerate(state[\"context\"])\n",
    "    }\n",
    "    docs_content = json.dumps(docs_content, indent=2)\n",
    "\n",
    "    messages = prompt.invoke({\"question\": state[\"question\"], \"context\": docs_content})\n",
    "    response = llm.invoke(messages)\n",
    "    return {\"answer\": response}"
   ]
  },
  {
   "cell_type": "code",
   "execution_count": 51,
   "id": "9cdb0c62",
   "metadata": {},
   "outputs": [],
   "source": [
    "graph_builder = StateGraph(State).add_sequence([retrieve, generate])\n",
    "graph_builder.add_edge(START, \"retrieve\")\n",
    "graph = graph_builder.compile()"
   ]
  },
  {
   "cell_type": "code",
   "execution_count": 52,
   "id": "e7e0320c",
   "metadata": {},
   "outputs": [
    {
     "data": {
      "image/png": "[encoded data removed]",
      "text/plain": [
       "<IPython.core.display.Image object>"
      ]
     },
     "metadata": {},
     "output_type": "display_data"
    }
   ],
   "source": [
    "display(Image(graph.get_graph().draw_mermaid_png()))"
   ]
  },
  {
   "cell_type": "markdown",
   "id": "e5a2dc66",
   "metadata": {},
   "source": [
    "## Query the RAG pipeline"
   ]
  },
  {
   "cell_type": "code",
   "execution_count": 53,
   "id": "b9bafc01",
   "metadata": {},
   "outputs": [],
   "source": [
    "articles_df = pd.read_parquet(\"../data/input/wikipedia_articles.parquet\")"
   ]
  },
  {
   "cell_type": "code",
   "execution_count": 54,
   "id": "653a44c2",
   "metadata": {},
   "outputs": [
    {
     "data": {
      "text/html": [
       "<div>\n",
       "<style scoped>\n",
       "    .dataframe tbody tr th:only-of-type {\n",
       "        vertical-align: middle;\n",
       "    }\n",
       "\n",
       "    .dataframe tbody tr th {\n",
       "        vertical-align: top;\n",
       "    }\n",
       "\n",
       "    .dataframe thead th {\n",
       "        text-align: right;\n",
       "    }\n",
       "</style>\n",
       "<table border=\"1\" class=\"dataframe\">\n",
       "  <thead>\n",
       "    <tr style=\"text-align: right;\">\n",
       "      <th></th>\n",
       "      <th>title</th>\n",
       "      <th>summary</th>\n",
       "    </tr>\n",
       "  </thead>\n",
       "  <tbody>\n",
       "    <tr>\n",
       "      <th>3895</th>\n",
       "      <td>X</td>\n",
       "      <td>X, or x, is the twenty-fourth letter of the Latin alphabet, used in the modern English alphabet, the alphabets of other western European languages and others worldwide. Its name in English is ex (...</td>\n",
       "    </tr>\n",
       "    <tr>\n",
       "      <th>308</th>\n",
       "      <td>ArmaLite AR-10</td>\n",
       "      <td>The ArmaLite AR-10 is a 7.62×51mm NATO battle rifle designed by Eugene Stoner in the late 1950s and manufactured by ArmaLite (then a division of the Fairchild Aircraft Corporation). When first int...</td>\n",
       "    </tr>\n",
       "    <tr>\n",
       "      <th>3716</th>\n",
       "      <td>Tarsus İdman Yurdu</td>\n",
       "      <td>Tarsus İdman Yurdu is a Turkish sports club based in Tarsus.</td>\n",
       "    </tr>\n",
       "    <tr>\n",
       "      <th>2282</th>\n",
       "      <td>List of Intel Core processors</td>\n",
       "      <td>The following is a list of Intel Core processors. This includes Intel's original Core (Solo/Duo) mobile series based on the Enhanced Pentium M microarchitecture, as well as its Core 2- (Solo/Duo/Q...</td>\n",
       "    </tr>\n",
       "    <tr>\n",
       "      <th>1982</th>\n",
       "      <td>KK Mega Basket</td>\n",
       "      <td>Košarkaški klub Mega Basket (Serbian Cyrillic: Кошаркашки клуб Мега Баскет), currently referred to as Mega Superbet for sponsorship reasons, is a men's professional basketball club based in Belgra...</td>\n",
       "    </tr>\n",
       "  </tbody>\n",
       "</table>\n",
       "</div>"
      ],
      "text/plain": [
       "                              title  \\\n",
       "3895                              X   \n",
       "308                  ArmaLite AR-10   \n",
       "3716             Tarsus İdman Yurdu   \n",
       "2282  List of Intel Core processors   \n",
       "1982                 KK Mega Basket   \n",
       "\n",
       "                                                                                                                                                                                                      summary  \n",
       "3895  X, or x, is the twenty-fourth letter of the Latin alphabet, used in the modern English alphabet, the alphabets of other western European languages and others worldwide. Its name in English is ex (...  \n",
       "308   The ArmaLite AR-10 is a 7.62×51mm NATO battle rifle designed by Eugene Stoner in the late 1950s and manufactured by ArmaLite (then a division of the Fairchild Aircraft Corporation). When first int...  \n",
       "3716                                                                                                                                             Tarsus İdman Yurdu is a Turkish sports club based in Tarsus.  \n",
       "2282  The following is a list of Intel Core processors. This includes Intel's original Core (Solo/Duo) mobile series based on the Enhanced Pentium M microarchitecture, as well as its Core 2- (Solo/Duo/Q...  \n",
       "1982  Košarkaški klub Mega Basket (Serbian Cyrillic: Кошаркашки клуб Мега Баскет), currently referred to as Mega Superbet for sponsorship reasons, is a men's professional basketball club based in Belgra...  "
      ]
     },
     "execution_count": 54,
     "metadata": {},
     "output_type": "execute_result"
    }
   ],
   "source": [
    "articles_df[[\"title\", \"summary\"]].sample(5)"
   ]
  },
  {
   "cell_type": "code",
   "execution_count": 56,
   "id": "dda2e48a",
   "metadata": {},
   "outputs": [
    {
     "name": "stderr",
     "output_type": "stream",
     "text": [
      "INFO:root:Retrieved 5 documents\n",
      "INFO:root:  Document 1: Flush toilet\n",
      "INFO:root:  Content: Flush toilet  Flush toilets are a type of plumbing fixture, and usually incorporate a bend called a t...\n",
      "INFO:root:  Document 2: Flush toilet\n",
      "INFO:root:  Content: Flush toilet  A flush toilet (also known as a flushing toilet, water closet (WC); see also toilet nam...\n",
      "INFO:root:  Document 3: Toilet: Ek Prem Katha\n",
      "INFO:root:  Content: Toilet: Ek Prem Katha  Up until then, the lack of infrastructure led to nearly half of the rural popu...\n",
      "INFO:root:  Document 4: Toilet: Ek Prem Katha\n",
      "INFO:root:  Content: Toilet: Ek Prem Katha  Toilet: Ek Prem Katha (transl. Toilet: A Love   Story) or simply Toilet, is a 2...\n",
      "INFO:root:  Document 5: Toilet Duck\n",
      "INFO:root:  Content: Toilet Duck  The \"Toilet\" moniker has been dropped from the name in the UK and Ireland, and the produ...\n"
     ]
    },
    {
     "name": "stdout",
     "output_type": "stream",
     "text": [
      "\n",
      " A flush toilet (also known as a flushing toilet) is a type of plumbing fixture that disposes of human waste by collecting it in a bowl and then using water to channel it through a drainpipe to another location for treatment. [doc1]\n"
     ]
    }
   ],
   "source": [
    "result = graph.invoke(\n",
    "    {\"question\": \"what's a flush toilet? answer briefly\"},\n",
    ")\n",
    "print()\n",
    "print(result[\"answer\"])"
   ]
  }
 ],
 "metadata": {
  "kernelspec": {
   "display_name": "assignment2-RpA_TLD6-py3.11",
   "language": "python",
   "name": "python3"
  },
  "language_info": {
   "codemirror_mode": {
    "name": "ipython",
    "version": 3
   },
   "file_extension": ".py",
   "mimetype": "text/x-python",
   "name": "python",
   "nbconvert_exporter": "python",
   "pygments_lexer": "ipython3",
   "version": "3.11.0rc1"
  }
 },
 "nbformat": 4,
 "nbformat_minor": 5
}
