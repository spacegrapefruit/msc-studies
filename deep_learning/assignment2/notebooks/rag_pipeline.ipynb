{
 "cells": [
  {
   "cell_type": "markdown",
   "id": "b6b4ce37",
   "metadata": {},
   "source": [
    "# Building a RAG Pipeline\n",
    "\n",
    "This notebook constructs a retrieval-augmented generation (RAG) pipeline using the pre-built vector index of ~5,000 Wikipedia article summaries.\n",
    "\n",
    "The LLM used in this project is a quantized `Llama-3.2-1B-Instruct-Q4_0` model, deployed locally using the `GPT4All` library."
   ]
  },
  {
   "cell_type": "code",
   "execution_count": 1,
   "id": "9a982e37",
   "metadata": {},
   "outputs": [],
   "source": [
    "import json\n",
    "import logging\n",
    "\n",
    "import chromadb\n",
    "import pandas as pd\n",
    "\n",
    "from chromadb.config import Settings\n",
    "from IPython.display import Image, display\n",
    "from langchain_chroma import Chroma\n",
    "from langchain_community.embeddings import GPT4AllEmbeddings\n",
    "from langchain_community.llms.gpt4all import GPT4All\n",
    "from langchain_core.documents import Document\n",
    "from langchain_core.prompts import ChatPromptTemplate\n",
    "from langgraph.graph import START, StateGraph\n",
    "from typing_extensions import List, TypedDict"
   ]
  },
  {
   "cell_type": "code",
   "execution_count": 2,
   "id": "00644e01",
   "metadata": {},
   "outputs": [],
   "source": [
    "logging.basicConfig(level=logging.INFO)\n",
    "\n",
    "pd.options.display.max_colwidth = 200"
   ]
  },
  {
   "cell_type": "markdown",
   "id": "254f18f3",
   "metadata": {},
   "source": [
    "## Initialize the LLM and embedding model"
   ]
  },
  {
   "cell_type": "code",
   "execution_count": 3,
   "id": "04e1c55a",
   "metadata": {},
   "outputs": [
    {
     "name": "stderr",
     "output_type": "stream",
     "text": [
      "Failed to load libllamamodel-mainline-cuda.so: dlopen: libcudart.so.11.0: cannot open shared object file: No such file or directory\n",
      "Failed to load libllamamodel-mainline-cuda-avxonly.so: dlopen: libcudart.so.11.0: cannot open shared object file: No such file or directory\n"
     ]
    }
   ],
   "source": [
    "embeddings = GPT4AllEmbeddings(\n",
    "    model_name=\"all-MiniLM-L6-v2.gguf2.f16.gguf\",\n",
    "    n_threads=8,\n",
    ")"
   ]
  },
  {
   "cell_type": "code",
   "execution_count": 4,
   "id": "ca43f720",
   "metadata": {},
   "outputs": [],
   "source": [
    "llm = GPT4All(\n",
    "    model=\"Llama-3.2-1B-Instruct-Q4_0.gguf\",\n",
    "    allow_download=True,\n",
    "    n_threads=8,\n",
    ")"
   ]
  },
  {
   "cell_type": "markdown",
   "id": "23577a3c",
   "metadata": {},
   "source": [
    "## Load the Chroma vector store"
   ]
  },
  {
   "cell_type": "code",
   "execution_count": 5,
   "id": "81a98f30",
   "metadata": {},
   "outputs": [
    {
     "name": "stderr",
     "output_type": "stream",
     "text": [
      "INFO:chromadb.telemetry.product.posthog:Anonymized telemetry enabled. See                     https://docs.trychroma.com/telemetry for more information.\n"
     ]
    }
   ],
   "source": [
    "chroma_client = chromadb.PersistentClient(\n",
    "    path=\"../data/database/wikipedia.db\",\n",
    "    settings=Settings(allow_reset=True),\n",
    ")\n",
    "\n",
    "INDEX_NAME = \"wikipedia-index\"\n",
    "vector_store = Chroma(\n",
    "    client=chroma_client,\n",
    "    collection_name=INDEX_NAME,\n",
    "    embedding_function=embeddings,\n",
    ")"
   ]
  },
  {
   "cell_type": "code",
   "execution_count": 6,
   "id": "88ff7b6c",
   "metadata": {},
   "outputs": [
    {
     "data": {
      "text/plain": [
       "7873"
      ]
     },
     "execution_count": 6,
     "metadata": {},
     "output_type": "execute_result"
    }
   ],
   "source": [
    "vector_store._chroma_collection.count()"
   ]
  },
  {
   "cell_type": "markdown",
   "id": "8dfca86e",
   "metadata": {},
   "source": [
    "## Define the RAG prompt template\n",
    "\n",
    "We create a chat prompt that instructs the LLM to answer questions only with retrieved context, citing sources, or admit ignorance."
   ]
  },
  {
   "cell_type": "code",
   "execution_count": 14,
   "id": "177f8817",
   "metadata": {},
   "outputs": [],
   "source": [
    "prompt_template = \"\"\"Answer the question based only on the context.\n",
    "Cite the source of the information in the format [source: doc1].\n",
    "If the answer is not provided in the documents, say \"I don't know.\"\n",
    "\n",
    "Context:\n",
    "{context}\n",
    "\n",
    "Question: {question}\n",
    "\n",
    "Answer: \"\"\"\n",
    "\n",
    "prompt = ChatPromptTemplate.from_template(prompt_template)"
   ]
  },
  {
   "cell_type": "markdown",
   "id": "05f3cb65",
   "metadata": {},
   "source": [
    "### Define the RAG workflow functions\n",
    "\n",
    "We use a `TypedDict` to track state, and write two functions:\n",
    "\n",
    "* `retrieve`: Perform vector similarity search and attach the top-K documents to state.\n",
    "* `generate`: Format retrieved docs into JSON context, invoke the LLM with our prompt, and return the answer."
   ]
  },
  {
   "cell_type": "code",
   "execution_count": 33,
   "id": "93263318",
   "metadata": {},
   "outputs": [],
   "source": [
    "NEWLINE = \"\\n\"\n",
    "\n",
    "\n",
    "class State(TypedDict):\n",
    "    question: str\n",
    "    top_k: int\n",
    "    context: List[Document]\n",
    "    answer: str\n",
    "\n",
    "\n",
    "def retrieve(state: State):\n",
    "    top_k = state.get(\"top_k\", 0)\n",
    "    if top_k > 0:\n",
    "        retrieved_docs = vector_store.search(\n",
    "            state[\"question\"],\n",
    "            search_type=\"similarity\",\n",
    "            k=top_k,\n",
    "        )\n",
    "    else:\n",
    "        retrieved_docs = []\n",
    "    logging.info(f\"Retrieved {len(retrieved_docs)} documents\")\n",
    "\n",
    "    for i, doc in enumerate(retrieved_docs, start=1):\n",
    "        logging.info(f\"  Document {i}: {doc.metadata['title']}\")\n",
    "        logging.info(f\"  Content: {doc.page_content[:100].replace(NEWLINE, '  ')}...\")\n",
    "\n",
    "    return {\"context\": retrieved_docs}\n",
    "\n",
    "\n",
    "def generate(state: State):\n",
    "    # docs_content = \"\\n\\n\".join(doc.page_content for doc in state[\"context\"])\n",
    "    docs_content = {\n",
    "        f\"[doc{doc_id}]\": {\n",
    "            \"title\": doc.metadata[\"title\"],\n",
    "            \"content\": doc.page_content,\n",
    "        }\n",
    "        for doc_id, doc in enumerate(state[\"context\"])\n",
    "    }\n",
    "    docs_content = json.dumps(docs_content, indent=2)\n",
    "\n",
    "    messages = prompt.invoke({\"question\": state[\"question\"], \"context\": docs_content})\n",
    "    response = llm.invoke(messages)\n",
    "    return {\"answer\": response}"
   ]
  },
  {
   "cell_type": "markdown",
   "id": "b5103e69",
   "metadata": {},
   "source": [
    "### Assemble and Visualize the graph"
   ]
  },
  {
   "cell_type": "code",
   "execution_count": 34,
   "id": "9cdb0c62",
   "metadata": {},
   "outputs": [],
   "source": [
    "graph_builder = StateGraph(State).add_sequence([retrieve, generate])\n",
    "graph_builder.add_edge(START, \"retrieve\")\n",
    "graph = graph_builder.compile()"
   ]
  },
  {
   "cell_type": "code",
   "execution_count": 35,
   "id": "e7e0320c",
   "metadata": {},
   "outputs": [
    {
     "data": {
      "image/png": "[encoded data removed]",
      "text/plain": [
       "<IPython.core.display.Image object>"
      ]
     },
     "metadata": {},
     "output_type": "display_data"
    }
   ],
   "source": [
    "display(Image(graph.get_graph().draw_mermaid_png()))"
   ]
  },
  {
   "cell_type": "markdown",
   "id": "e5a2dc66",
   "metadata": {},
   "source": [
    "## Query the RAG pipeline"
   ]
  },
  {
   "cell_type": "markdown",
   "id": "91d88740",
   "metadata": {},
   "source": [
    "Sample content for inspiration:"
   ]
  },
  {
   "cell_type": "code",
   "execution_count": 36,
   "id": "b9bafc01",
   "metadata": {},
   "outputs": [],
   "source": [
    "articles_df = pd.read_parquet(\"../data/input/wikipedia_articles.parquet\")"
   ]
  },
  {
   "cell_type": "code",
   "execution_count": 37,
   "id": "653a44c2",
   "metadata": {},
   "outputs": [
    {
     "data": {
      "text/html": [
       "<div>\n",
       "<style scoped>\n",
       "    .dataframe tbody tr th:only-of-type {\n",
       "        vertical-align: middle;\n",
       "    }\n",
       "\n",
       "    .dataframe tbody tr th {\n",
       "        vertical-align: top;\n",
       "    }\n",
       "\n",
       "    .dataframe thead th {\n",
       "        text-align: right;\n",
       "    }\n",
       "</style>\n",
       "<table border=\"1\" class=\"dataframe\">\n",
       "  <thead>\n",
       "    <tr style=\"text-align: right;\">\n",
       "      <th></th>\n",
       "      <th>title</th>\n",
       "      <th>summary</th>\n",
       "    </tr>\n",
       "  </thead>\n",
       "  <tbody>\n",
       "    <tr>\n",
       "      <th>3226</th>\n",
       "      <td>PJ Harvey</td>\n",
       "      <td>Polly Jean Harvey  (born 9 October 1969) is an English singer-songwriter. Primarily known as a vocalist and guitarist, she is also proficient with a wide range of instruments.\\nHarvey began her ca...</td>\n",
       "    </tr>\n",
       "    <tr>\n",
       "      <th>1326</th>\n",
       "      <td>GK Software</td>\n",
       "      <td>GK Software SE is a technology company headquartered in Schöneck/Vogtland. The company specializes in software and services for the operation of large retail company branches. GK employs about 1,2...</td>\n",
       "    </tr>\n",
       "    <tr>\n",
       "      <th>4122</th>\n",
       "      <td>W. G. Sebald</td>\n",
       "      <td>Winfried Georg Sebald (18 May 1944 – 14 December 2001), known as W. G. Sebald or (as he preferred) Max Sebald, was a German writer and academic. At the time of his death at the age of 57, he was a...</td>\n",
       "    </tr>\n",
       "    <tr>\n",
       "      <th>662</th>\n",
       "      <td>Canon EF-S lens mount</td>\n",
       "      <td>The Canon EF-S lens mount is a derivative of the EF lens mount created for some Canon digital single-lens reflex cameras with APS-C sized image sensors. It was released in 2003. Cameras with the E...</td>\n",
       "    </tr>\n",
       "    <tr>\n",
       "      <th>1745</th>\n",
       "      <td>International unit</td>\n",
       "      <td>In pharmacology, the international unit (IU) is a unit of measurement for the effect or biological activity of a substance, for the purpose of easier comparison across similar forms of substances....</td>\n",
       "    </tr>\n",
       "  </tbody>\n",
       "</table>\n",
       "</div>"
      ],
      "text/plain": [
       "                      title  \\\n",
       "3226              PJ Harvey   \n",
       "1326            GK Software   \n",
       "4122           W. G. Sebald   \n",
       "662   Canon EF-S lens mount   \n",
       "1745     International unit   \n",
       "\n",
       "                                                                                                                                                                                                      summary  \n",
       "3226  Polly Jean Harvey  (born 9 October 1969) is an English singer-songwriter. Primarily known as a vocalist and guitarist, she is also proficient with a wide range of instruments.\\nHarvey began her ca...  \n",
       "1326  GK Software SE is a technology company headquartered in Schöneck/Vogtland. The company specializes in software and services for the operation of large retail company branches. GK employs about 1,2...  \n",
       "4122  Winfried Georg Sebald (18 May 1944 – 14 December 2001), known as W. G. Sebald or (as he preferred) Max Sebald, was a German writer and academic. At the time of his death at the age of 57, he was a...  \n",
       "662   The Canon EF-S lens mount is a derivative of the EF lens mount created for some Canon digital single-lens reflex cameras with APS-C sized image sensors. It was released in 2003. Cameras with the E...  \n",
       "1745  In pharmacology, the international unit (IU) is a unit of measurement for the effect or biological activity of a substance, for the purpose of easier comparison across similar forms of substances....  "
      ]
     },
     "execution_count": 37,
     "metadata": {},
     "output_type": "execute_result"
    }
   ],
   "source": [
    "articles_df[[\"title\", \"summary\"]].sample(5)"
   ]
  },
  {
   "cell_type": "markdown",
   "id": "d6485db1",
   "metadata": {},
   "source": [
    "### Example: What's a flush toilet?"
   ]
  },
  {
   "cell_type": "code",
   "execution_count": 38,
   "id": "dda2e48a",
   "metadata": {},
   "outputs": [
    {
     "name": "stderr",
     "output_type": "stream",
     "text": [
      "INFO:root:Retrieved 0 documents\n"
     ]
    },
    {
     "name": "stdout",
     "output_type": "stream",
     "text": [
      "\n",
      " A flush toilet is an ancient type of toilet that uses water to remove waste from human excrement. It typically consists of a bowl with a seat and lid, connected by pipes to a drainage system.\n",
      "\n",
      "Source: [source doc1]\n"
     ]
    }
   ],
   "source": [
    "result = graph.invoke(\n",
    "    {\n",
    "        \"question\": \"what's a flush toilet? answer briefly\",\n",
    "        \"top_k\": 3,\n",
    "    },\n",
    ")\n",
    "print()\n",
    "print(result[\"answer\"])"
   ]
  },
  {
   "cell_type": "markdown",
   "id": "e3e58e39",
   "metadata": {},
   "source": [
    "### Example: Is it centimeter or centimetre?"
   ]
  },
  {
   "cell_type": "code",
   "execution_count": 40,
   "id": "60b09f5c",
   "metadata": {},
   "outputs": [
    {
     "name": "stderr",
     "output_type": "stream",
     "text": [
      "INFO:root:Retrieved 1 documents\n",
      "INFO:root:  Document 1: Centimetre\n",
      "INFO:root:  Content: Centimetre  A centimetre or centimeter (US/Philippine spelling), with SI symbol cm, is a unit of leng...\n"
     ]
    },
    {
     "name": "stdout",
     "output_type": "stream",
     "text": [
      "\n",
      "1\n",
      "I don't know.\n",
      "\n",
      "Source:\n",
      "[doc0] = [source doc]\n",
      "Note: The source document \"doc0\" contains information about units in different systems, including SI and CGS. However, the specific definition of a unit like centimeter depends on its context within that system. In this case, it is mentioned as being equal to one hundredth of a meter (1 cm = 100 m). Therefore, I will provide an answer based only on this information.\n",
      "\n",
      "[doc0] {\n",
      "  \"title\": \"Centimetre\",\n",
      "  \"content\": \"A centimeter or centi\\u20601/100\\u2060 is the SI symbol for one hundredth of a metre. It can also be expressed as \\u2061 cm, where 'cm' stands for centimetres.\"\n",
      "}\n",
      "\n",
      "[doc0] {\n",
      "  \"title\": \"\\u20601/100\\u2060\",\n",
      "  \"content\": \"The unit name in CGS is centimeter.\\nIn the International System of Units (SI), it equals one hundredth of a metre. The term 'centimetre' was used as an alternative to \\u20601/100\\u2060, but this usage has largely been replaced by SI prefixes like milli- and\n"
     ]
    }
   ],
   "source": [
    "result = graph.invoke(\n",
    "    {\n",
    "        \"question\": \"is it centimeter or centimetre\",\n",
    "        \"top_k\": 1,\n",
    "    },\n",
    ")\n",
    "print()\n",
    "print(result[\"answer\"])"
   ]
  }
 ],
 "metadata": {
  "kernelspec": {
   "display_name": "assignment2-RpA_TLD6-py3.11",
   "language": "python",
   "name": "python3"
  },
  "language_info": {
   "codemirror_mode": {
    "name": "ipython",
    "version": 3
   },
   "file_extension": ".py",
   "mimetype": "text/x-python",
   "name": "python",
   "nbconvert_exporter": "python",
   "pygments_lexer": "ipython3",
   "version": "3.11.0rc1"
  }
 },
 "nbformat": 4,
 "nbformat_minor": 5
}
