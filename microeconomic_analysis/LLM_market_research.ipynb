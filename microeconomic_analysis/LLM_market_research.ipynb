{
 "cells": [
  {
   "cell_type": "markdown",
   "metadata": {},
   "source": [
    "# Experiment: Estimating the Willingness to Pay using LLMs"
   ]
  },
  {
   "cell_type": "code",
   "execution_count": 290,
   "metadata": {},
   "outputs": [],
   "source": [
    "import random\n",
    "from concurrent.futures import ThreadPoolExecutor\n",
    "from itertools import combinations, product\n",
    "\n",
    "import dotenv\n",
    "import pandas as pd\n",
    "import statsmodels.api as sm\n",
    "import statsmodels.formula.api as smf\n",
    "from langchain.chat_models import AzureChatOpenAI\n",
    "from langchain_core.prompts import PromptTemplate\n",
    "from matplotlib import pyplot as plt\n",
    "from tqdm import tqdm\n",
    "\n",
    "dotenv.load_dotenv(\"../.env\")\n",
    "\n",
    "\n",
    "llm = AzureChatOpenAI(\n",
    "    azure_deployment=\"emi-gpt-4o-mini\",\n",
    "    temperature=1.0,  # as per the paper\n",
    "    max_tokens=200,\n",
    "    # logprobs=True,\n",
    ")"
   ]
  },
  {
   "cell_type": "markdown",
   "metadata": {},
   "source": [
    "Define the attributes of the product as follows:"
   ]
  },
  {
   "cell_type": "code",
   "execution_count": null,
   "metadata": {},
   "outputs": [],
   "source": [
    "incomes = [30000, 100000]\n",
    "flavors = [\"mint\", \"cinnamon\"]\n",
    "prices = [1.99, 2.39, 2.79, 3.19, 3.59]\n",
    "brands = [\"Colgate\"]  # fixed brand for simplicity"
   ]
  },
  {
   "cell_type": "code",
   "execution_count": 65,
   "metadata": {},
   "outputs": [
    {
     "data": {
      "text/html": [
       "<div>\n",
       "<style scoped>\n",
       "    .dataframe tbody tr th:only-of-type {\n",
       "        vertical-align: middle;\n",
       "    }\n",
       "\n",
       "    .dataframe tbody tr th {\n",
       "        vertical-align: top;\n",
       "    }\n",
       "\n",
       "    .dataframe thead th {\n",
       "        text-align: right;\n",
       "    }\n",
       "</style>\n",
       "<table border=\"1\" class=\"dataframe\">\n",
       "  <thead>\n",
       "    <tr style=\"text-align: right;\">\n",
       "      <th></th>\n",
       "      <th>flavor</th>\n",
       "      <th>price</th>\n",
       "      <th>brand</th>\n",
       "    </tr>\n",
       "  </thead>\n",
       "  <tbody>\n",
       "    <tr>\n",
       "      <th>0</th>\n",
       "      <td>mint</td>\n",
       "      <td>1.99</td>\n",
       "      <td>Colgate</td>\n",
       "    </tr>\n",
       "    <tr>\n",
       "      <th>1</th>\n",
       "      <td>mint</td>\n",
       "      <td>2.39</td>\n",
       "      <td>Colgate</td>\n",
       "    </tr>\n",
       "    <tr>\n",
       "      <th>2</th>\n",
       "      <td>mint</td>\n",
       "      <td>2.79</td>\n",
       "      <td>Colgate</td>\n",
       "    </tr>\n",
       "    <tr>\n",
       "      <th>3</th>\n",
       "      <td>mint</td>\n",
       "      <td>3.19</td>\n",
       "      <td>Colgate</td>\n",
       "    </tr>\n",
       "    <tr>\n",
       "      <th>4</th>\n",
       "      <td>mint</td>\n",
       "      <td>3.59</td>\n",
       "      <td>Colgate</td>\n",
       "    </tr>\n",
       "    <tr>\n",
       "      <th>5</th>\n",
       "      <td>cinnamon</td>\n",
       "      <td>1.99</td>\n",
       "      <td>Colgate</td>\n",
       "    </tr>\n",
       "    <tr>\n",
       "      <th>6</th>\n",
       "      <td>cinnamon</td>\n",
       "      <td>2.39</td>\n",
       "      <td>Colgate</td>\n",
       "    </tr>\n",
       "    <tr>\n",
       "      <th>7</th>\n",
       "      <td>cinnamon</td>\n",
       "      <td>2.79</td>\n",
       "      <td>Colgate</td>\n",
       "    </tr>\n",
       "    <tr>\n",
       "      <th>8</th>\n",
       "      <td>cinnamon</td>\n",
       "      <td>3.19</td>\n",
       "      <td>Colgate</td>\n",
       "    </tr>\n",
       "    <tr>\n",
       "      <th>9</th>\n",
       "      <td>cinnamon</td>\n",
       "      <td>3.59</td>\n",
       "      <td>Colgate</td>\n",
       "    </tr>\n",
       "  </tbody>\n",
       "</table>\n",
       "</div>"
      ],
      "text/plain": [
       "     flavor  price    brand\n",
       "0      mint   1.99  Colgate\n",
       "1      mint   2.39  Colgate\n",
       "2      mint   2.79  Colgate\n",
       "3      mint   3.19  Colgate\n",
       "4      mint   3.59  Colgate\n",
       "5  cinnamon   1.99  Colgate\n",
       "6  cinnamon   2.39  Colgate\n",
       "7  cinnamon   2.79  Colgate\n",
       "8  cinnamon   3.19  Colgate\n",
       "9  cinnamon   3.59  Colgate"
      ]
     },
     "execution_count": 65,
     "metadata": {},
     "output_type": "execute_result"
    }
   ],
   "source": [
    "product_configurations = [\n",
    "    {\"flavor\": flavor, \"price\": price, \"brand\": brand}\n",
    "    for flavor, price, brand in product(flavors, prices, brands)\n",
    "]\n",
    "pd.DataFrame(product_configurations)"
   ]
  },
  {
   "cell_type": "code",
   "execution_count": null,
   "metadata": {},
   "outputs": [],
   "source": [
    "SYSTEM_TEMPLATE = PromptTemplate.from_template(\"\"\"\n",
    "You are a customer with an annual income of ${income}. You are selected at random while shopping for toothpaste to participate in a survey.\n",
    "The interviewer will describe the options you saw while shopping and ask you to report which option you chose to purchase.\n",
    "Whenever two options are shown, you can also choose a third option which is not to purchase anything that day.\n",
    "\"\"\".strip())\n",
    "\n",
    "USER_TEMPLATE = PromptTemplate.from_template(\"\"\"\n",
    "While shopping, you see two options:\n",
    "1. {option1[brand]} toothpaste, flavor: {option1[flavor]}, price: ${option1[price]:.2f}\n",
    "2. {option2[brand]} toothpaste, flavor: {option2[flavor]}, price: ${option2[price]:.2f}\n",
    "You also have the option not to purchase toothpaste.\n",
    "Did you purchase either of the available toothpaste options? If so, which one?\n",
    "Provide the selected option # first (1, 2 or 3), then provide a brief explanation of why you chose that option.\n",
    "\"\"\".strip())\n",
    "\n",
    "# Mention the number of the option you chose first, then provide a brief explanation of why you chose that option."
   ]
  },
  {
   "cell_type": "markdown",
   "metadata": {},
   "source": [
    "Example of the prompt."
   ]
  },
  {
   "cell_type": "code",
   "execution_count": 307,
   "metadata": {},
   "outputs": [
    {
     "name": "stdout",
     "output_type": "stream",
     "text": [
      "You are a customer with an annual income of $30000. You are selected at random while shopping for toothpaste to participate in a survey.\n",
      "The interviewer will describe the options you saw while shopping and ask you to report which option you chose to purchase.\n",
      "Whenever two options are shown, you can also choose a third option which is not to purchase anything that day.\n",
      "\n",
      "While shopping, you see two options:\n",
      "1. Colgate toothpaste, flavor: mint, price: $1.99\n",
      "2. Colgate toothpaste, flavor: mint, price: $2.39\n",
      "You also have the option not to purchase toothpaste.\n",
      "Did you purchase either of the available toothpaste options? If so, which one?\n",
      "Provide the selected option # first (1, 2 or 3), then provide a brief explanation of why you chose that option.\n"
     ]
    }
   ],
   "source": [
    "print(SYSTEM_TEMPLATE.format(income=30000), end=\"\\n\\n\")\n",
    "print(USER_TEMPLATE.format(option1=product_configurations[0], option2=product_configurations[1]))"
   ]
  },
  {
   "cell_type": "markdown",
   "metadata": {},
   "source": [
    "Generate all combinations for the conjoint sets (in a simple manner)"
   ]
  },
  {
   "cell_type": "code",
   "execution_count": 271,
   "metadata": {},
   "outputs": [
    {
     "data": {
      "text/plain": [
       "1000"
      ]
     },
     "execution_count": 271,
     "metadata": {},
     "output_type": "execute_result"
    }
   ],
   "source": [
    "pairs = [\n",
    "    {\n",
    "        \"income\": income,\n",
    "        \"option1\": option1,\n",
    "        \"option2\": option2,\n",
    "    }\n",
    "    for income in incomes\n",
    "    for option1, option2 in product(product_configurations, product_configurations)\n",
    "    for _ in range(10)\n",
    "    if (option1[\"flavor\"], option1[\"brand\"]) != (option2[\"flavor\"], option2[\"brand\"])\n",
    "]\n",
    "len(pairs)"
   ]
  },
  {
   "cell_type": "markdown",
   "metadata": {},
   "source": [
    "### Execute the prompts"
   ]
  },
  {
   "cell_type": "code",
   "execution_count": 273,
   "metadata": {},
   "outputs": [],
   "source": [
    "def run_prompt(messages):\n",
    "    response = llm.invoke(messages)\n",
    "    total_tokens = response.response_metadata[\"token_usage\"][\"total_tokens\"]\n",
    "    return {\n",
    "        \"response\": response.content,\n",
    "        \"total_tokens\": total_tokens,\n",
    "    }"
   ]
  },
  {
   "cell_type": "code",
   "execution_count": 274,
   "metadata": {},
   "outputs": [
    {
     "name": "stderr",
     "output_type": "stream",
     "text": [
      "100%|██████████| 1000/1000 [00:00<00:00, 128754.42it/s]\n"
     ]
    }
   ],
   "source": [
    "with ThreadPoolExecutor(max_workers=40) as executor:\n",
    "    results = executor.map(\n",
    "        run_prompt,\n",
    "        [\n",
    "            [\n",
    "                (\"system\", SYSTEM_TEMPLATE.format(**pair)),\n",
    "                (\"user\", USER_TEMPLATE.format(**pair)),\n",
    "            ]\n",
    "            for pair in pairs\n",
    "        ],\n",
    "    )\n",
    "\n",
    "results = list(tqdm(results, total=len(pairs)))\n",
    "# results"
   ]
  },
  {
   "cell_type": "code",
   "execution_count": 330,
   "metadata": {},
   "outputs": [
    {
     "data": {
      "text/plain": [
       "{'response': '1. I chose option 1, the Colgate toothpaste in cinnamon flavor priced at $1.99. Given my annual income, I prefer to save money where I can, and the cinnamon flavor was the cheaper option, which appealed to me.',\n",
       " 'total_tokens': 229}"
      ]
     },
     "execution_count": 330,
     "metadata": {},
     "output_type": "execute_result"
    }
   ],
   "source": [
    "random.choice(results)"
   ]
  },
  {
   "cell_type": "markdown",
   "metadata": {},
   "source": [
    "### Interpret the results"
   ]
  },
  {
   "cell_type": "code",
   "execution_count": 317,
   "metadata": {},
   "outputs": [
    {
     "data": {
      "text/html": [
       "<div>\n",
       "<style scoped>\n",
       "    .dataframe tbody tr th:only-of-type {\n",
       "        vertical-align: middle;\n",
       "    }\n",
       "\n",
       "    .dataframe tbody tr th {\n",
       "        vertical-align: top;\n",
       "    }\n",
       "\n",
       "    .dataframe thead th {\n",
       "        text-align: right;\n",
       "    }\n",
       "</style>\n",
       "<table border=\"1\" class=\"dataframe\">\n",
       "  <thead>\n",
       "    <tr style=\"text-align: right;\">\n",
       "      <th></th>\n",
       "      <th>flavor_x</th>\n",
       "      <th>price_x</th>\n",
       "      <th>brand_x</th>\n",
       "      <th>flavor_y</th>\n",
       "      <th>price_y</th>\n",
       "      <th>brand_y</th>\n",
       "      <th>income</th>\n",
       "      <th>response</th>\n",
       "      <th>total_tokens</th>\n",
       "    </tr>\n",
       "  </thead>\n",
       "  <tbody>\n",
       "    <tr>\n",
       "      <th>71</th>\n",
       "      <td>mint</td>\n",
       "      <td>2.39</td>\n",
       "      <td>Colgate</td>\n",
       "      <td>cinnamon</td>\n",
       "      <td>2.79</td>\n",
       "      <td>Colgate</td>\n",
       "      <td>30000</td>\n",
       "      <td>1. I chose option 1, the Colgate toothpaste in...</td>\n",
       "      <td>250</td>\n",
       "    </tr>\n",
       "    <tr>\n",
       "      <th>768</th>\n",
       "      <td>cinnamon</td>\n",
       "      <td>1.99</td>\n",
       "      <td>Colgate</td>\n",
       "      <td>mint</td>\n",
       "      <td>2.39</td>\n",
       "      <td>Colgate</td>\n",
       "      <td>100000</td>\n",
       "      <td>I chose option 1. \\n\\nI purchased the Colgate ...</td>\n",
       "      <td>232</td>\n",
       "    </tr>\n",
       "    <tr>\n",
       "      <th>848</th>\n",
       "      <td>cinnamon</td>\n",
       "      <td>2.39</td>\n",
       "      <td>Colgate</td>\n",
       "      <td>mint</td>\n",
       "      <td>3.59</td>\n",
       "      <td>Colgate</td>\n",
       "      <td>100000</td>\n",
       "      <td>1. I chose option 1, the Colgate toothpaste in...</td>\n",
       "      <td>241</td>\n",
       "    </tr>\n",
       "    <tr>\n",
       "      <th>726</th>\n",
       "      <td>mint</td>\n",
       "      <td>3.59</td>\n",
       "      <td>Colgate</td>\n",
       "      <td>cinnamon</td>\n",
       "      <td>2.79</td>\n",
       "      <td>Colgate</td>\n",
       "      <td>100000</td>\n",
       "      <td>2. I chose the cinnamon-flavored Colgate tooth...</td>\n",
       "      <td>225</td>\n",
       "    </tr>\n",
       "    <tr>\n",
       "      <th>173</th>\n",
       "      <td>mint</td>\n",
       "      <td>3.19</td>\n",
       "      <td>Colgate</td>\n",
       "      <td>cinnamon</td>\n",
       "      <td>2.79</td>\n",
       "      <td>Colgate</td>\n",
       "      <td>30000</td>\n",
       "      <td>I chose option 2. I decided to purchase the Co...</td>\n",
       "      <td>234</td>\n",
       "    </tr>\n",
       "  </tbody>\n",
       "</table>\n",
       "</div>"
      ],
      "text/plain": [
       "     flavor_x  price_x  brand_x  flavor_y  price_y  brand_y  income  \\\n",
       "71       mint     2.39  Colgate  cinnamon     2.79  Colgate   30000   \n",
       "768  cinnamon     1.99  Colgate      mint     2.39  Colgate  100000   \n",
       "848  cinnamon     2.39  Colgate      mint     3.59  Colgate  100000   \n",
       "726      mint     3.59  Colgate  cinnamon     2.79  Colgate  100000   \n",
       "173      mint     3.19  Colgate  cinnamon     2.79  Colgate   30000   \n",
       "\n",
       "                                              response  total_tokens  \n",
       "71   1. I chose option 1, the Colgate toothpaste in...           250  \n",
       "768  I chose option 1. \\n\\nI purchased the Colgate ...           232  \n",
       "848  1. I chose option 1, the Colgate toothpaste in...           241  \n",
       "726  2. I chose the cinnamon-flavored Colgate tooth...           225  \n",
       "173  I chose option 2. I decided to purchase the Co...           234  "
      ]
     },
     "execution_count": 317,
     "metadata": {},
     "output_type": "execute_result"
    }
   ],
   "source": [
    "df_option1 = pd.DataFrame([p[\"option1\"] for p in pairs])\n",
    "df_option2 = pd.DataFrame([p[\"option2\"] for p in pairs])\n",
    "df_income = pd.DataFrame([p[\"income\"] for p in pairs], columns=[\"income\"])\n",
    "df_results = pd.DataFrame(results)\n",
    "\n",
    "df_merged = pd.merge(df_option1, df_option2, left_index=True, right_index=True)\n",
    "df_merged = pd.merge(df_merged, df_income, left_index=True, right_index=True)\n",
    "df_merged = pd.merge(df_merged, df_results, left_index=True, right_index=True)\n",
    "df_merged.sample(5)"
   ]
  },
  {
   "cell_type": "markdown",
   "metadata": {},
   "source": [
    "### Total cost"
   ]
  },
  {
   "cell_type": "code",
   "execution_count": 318,
   "metadata": {},
   "outputs": [
    {
     "name": "stdout",
     "output_type": "stream",
     "text": [
      "Tokens used: 233349\n",
      "Cost: $0.0350\n"
     ]
    }
   ],
   "source": [
    "total_tokens = df_merged.total_tokens.sum()\n",
    "print(f\"Tokens used: {total_tokens}\")\n",
    "print(f\"Cost: ${total_tokens * 1.5e-7:.4f}\")"
   ]
  },
  {
   "cell_type": "markdown",
   "metadata": {},
   "source": [
    "### A/B balance"
   ]
  },
  {
   "cell_type": "code",
   "execution_count": 319,
   "metadata": {},
   "outputs": [
    {
     "name": "stdout",
     "output_type": "stream",
     "text": [
      "choice\n",
      "1    620\n",
      "2    375\n",
      "3      5\n",
      "Name: count, dtype: int64\n"
     ]
    }
   ],
   "source": [
    "df_merged[\"choice\"] = df_merged[\"response\"].str.extract(\"(?:[Oo]ption|number|^)\\s*(\\d)\")\n",
    "print(df_merged[\"choice\"].value_counts(dropna=False))\n",
    "df_merged = df_merged[df_merged[\"choice\"].isin([\"1\", \"2\"])]\n",
    "df_merged[\"choice\"] = df_merged[\"choice\"].astype(int)"
   ]
  },
  {
   "cell_type": "code",
   "execution_count": 320,
   "metadata": {},
   "outputs": [],
   "source": [
    "df_counts = df_merged.groupby(\n",
    "    [\"income\", \"flavor_x\", \"flavor_y\", \"price_x\", \"price_y\", \"choice\"]\n",
    ").size().unstack().fillna(0).astype(int).rename(columns={1: \"A\", 2: \"B\"}).reset_index()\n",
    "\n",
    "# flip A/B if flavor_x > flavor_y\n",
    "flip_mask = df_counts[\"flavor_x\"] > df_counts[\"flavor_y\"]\n",
    "df_counts.loc[flip_mask, [\"flavor_x\", \"flavor_y\", \"price_x\", \"price_y\", \"A\", \"B\"]] = \\\n",
    "    df_counts.loc[flip_mask, [\"flavor_y\", \"flavor_x\", \"price_y\", \"price_x\", \"B\", \"A\"]].values\n",
    "df_counts = df_counts.groupby([\"income\", \"flavor_x\", \"flavor_y\", \"price_x\", \"price_y\"]).sum().reset_index()\n",
    "\n",
    "# df_counts"
   ]
  },
  {
   "cell_type": "code",
   "execution_count": 340,
   "metadata": {},
   "outputs": [
    {
     "data": {
      "image/png": "[encoded data removed]",
      "text/plain": [
       "<Figure size 600x400 with 2 Axes>"
      ]
     },
     "metadata": {},
     "output_type": "display_data"
    },
    {
     "data": {
      "image/png": "[encoded data removed]",
      "text/plain": [
       "<Figure size 600x400 with 2 Axes>"
      ]
     },
     "metadata": {},
     "output_type": "display_data"
    }
   ],
   "source": [
    "for income, df_income in df_counts.groupby(\"income\"):\n",
    "    plt.figure(figsize=(6, 4))\n",
    "    plt.title(f\"# consumers preferring Cinnamon toothpaste, income: ${income}\")\n",
    "    heatmap_data = df_income.pivot(columns=\"price_x\", index=\"price_y\", values=\"A\")\n",
    "    plt.imshow(heatmap_data, cmap=None, vmin=0, vmax=20)\n",
    "    plt.colorbar()\n",
    "    plt.xlabel(\"Price of Cinnamon toothpaste\")\n",
    "    plt.ylabel(\"Price of Mint toothpaste\")\n",
    "    plt.xticks(range(len(prices)), prices)\n",
    "    plt.yticks(range(len(prices)), prices)\n",
    "    for i in range(len(prices)):\n",
    "        for j in range(len(prices)):\n",
    "            plt.text(j, i, f\"{heatmap_data.iloc[i, j]}\", ha=\"center\", va=\"center\", color=\"black\")\n",
    "    plt.show()"
   ]
  },
  {
   "cell_type": "markdown",
   "metadata": {},
   "source": [
    "## Model"
   ]
  },
  {
   "cell_type": "code",
   "execution_count": 322,
   "metadata": {},
   "outputs": [],
   "source": [
    "flavor_map = {\"mint\": 1.0, \"cinnamon\": 0.0}\n",
    "df_merged[\"flavor_diff\"] = df_merged[\"flavor_x\"].map(flavor_map) - df_merged[\"flavor_y\"].map(flavor_map)\n",
    "df_merged[\"price_diff\"] = df_merged[\"price_x\"] - df_merged[\"price_y\"]\n",
    "df_merged[\"choice_binary\"] = (df_merged[\"choice\"] == 2).astype(int)"
   ]
  },
  {
   "cell_type": "code",
   "execution_count": 323,
   "metadata": {},
   "outputs": [
    {
     "name": "stdout",
     "output_type": "stream",
     "text": [
      "Optimization terminated successfully.\n",
      "         Current function value: 0.104985\n",
      "         Iterations 11\n",
      "                           Logit Regression Results                           \n",
      "==============================================================================\n",
      "Dep. Variable:          choice_binary   No. Observations:                  495\n",
      "Model:                          Logit   Df Residuals:                      492\n",
      "Method:                           MLE   Df Model:                            2\n",
      "Date:                Thu, 19 Dec 2024   Pseudo R-squ.:                  0.8475\n",
      "Time:                        13:35:44   Log-Likelihood:                -51.968\n",
      "converged:                       True   LL-Null:                       -340.68\n",
      "Covariance Type:            nonrobust   LLR p-value:                4.116e-126\n",
      "===============================================================================\n",
      "                  coef    std err          z      P>|z|      [0.025      0.975]\n",
      "-------------------------------------------------------------------------------\n",
      "Intercept      -1.4719      0.331     -4.443      0.000      -2.121      -0.823\n",
      "flavor_diff    -1.3464      0.330     -4.078      0.000      -1.994      -0.699\n",
      "price_diff     14.7372      2.220      6.640      0.000      10.387      19.087\n",
      "===============================================================================\n",
      "\n",
      "Possibly complete quasi-separation: A fraction 0.42 of observations can be\n",
      "perfectly predicted. This might indicate that there is complete\n",
      "quasi-separation. In this case some parameters will not be identified.\n",
      "\n",
      "Willingness-to-Pay for flavor (mint vs cinnamon): $0.091\n"
     ]
    }
   ],
   "source": [
    "model = smf.logit(\n",
    "    \"choice_binary ~ flavor_diff + price_diff\",\n",
    "    data=df_merged[df_merged.income == 30000],\n",
    ").fit()\n",
    "\n",
    "print(model.summary())\n",
    "\n",
    "params = model.params\n",
    "beta_flavor = params[\"flavor_diff\"]\n",
    "beta_price = params[\"price_diff\"]\n",
    "\n",
    "WTP_flavor = -beta_flavor / beta_price\n",
    "print(f\"\\nWillingness-to-Pay for flavor (mint vs cinnamon): ${WTP_flavor:.3f}\")"
   ]
  },
  {
   "cell_type": "code",
   "execution_count": 324,
   "metadata": {},
   "outputs": [
    {
     "name": "stdout",
     "output_type": "stream",
     "text": [
      "Optimization terminated successfully.\n",
      "         Current function value: 0.206159\n",
      "         Iterations 9\n",
      "                           Logit Regression Results                           \n",
      "==============================================================================\n",
      "Dep. Variable:          choice_binary   No. Observations:                  500\n",
      "Model:                          Logit   Df Residuals:                      497\n",
      "Method:                           MLE   Df Model:                            2\n",
      "Date:                Thu, 19 Dec 2024   Pseudo R-squ.:                  0.6644\n",
      "Time:                        13:35:45   Log-Likelihood:                -103.08\n",
      "converged:                       True   LL-Null:                       -307.11\n",
      "Covariance Type:            nonrobust   LLR p-value:                 2.464e-89\n",
      "===============================================================================\n",
      "                  coef    std err          z      P>|z|      [0.025      0.975]\n",
      "-------------------------------------------------------------------------------\n",
      "Intercept      -2.9063      0.337     -8.618      0.000      -3.567      -2.245\n",
      "flavor_diff    -2.9063      0.337     -8.618      0.000      -3.567      -2.245\n",
      "price_diff      5.1736      0.567      9.131      0.000       4.063       6.284\n",
      "===============================================================================\n",
      "\n",
      "Possibly complete quasi-separation: A fraction 0.12 of observations can be\n",
      "perfectly predicted. This might indicate that there is complete\n",
      "quasi-separation. In this case some parameters will not be identified.\n",
      "\n",
      "Willingness-to-Pay for flavor (mint vs cinnamon): $0.562\n"
     ]
    }
   ],
   "source": [
    "model = smf.logit(\n",
    "    \"choice_binary ~ flavor_diff + price_diff\",\n",
    "    data=df_merged[df_merged.income == 100000],\n",
    ").fit()\n",
    "\n",
    "print(model.summary())\n",
    "\n",
    "params = model.params\n",
    "beta_flavor = params[\"flavor_diff\"]\n",
    "beta_price = params[\"price_diff\"]\n",
    "\n",
    "WTP_flavor = -beta_flavor / beta_price\n",
    "print(f\"\\nWillingness-to-Pay for flavor (mint vs cinnamon): ${WTP_flavor:.3f}\")"
   ]
  }
 ],
 "metadata": {
  "kernelspec": {
   "display_name": "microeconomic-analysis-6QHp52OK-py3.11",
   "language": "python",
   "name": "python3"
  },
  "language_info": {
   "codemirror_mode": {
    "name": "ipython",
    "version": 3
   },
   "file_extension": ".py",
   "mimetype": "text/x-python",
   "name": "python",
   "nbconvert_exporter": "python",
   "pygments_lexer": "ipython3",
   "version": "3.11.0rc1"
  }
 },
 "nbformat": 4,
 "nbformat_minor": 2
}
