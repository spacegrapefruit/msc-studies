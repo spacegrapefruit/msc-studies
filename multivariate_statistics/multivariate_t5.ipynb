{
 "cells": [
  {
   "cell_type": "markdown",
   "metadata": {},
   "source": [
    "# Multivariate statistics Test 5: Hierarchical Linear Modeling\n",
    "\n",
    "**Student**: Aleksandr Jan Smoliakov, VU MIF Data Science MSc year 1  \n",
    "**Date**: 2024-11-21"
   ]
  },
  {
   "cell_type": "markdown",
   "metadata": {},
   "source": [
    "Data: File `hsb12.sav`, variables\n",
    "\n",
    "* `school` - school’s id\n",
    "* `student` - student’s id\n",
    "* `minority` - 1 if ethnical minority, 0 -   if not\n",
    "* `female` - 1 if female, 0 if male\n",
    "* `ses` - social –economic status\n",
    "* `cses` - centered social-economic status\n",
    "* `meanses` - school’s average ses\n",
    "* `mathach` - mathematical achievements\n",
    "* `size` - number of students at school\n",
    "* `sector` - 1 for catholic school, 0 for the state school\n",
    "* `pracad` - proportion of students in the academic track\n",
    "* `himinty` - 1 if over 40% of students are from ethnical minorities, 0 if less than 40%\n",
    "\n",
    "Task: Create an HLM model for `mathach`."
   ]
  },
  {
   "cell_type": "markdown",
   "metadata": {},
   "source": [
    "First of all, let's load the data and take a look."
   ]
  },
  {
   "cell_type": "code",
   "execution_count": 1,
   "metadata": {},
   "outputs": [
    {
     "data": {
      "text/html": [
       "<div>\n",
       "<style scoped>\n",
       "    .dataframe tbody tr th:only-of-type {\n",
       "        vertical-align: middle;\n",
       "    }\n",
       "\n",
       "    .dataframe tbody tr th {\n",
       "        vertical-align: top;\n",
       "    }\n",
       "\n",
       "    .dataframe thead th {\n",
       "        text-align: right;\n",
       "    }\n",
       "</style>\n",
       "<table border=\"1\" class=\"dataframe\">\n",
       "  <thead>\n",
       "    <tr style=\"text-align: right;\">\n",
       "      <th></th>\n",
       "      <th>SCHOOL</th>\n",
       "      <th>STUDENT</th>\n",
       "      <th>CONS</th>\n",
       "      <th>MINORITY</th>\n",
       "      <th>FEMALE</th>\n",
       "      <th>SES</th>\n",
       "      <th>MEANSES</th>\n",
       "      <th>CSES</th>\n",
       "      <th>MATHACH</th>\n",
       "      <th>SIZE</th>\n",
       "      <th>SECTOR</th>\n",
       "      <th>PRACAD</th>\n",
       "      <th>DISCLIM</th>\n",
       "      <th>HIMINTY</th>\n",
       "    </tr>\n",
       "  </thead>\n",
       "  <tbody>\n",
       "    <tr>\n",
       "      <th>count</th>\n",
       "      <td>7185.0000</td>\n",
       "      <td>7185.0000</td>\n",
       "      <td>7185.0000</td>\n",
       "      <td>7185.0000</td>\n",
       "      <td>7185.0000</td>\n",
       "      <td>7185.0000</td>\n",
       "      <td>7185.0000</td>\n",
       "      <td>7185.0000</td>\n",
       "      <td>7185.0000</td>\n",
       "      <td>7185.0000</td>\n",
       "      <td>7185.0000</td>\n",
       "      <td>7185.0000</td>\n",
       "      <td>7185.0000</td>\n",
       "      <td>7185.0000</td>\n",
       "    </tr>\n",
       "    <tr>\n",
       "      <th>mean</th>\n",
       "      <td>5277.8978</td>\n",
       "      <td>24.5081</td>\n",
       "      <td>1.0000</td>\n",
       "      <td>0.2747</td>\n",
       "      <td>0.5282</td>\n",
       "      <td>0.0001</td>\n",
       "      <td>0.0061</td>\n",
       "      <td>-0.0060</td>\n",
       "      <td>12.7479</td>\n",
       "      <td>1056.8618</td>\n",
       "      <td>0.4931</td>\n",
       "      <td>0.5345</td>\n",
       "      <td>-0.1319</td>\n",
       "      <td>0.2800</td>\n",
       "    </tr>\n",
       "    <tr>\n",
       "      <th>std</th>\n",
       "      <td>2499.5778</td>\n",
       "      <td>15.2024</td>\n",
       "      <td>0.0000</td>\n",
       "      <td>0.4464</td>\n",
       "      <td>0.4992</td>\n",
       "      <td>0.7794</td>\n",
       "      <td>0.4136</td>\n",
       "      <td>0.6606</td>\n",
       "      <td>6.8782</td>\n",
       "      <td>604.1725</td>\n",
       "      <td>0.5000</td>\n",
       "      <td>0.2512</td>\n",
       "      <td>0.9440</td>\n",
       "      <td>0.4490</td>\n",
       "    </tr>\n",
       "    <tr>\n",
       "      <th>min</th>\n",
       "      <td>1224.0000</td>\n",
       "      <td>1.0000</td>\n",
       "      <td>1.0000</td>\n",
       "      <td>0.0000</td>\n",
       "      <td>0.0000</td>\n",
       "      <td>-3.7580</td>\n",
       "      <td>-1.1880</td>\n",
       "      <td>-3.6570</td>\n",
       "      <td>-2.8320</td>\n",
       "      <td>100.0000</td>\n",
       "      <td>0.0000</td>\n",
       "      <td>0.0000</td>\n",
       "      <td>-2.4160</td>\n",
       "      <td>0.0000</td>\n",
       "    </tr>\n",
       "    <tr>\n",
       "      <th>25%</th>\n",
       "      <td>3020.0000</td>\n",
       "      <td>12.0000</td>\n",
       "      <td>1.0000</td>\n",
       "      <td>0.0000</td>\n",
       "      <td>0.0000</td>\n",
       "      <td>-0.5380</td>\n",
       "      <td>-0.3170</td>\n",
       "      <td>-0.4540</td>\n",
       "      <td>7.2750</td>\n",
       "      <td>565.0000</td>\n",
       "      <td>0.0000</td>\n",
       "      <td>0.3200</td>\n",
       "      <td>-0.8170</td>\n",
       "      <td>0.0000</td>\n",
       "    </tr>\n",
       "    <tr>\n",
       "      <th>50%</th>\n",
       "      <td>5192.0000</td>\n",
       "      <td>23.0000</td>\n",
       "      <td>1.0000</td>\n",
       "      <td>0.0000</td>\n",
       "      <td>1.0000</td>\n",
       "      <td>0.0020</td>\n",
       "      <td>0.0380</td>\n",
       "      <td>0.0100</td>\n",
       "      <td>13.1310</td>\n",
       "      <td>1016.0000</td>\n",
       "      <td>0.0000</td>\n",
       "      <td>0.5300</td>\n",
       "      <td>-0.2310</td>\n",
       "      <td>0.0000</td>\n",
       "    </tr>\n",
       "    <tr>\n",
       "      <th>75%</th>\n",
       "      <td>7342.0000</td>\n",
       "      <td>36.0000</td>\n",
       "      <td>1.0000</td>\n",
       "      <td>1.0000</td>\n",
       "      <td>1.0000</td>\n",
       "      <td>0.6020</td>\n",
       "      <td>0.3330</td>\n",
       "      <td>0.4630</td>\n",
       "      <td>18.3170</td>\n",
       "      <td>1436.0000</td>\n",
       "      <td>1.0000</td>\n",
       "      <td>0.7000</td>\n",
       "      <td>0.4600</td>\n",
       "      <td>1.0000</td>\n",
       "    </tr>\n",
       "    <tr>\n",
       "      <th>max</th>\n",
       "      <td>9586.0000</td>\n",
       "      <td>67.0000</td>\n",
       "      <td>1.0000</td>\n",
       "      <td>1.0000</td>\n",
       "      <td>1.0000</td>\n",
       "      <td>2.6920</td>\n",
       "      <td>0.8310</td>\n",
       "      <td>2.8500</td>\n",
       "      <td>24.9930</td>\n",
       "      <td>2713.0000</td>\n",
       "      <td>1.0000</td>\n",
       "      <td>1.0000</td>\n",
       "      <td>2.7560</td>\n",
       "      <td>1.0000</td>\n",
       "    </tr>\n",
       "  </tbody>\n",
       "</table>\n",
       "</div>"
      ],
      "text/plain": [
       "         SCHOOL   STUDENT      CONS  MINORITY    FEMALE       SES   MEANSES  \\\n",
       "count 7185.0000 7185.0000 7185.0000 7185.0000 7185.0000 7185.0000 7185.0000   \n",
       "mean  5277.8978   24.5081    1.0000    0.2747    0.5282    0.0001    0.0061   \n",
       "std   2499.5778   15.2024    0.0000    0.4464    0.4992    0.7794    0.4136   \n",
       "min   1224.0000    1.0000    1.0000    0.0000    0.0000   -3.7580   -1.1880   \n",
       "25%   3020.0000   12.0000    1.0000    0.0000    0.0000   -0.5380   -0.3170   \n",
       "50%   5192.0000   23.0000    1.0000    0.0000    1.0000    0.0020    0.0380   \n",
       "75%   7342.0000   36.0000    1.0000    1.0000    1.0000    0.6020    0.3330   \n",
       "max   9586.0000   67.0000    1.0000    1.0000    1.0000    2.6920    0.8310   \n",
       "\n",
       "           CSES   MATHACH      SIZE    SECTOR    PRACAD   DISCLIM   HIMINTY  \n",
       "count 7185.0000 7185.0000 7185.0000 7185.0000 7185.0000 7185.0000 7185.0000  \n",
       "mean    -0.0060   12.7479 1056.8618    0.4931    0.5345   -0.1319    0.2800  \n",
       "std      0.6606    6.8782  604.1725    0.5000    0.2512    0.9440    0.4490  \n",
       "min     -3.6570   -2.8320  100.0000    0.0000    0.0000   -2.4160    0.0000  \n",
       "25%     -0.4540    7.2750  565.0000    0.0000    0.3200   -0.8170    0.0000  \n",
       "50%      0.0100   13.1310 1016.0000    0.0000    0.5300   -0.2310    0.0000  \n",
       "75%      0.4630   18.3170 1436.0000    1.0000    0.7000    0.4600    1.0000  \n",
       "max      2.8500   24.9930 2713.0000    1.0000    1.0000    2.7560    1.0000  "
      ]
     },
     "execution_count": 1,
     "metadata": {},
     "output_type": "execute_result"
    }
   ],
   "source": [
    "import pyreadstat\n",
    "import pandas as pd\n",
    "import statsmodels.formula.api as smf\n",
    "\n",
    "pd.options.display.float_format = '{:.4f}'.format\n",
    "\n",
    "df_hsb, metadata_hsb = pyreadstat.read_sav(\"data/hsb12.sav\")\n",
    "\n",
    "df_hsb.describe()"
   ]
  },
  {
   "cell_type": "markdown",
   "metadata": {},
   "source": [
    "There are no missing values in the dataset. The dataset has two additional columns not described in the task: `CONS` and `DISCLIM`. We are not going to remove them to avoid using them accidentally.\n",
    "\n",
    "Additionally, we'll cast `SCHOOL` and `STUDENT` into integers and make the column names lowercase for convenience."
   ]
  },
  {
   "cell_type": "code",
   "execution_count": 2,
   "metadata": {},
   "outputs": [
    {
     "data": {
      "text/html": [
       "<div>\n",
       "<style scoped>\n",
       "    .dataframe tbody tr th:only-of-type {\n",
       "        vertical-align: middle;\n",
       "    }\n",
       "\n",
       "    .dataframe tbody tr th {\n",
       "        vertical-align: top;\n",
       "    }\n",
       "\n",
       "    .dataframe thead th {\n",
       "        text-align: right;\n",
       "    }\n",
       "</style>\n",
       "<table border=\"1\" class=\"dataframe\">\n",
       "  <thead>\n",
       "    <tr style=\"text-align: right;\">\n",
       "      <th></th>\n",
       "      <th>school</th>\n",
       "      <th>student</th>\n",
       "      <th>minority</th>\n",
       "      <th>female</th>\n",
       "      <th>ses</th>\n",
       "      <th>meanses</th>\n",
       "      <th>cses</th>\n",
       "      <th>mathach</th>\n",
       "      <th>size</th>\n",
       "      <th>sector</th>\n",
       "      <th>pracad</th>\n",
       "      <th>himinty</th>\n",
       "    </tr>\n",
       "  </thead>\n",
       "  <tbody>\n",
       "    <tr>\n",
       "      <th>0</th>\n",
       "      <td>1224</td>\n",
       "      <td>1</td>\n",
       "      <td>0.0000</td>\n",
       "      <td>1.0000</td>\n",
       "      <td>-1.5280</td>\n",
       "      <td>-0.4280</td>\n",
       "      <td>-1.1000</td>\n",
       "      <td>5.8760</td>\n",
       "      <td>842.0000</td>\n",
       "      <td>0.0000</td>\n",
       "      <td>0.3500</td>\n",
       "      <td>0.0000</td>\n",
       "    </tr>\n",
       "    <tr>\n",
       "      <th>1</th>\n",
       "      <td>1224</td>\n",
       "      <td>2</td>\n",
       "      <td>0.0000</td>\n",
       "      <td>1.0000</td>\n",
       "      <td>-0.5880</td>\n",
       "      <td>-0.4280</td>\n",
       "      <td>-0.1600</td>\n",
       "      <td>19.7080</td>\n",
       "      <td>842.0000</td>\n",
       "      <td>0.0000</td>\n",
       "      <td>0.3500</td>\n",
       "      <td>0.0000</td>\n",
       "    </tr>\n",
       "    <tr>\n",
       "      <th>2</th>\n",
       "      <td>1224</td>\n",
       "      <td>3</td>\n",
       "      <td>0.0000</td>\n",
       "      <td>0.0000</td>\n",
       "      <td>-0.5280</td>\n",
       "      <td>-0.4280</td>\n",
       "      <td>-0.1000</td>\n",
       "      <td>20.3490</td>\n",
       "      <td>842.0000</td>\n",
       "      <td>0.0000</td>\n",
       "      <td>0.3500</td>\n",
       "      <td>0.0000</td>\n",
       "    </tr>\n",
       "    <tr>\n",
       "      <th>3</th>\n",
       "      <td>1224</td>\n",
       "      <td>4</td>\n",
       "      <td>0.0000</td>\n",
       "      <td>0.0000</td>\n",
       "      <td>-0.6680</td>\n",
       "      <td>-0.4280</td>\n",
       "      <td>-0.2400</td>\n",
       "      <td>8.7810</td>\n",
       "      <td>842.0000</td>\n",
       "      <td>0.0000</td>\n",
       "      <td>0.3500</td>\n",
       "      <td>0.0000</td>\n",
       "    </tr>\n",
       "    <tr>\n",
       "      <th>4</th>\n",
       "      <td>1224</td>\n",
       "      <td>5</td>\n",
       "      <td>0.0000</td>\n",
       "      <td>0.0000</td>\n",
       "      <td>-0.1580</td>\n",
       "      <td>-0.4280</td>\n",
       "      <td>0.2700</td>\n",
       "      <td>17.8980</td>\n",
       "      <td>842.0000</td>\n",
       "      <td>0.0000</td>\n",
       "      <td>0.3500</td>\n",
       "      <td>0.0000</td>\n",
       "    </tr>\n",
       "  </tbody>\n",
       "</table>\n",
       "</div>"
      ],
      "text/plain": [
       "   school  student  minority  female     ses  meanses    cses  mathach  \\\n",
       "0    1224        1    0.0000  1.0000 -1.5280  -0.4280 -1.1000   5.8760   \n",
       "1    1224        2    0.0000  1.0000 -0.5880  -0.4280 -0.1600  19.7080   \n",
       "2    1224        3    0.0000  0.0000 -0.5280  -0.4280 -0.1000  20.3490   \n",
       "3    1224        4    0.0000  0.0000 -0.6680  -0.4280 -0.2400   8.7810   \n",
       "4    1224        5    0.0000  0.0000 -0.1580  -0.4280  0.2700  17.8980   \n",
       "\n",
       "      size  sector  pracad  himinty  \n",
       "0 842.0000  0.0000  0.3500   0.0000  \n",
       "1 842.0000  0.0000  0.3500   0.0000  \n",
       "2 842.0000  0.0000  0.3500   0.0000  \n",
       "3 842.0000  0.0000  0.3500   0.0000  \n",
       "4 842.0000  0.0000  0.3500   0.0000  "
      ]
     },
     "execution_count": 2,
     "metadata": {},
     "output_type": "execute_result"
    }
   ],
   "source": [
    "df_hsb = df_hsb.drop([\"CONS\", \"DISCLIM\"], axis=1)\n",
    "df_hsb.columns = df_hsb.columns.str.lower()\n",
    "\n",
    "df_hsb[\"school\"] = df_hsb[\"school\"].astype(int)\n",
    "df_hsb[\"student\"] = df_hsb[\"student\"].astype(int)\n",
    "\n",
    "df_hsb.head()"
   ]
  },
  {
   "cell_type": "markdown",
   "metadata": {},
   "source": [
    "## Unconditional model\n",
    "\n",
    "1. Create an unconditional model and calculate ICC.\n",
    "\n",
    "We will start by creating an unconditional model. The model will have two levels: students and schools."
   ]
  },
  {
   "cell_type": "code",
   "execution_count": 37,
   "metadata": {},
   "outputs": [
    {
     "data": {
      "text/html": [
       "<table class=\"simpletable\">\n",
       "<tr>\n",
       "       <td>Model:</td>       <td>MixedLM</td> <td>Dependent Variable:</td>   <td>mathach</td>  \n",
       "</tr>\n",
       "<tr>\n",
       "  <td>No. Observations:</td>  <td>7185</td>         <td>Method:</td>           <td>ML</td>     \n",
       "</tr>\n",
       "<tr>\n",
       "     <td>No. Groups:</td>      <td>160</td>         <td>Scale:</td>          <td>39.1483</td>  \n",
       "</tr>\n",
       "<tr>\n",
       "  <td>Min. group size:</td>    <td>14</td>      <td>Log-Likelihood:</td>   <td>-23557.9051</td>\n",
       "</tr>\n",
       "<tr>\n",
       "  <td>Max. group size:</td>    <td>67</td>        <td>Converged:</td>          <td>Yes</td>    \n",
       "</tr>\n",
       "<tr>\n",
       "  <td>Mean group size:</td>   <td>44.9</td>            <td></td>                <td></td>      \n",
       "</tr>\n",
       "</table>\n",
       "<table class=\"simpletable\">\n",
       "<tr>\n",
       "      <td></td>       <th>Coef.</th> <th>Std.Err.</th>    <th>z</th>   <th>P>|z|</th> <th>[0.025</th> <th>0.975]</th>\n",
       "</tr>\n",
       "<tr>\n",
       "  <th>Intercept</th> <td>12.637</td>   <td>0.244</td>  <td>51.867</td> <td>0.000</td> <td>12.160</td> <td>13.115</td>\n",
       "</tr>\n",
       "<tr>\n",
       "  <th>Group Var</th>  <td>8.555</td>   <td>0.173</td>     <td></td>      <td></td>       <td></td>       <td></td>   \n",
       "</tr>\n",
       "</table><br/>\n"
      ],
      "text/latex": [
       "\\begin{table}\n",
       "\\caption{Mixed Linear Model Regression Results}\n",
       "\\label{}\n",
       "\\begin{center}\n",
       "\\begin{tabular}{llll}\n",
       "\\hline\n",
       "Model:            & MixedLM & Dependent Variable: & mathach      \\\\\n",
       "No. Observations: & 7185    & Method:             & ML           \\\\\n",
       "No. Groups:       & 160     & Scale:              & 39.1483      \\\\\n",
       "Min. group size:  & 14      & Log-Likelihood:     & -23557.9051  \\\\\n",
       "Max. group size:  & 67      & Converged:          & Yes          \\\\\n",
       "Mean group size:  & 44.9    &                     &              \\\\\n",
       "\\hline\n",
       "\\end{tabular}\n",
       "\\end{center}\n",
       "\n",
       "\\begin{center}\n",
       "\\begin{tabular}{lrrrrrr}\n",
       "\\hline\n",
       "          &  Coef. & Std.Err. &      z & P$> |$z$|$ & [0.025 & 0.975]  \\\\\n",
       "\\hline\n",
       "Intercept & 12.637 &    0.244 & 51.867 &       0.000 & 12.160 & 13.115  \\\\\n",
       "Group Var &  8.555 &    0.173 &        &             &        &         \\\\\n",
       "\\hline\n",
       "\\end{tabular}\n",
       "\\end{center}\n",
       "\\end{table}\n",
       "\\bigskip\n"
      ],
      "text/plain": [
       "<class 'statsmodels.iolib.summary2.Summary'>\n",
       "\"\"\"\n",
       "          Mixed Linear Model Regression Results\n",
       "=========================================================\n",
       "Model:            MixedLM Dependent Variable: mathach    \n",
       "No. Observations: 7185    Method:             ML         \n",
       "No. Groups:       160     Scale:              39.1483    \n",
       "Min. group size:  14      Log-Likelihood:     -23557.9051\n",
       "Max. group size:  67      Converged:          Yes        \n",
       "Mean group size:  44.9                                   \n",
       "----------------------------------------------------------\n",
       "           Coef.   Std.Err.    z     P>|z|  [0.025  0.975]\n",
       "----------------------------------------------------------\n",
       "Intercept  12.637     0.244  51.867  0.000  12.160  13.115\n",
       "Group Var   8.555     0.173                               \n",
       "=========================================================\n",
       "\n",
       "\"\"\""
      ]
     },
     "execution_count": 37,
     "metadata": {},
     "output_type": "execute_result"
    }
   ],
   "source": [
    "unconditional_model = smf.mixedlm(\n",
    "    \"mathach ~ 1\",\n",
    "    data=df_hsb,\n",
    "    groups=df_hsb[\"school\"],\n",
    "    re_formula=\"~ 1\"\n",
    ")\n",
    "unconditional_model_results = unconditional_model.fit(reml=False)\n",
    "\n",
    "unconditional_model_results.summary()"
   ]
  },
  {
   "cell_type": "code",
   "execution_count": 38,
   "metadata": {},
   "outputs": [
    {
     "name": "stdout",
     "output_type": "stream",
     "text": [
      "Group variance: 8.5550\n",
      "Residual variance: 39.1483\n",
      "ICC: 0.1793\n"
     ]
    }
   ],
   "source": [
    "group_variance = unconditional_model_results.cov_re.iloc[0, 0]\n",
    "res_variance = unconditional_model_results.scale\n",
    "print(f\"Group variance: {group_variance:.4f}\")\n",
    "print(f\"Residual variance: {res_variance:.4f}\")\n",
    "\n",
    "icc = group_variance / (group_variance + res_variance)\n",
    "print(f\"ICC: {icc:.4f}\")"
   ]
  },
  {
   "cell_type": "markdown",
   "metadata": {},
   "source": [
    "The Intraclass Correlation Coefficient (ICC) is `0.1804`, which means that 18.04% of the variance in math achievement can be attributed to differences between schools."
   ]
  },
  {
   "cell_type": "markdown",
   "metadata": {},
   "source": [
    "## Final model\n",
    "\n",
    "2. Create a final model with at least three variables (at least one school-level variable)."
   ]
  },
  {
   "cell_type": "markdown",
   "metadata": {},
   "source": [
    "### Correlation analysis"
   ]
  },
  {
   "cell_type": "code",
   "execution_count": 39,
   "metadata": {},
   "outputs": [
    {
     "data": {
      "text/html": [
       "<div>\n",
       "<style scoped>\n",
       "    .dataframe tbody tr th:only-of-type {\n",
       "        vertical-align: middle;\n",
       "    }\n",
       "\n",
       "    .dataframe tbody tr th {\n",
       "        vertical-align: top;\n",
       "    }\n",
       "\n",
       "    .dataframe thead th {\n",
       "        text-align: right;\n",
       "    }\n",
       "</style>\n",
       "<table border=\"1\" class=\"dataframe\">\n",
       "  <thead>\n",
       "    <tr style=\"text-align: right;\">\n",
       "      <th></th>\n",
       "      <th>level_0</th>\n",
       "      <th>level_1</th>\n",
       "      <th>corr</th>\n",
       "    </tr>\n",
       "  </thead>\n",
       "  <tbody>\n",
       "    <tr>\n",
       "      <th>8</th>\n",
       "      <td>meanses</td>\n",
       "      <td>ses</td>\n",
       "      <td>0.5306</td>\n",
       "    </tr>\n",
       "    <tr>\n",
       "      <th>10</th>\n",
       "      <td>meanses</td>\n",
       "      <td>pracad</td>\n",
       "      <td>0.6373</td>\n",
       "    </tr>\n",
       "    <tr>\n",
       "      <th>11</th>\n",
       "      <td>cses</td>\n",
       "      <td>ses</td>\n",
       "      <td>0.8476</td>\n",
       "    </tr>\n",
       "    <tr>\n",
       "      <th>18</th>\n",
       "      <td>pracad</td>\n",
       "      <td>sector</td>\n",
       "      <td>0.6811</td>\n",
       "    </tr>\n",
       "    <tr>\n",
       "      <th>20</th>\n",
       "      <td>himinty</td>\n",
       "      <td>minority</td>\n",
       "      <td>0.5814</td>\n",
       "    </tr>\n",
       "  </tbody>\n",
       "</table>\n",
       "</div>"
      ],
      "text/plain": [
       "    level_0   level_1   corr\n",
       "8   meanses       ses 0.5306\n",
       "10  meanses    pracad 0.6373\n",
       "11     cses       ses 0.8476\n",
       "18   pracad    sector 0.6811\n",
       "20  himinty  minority 0.5814"
      ]
     },
     "execution_count": 39,
     "metadata": {},
     "output_type": "execute_result"
    }
   ],
   "source": [
    "cor = df_hsb.corr()\n",
    "cor[cor > 0.5].stack().rename(\"corr\").reset_index().query(\"level_0 < level_1\")"
   ]
  },
  {
   "cell_type": "code",
   "execution_count": 40,
   "metadata": {},
   "outputs": [
    {
     "data": {
      "text/html": [
       "<div>\n",
       "<style scoped>\n",
       "    .dataframe tbody tr th:only-of-type {\n",
       "        vertical-align: middle;\n",
       "    }\n",
       "\n",
       "    .dataframe tbody tr th {\n",
       "        vertical-align: top;\n",
       "    }\n",
       "\n",
       "    .dataframe thead th {\n",
       "        text-align: right;\n",
       "    }\n",
       "</style>\n",
       "<table border=\"1\" class=\"dataframe\">\n",
       "  <thead>\n",
       "    <tr style=\"text-align: right;\">\n",
       "      <th></th>\n",
       "      <th>level_0</th>\n",
       "      <th>level_1</th>\n",
       "      <th>corr</th>\n",
       "    </tr>\n",
       "  </thead>\n",
       "  <tbody>\n",
       "    <tr>\n",
       "      <th>7</th>\n",
       "      <td>mathach</td>\n",
       "      <td>mathach</td>\n",
       "      <td>1.0000</td>\n",
       "    </tr>\n",
       "    <tr>\n",
       "      <th>4</th>\n",
       "      <td>mathach</td>\n",
       "      <td>ses</td>\n",
       "      <td>0.3608</td>\n",
       "    </tr>\n",
       "    <tr>\n",
       "      <th>5</th>\n",
       "      <td>mathach</td>\n",
       "      <td>meanses</td>\n",
       "      <td>0.3437</td>\n",
       "    </tr>\n",
       "    <tr>\n",
       "      <th>10</th>\n",
       "      <td>mathach</td>\n",
       "      <td>pracad</td>\n",
       "      <td>0.2921</td>\n",
       "    </tr>\n",
       "    <tr>\n",
       "      <th>2</th>\n",
       "      <td>mathach</td>\n",
       "      <td>minority</td>\n",
       "      <td>-0.2680</td>\n",
       "    </tr>\n",
       "    <tr>\n",
       "      <th>6</th>\n",
       "      <td>mathach</td>\n",
       "      <td>cses</td>\n",
       "      <td>0.2104</td>\n",
       "    </tr>\n",
       "    <tr>\n",
       "      <th>9</th>\n",
       "      <td>mathach</td>\n",
       "      <td>sector</td>\n",
       "      <td>0.2040</td>\n",
       "    </tr>\n",
       "    <tr>\n",
       "      <th>11</th>\n",
       "      <td>mathach</td>\n",
       "      <td>himinty</td>\n",
       "      <td>-0.1731</td>\n",
       "    </tr>\n",
       "    <tr>\n",
       "      <th>3</th>\n",
       "      <td>mathach</td>\n",
       "      <td>female</td>\n",
       "      <td>-0.1231</td>\n",
       "    </tr>\n",
       "    <tr>\n",
       "      <th>8</th>\n",
       "      <td>mathach</td>\n",
       "      <td>size</td>\n",
       "      <td>-0.0506</td>\n",
       "    </tr>\n",
       "    <tr>\n",
       "      <th>1</th>\n",
       "      <td>mathach</td>\n",
       "      <td>student</td>\n",
       "      <td>0.0194</td>\n",
       "    </tr>\n",
       "    <tr>\n",
       "      <th>0</th>\n",
       "      <td>mathach</td>\n",
       "      <td>school</td>\n",
       "      <td>-0.0029</td>\n",
       "    </tr>\n",
       "  </tbody>\n",
       "</table>\n",
       "</div>"
      ],
      "text/plain": [
       "    level_0   level_1    corr\n",
       "7   mathach   mathach  1.0000\n",
       "4   mathach       ses  0.3608\n",
       "5   mathach   meanses  0.3437\n",
       "10  mathach    pracad  0.2921\n",
       "2   mathach  minority -0.2680\n",
       "6   mathach      cses  0.2104\n",
       "9   mathach    sector  0.2040\n",
       "11  mathach   himinty -0.1731\n",
       "3   mathach    female -0.1231\n",
       "8   mathach      size -0.0506\n",
       "1   mathach   student  0.0194\n",
       "0   mathach    school -0.0029"
      ]
     },
     "execution_count": 40,
     "metadata": {},
     "output_type": "execute_result"
    }
   ],
   "source": [
    "cor[cor.index == \"mathach\"].stack().rename(\"corr\").reset_index().sort_values(\"corr\", ascending=False, key=abs)"
   ]
  },
  {
   "cell_type": "markdown",
   "metadata": {},
   "source": [
    "We're going to create a final model with the significant variables from the correlation analysis."
   ]
  },
  {
   "cell_type": "code",
   "execution_count": 48,
   "metadata": {},
   "outputs": [
    {
     "name": "stderr",
     "output_type": "stream",
     "text": [
      "/home/aleks/.cache/pypoetry/virtualenvs/multivariate-bR2SZf0l-py3.11/lib/python3.11/site-packages/statsmodels/base/model.py:607: ConvergenceWarning: Maximum Likelihood optimization failed to converge. Check mle_retvals\n",
      "  warnings.warn(\"Maximum Likelihood optimization failed to \"\n",
      "/home/aleks/.cache/pypoetry/virtualenvs/multivariate-bR2SZf0l-py3.11/lib/python3.11/site-packages/statsmodels/regression/mixed_linear_model.py:2200: ConvergenceWarning: Retrying MixedLM optimization with lbfgs\n",
      "  warnings.warn(\n"
     ]
    },
    {
     "data": {
      "text/html": [
       "<table class=\"simpletable\">\n",
       "<tr>\n",
       "       <td>Model:</td>       <td>MixedLM</td> <td>Dependent Variable:</td>   <td>mathach</td>  \n",
       "</tr>\n",
       "<tr>\n",
       "  <td>No. Observations:</td>  <td>7185</td>         <td>Method:</td>           <td>ML</td>     \n",
       "</tr>\n",
       "<tr>\n",
       "     <td>No. Groups:</td>      <td>160</td>         <td>Scale:</td>          <td>35.4463</td>  \n",
       "</tr>\n",
       "<tr>\n",
       "  <td>Min. group size:</td>    <td>14</td>      <td>Log-Likelihood:</td>   <td>-23144.2992</td>\n",
       "</tr>\n",
       "<tr>\n",
       "  <td>Max. group size:</td>    <td>67</td>        <td>Converged:</td>          <td>Yes</td>    \n",
       "</tr>\n",
       "<tr>\n",
       "  <td>Mean group size:</td>   <td>44.9</td>            <td></td>                <td></td>      \n",
       "</tr>\n",
       "</table>\n",
       "<table class=\"simpletable\">\n",
       "<tr>\n",
       "            <td></td>            <th>Coef.</th> <th>Std.Err.</th>    <th>z</th>    <th>P>|z|</th> <th>[0.025</th> <th>0.975]</th>\n",
       "</tr>\n",
       "<tr>\n",
       "  <th>Intercept</th>            <td>11.945</td>   <td>0.414</td>  <td>28.886</td>  <td>0.000</td> <td>11.135</td> <td>12.756</td>\n",
       "</tr>\n",
       "<tr>\n",
       "  <th>ses</th>                   <td>1.878</td>   <td>0.109</td>  <td>17.282</td>  <td>0.000</td>  <td>1.665</td>  <td>2.091</td>\n",
       "</tr>\n",
       "<tr>\n",
       "  <th>meanses</th>               <td>1.236</td>   <td>0.484</td>   <td>2.551</td>  <td>0.011</td>  <td>0.286</td>  <td>2.185</td>\n",
       "</tr>\n",
       "<tr>\n",
       "  <th>pracad</th>                <td>4.097</td>   <td>0.746</td>   <td>5.491</td>  <td>0.000</td>  <td>2.635</td>  <td>5.560</td>\n",
       "</tr>\n",
       "<tr>\n",
       "  <th>minority</th>             <td>-2.965</td>   <td>0.267</td>  <td>-11.107</td> <td>0.000</td> <td>-3.488</td> <td>-2.442</td>\n",
       "</tr>\n",
       "<tr>\n",
       "  <th>female</th>               <td>-1.231</td>   <td>0.160</td>  <td>-7.688</td>  <td>0.000</td> <td>-1.545</td> <td>-0.917</td>\n",
       "</tr>\n",
       "<tr>\n",
       "  <th>Group Var</th>             <td>1.729</td>   <td>0.068</td>     <td></td>       <td></td>       <td></td>       <td></td>   \n",
       "</tr>\n",
       "<tr>\n",
       "  <th>Group x minority Cov</th>  <td>0.781</td>   <td>0.104</td>     <td></td>       <td></td>       <td></td>       <td></td>   \n",
       "</tr>\n",
       "<tr>\n",
       "  <th>minority Var</th>          <td>3.153</td>   <td>0.268</td>     <td></td>       <td></td>       <td></td>       <td></td>   \n",
       "</tr>\n",
       "</table><br/>\n"
      ],
      "text/latex": [
       "\\begin{table}\n",
       "\\caption{Mixed Linear Model Regression Results}\n",
       "\\label{}\n",
       "\\begin{center}\n",
       "\\begin{tabular}{llll}\n",
       "\\hline\n",
       "Model:            & MixedLM & Dependent Variable: & mathach      \\\\\n",
       "No. Observations: & 7185    & Method:             & ML           \\\\\n",
       "No. Groups:       & 160     & Scale:              & 35.4463      \\\\\n",
       "Min. group size:  & 14      & Log-Likelihood:     & -23144.2992  \\\\\n",
       "Max. group size:  & 67      & Converged:          & Yes          \\\\\n",
       "Mean group size:  & 44.9    &                     &              \\\\\n",
       "\\hline\n",
       "\\end{tabular}\n",
       "\\end{center}\n",
       "\n",
       "\\begin{center}\n",
       "\\begin{tabular}{lrrrrrr}\n",
       "\\hline\n",
       "                     &  Coef. & Std.Err. &       z & P$> |$z$|$ & [0.025 & 0.975]  \\\\\n",
       "\\hline\n",
       "Intercept            & 11.945 &    0.414 &  28.886 &       0.000 & 11.135 & 12.756  \\\\\n",
       "ses                  &  1.878 &    0.109 &  17.282 &       0.000 &  1.665 &  2.091  \\\\\n",
       "meanses              &  1.236 &    0.484 &   2.551 &       0.011 &  0.286 &  2.185  \\\\\n",
       "pracad               &  4.097 &    0.746 &   5.491 &       0.000 &  2.635 &  5.560  \\\\\n",
       "minority             & -2.965 &    0.267 & -11.107 &       0.000 & -3.488 & -2.442  \\\\\n",
       "female               & -1.231 &    0.160 &  -7.688 &       0.000 & -1.545 & -0.917  \\\\\n",
       "Group Var            &  1.729 &    0.068 &         &             &        &         \\\\\n",
       "Group x minority Cov &  0.781 &    0.104 &         &             &        &         \\\\\n",
       "minority Var         &  3.153 &    0.268 &         &             &        &         \\\\\n",
       "\\hline\n",
       "\\end{tabular}\n",
       "\\end{center}\n",
       "\\end{table}\n",
       "\\bigskip\n"
      ],
      "text/plain": [
       "<class 'statsmodels.iolib.summary2.Summary'>\n",
       "\"\"\"\n",
       "             Mixed Linear Model Regression Results\n",
       "================================================================\n",
       "Model:               MixedLM   Dependent Variable:   mathach    \n",
       "No. Observations:    7185      Method:               ML         \n",
       "No. Groups:          160       Scale:                35.4463    \n",
       "Min. group size:     14        Log-Likelihood:       -23144.2992\n",
       "Max. group size:     67        Converged:            Yes        \n",
       "Mean group size:     44.9                                       \n",
       "----------------------------------------------------------------\n",
       "                     Coef.  Std.Err.    z    P>|z| [0.025 0.975]\n",
       "----------------------------------------------------------------\n",
       "Intercept            11.945    0.414  28.886 0.000 11.135 12.756\n",
       "ses                   1.878    0.109  17.282 0.000  1.665  2.091\n",
       "meanses               1.236    0.484   2.551 0.011  0.286  2.185\n",
       "pracad                4.097    0.746   5.491 0.000  2.635  5.560\n",
       "minority             -2.965    0.267 -11.107 0.000 -3.488 -2.442\n",
       "female               -1.231    0.160  -7.688 0.000 -1.545 -0.917\n",
       "Group Var             1.729    0.068                            \n",
       "Group x minority Cov  0.781    0.104                            \n",
       "minority Var          3.153    0.268                            \n",
       "================================================================\n",
       "\n",
       "\"\"\""
      ]
     },
     "execution_count": 48,
     "metadata": {},
     "output_type": "execute_result"
    }
   ],
   "source": [
    "final_model = smf.mixedlm(\n",
    "    \"mathach ~ ses + meanses + pracad + minority + female\",\n",
    "    df_hsb,\n",
    "    groups=df_hsb[\"school\"],\n",
    "    re_formula=\"~ minority\",\n",
    ")\n",
    "final_model_results = final_model.fit(reml=False)\n",
    "\n",
    "final_model_results.summary()"
   ]
  },
  {
   "cell_type": "markdown",
   "metadata": {},
   "source": [
    "There are some fitting issues I had no time to fix."
   ]
  },
  {
   "cell_type": "markdown",
   "metadata": {},
   "source": [
    "### Equations for both levels"
   ]
  },
  {
   "cell_type": "code",
   "execution_count": 32,
   "metadata": {},
   "outputs": [],
   "source": [
    "# equations for both levels\n",
    "\n",
    "# level 1\n",
    "\n",
    "# level 2"
   ]
  },
  {
   "cell_type": "markdown",
   "metadata": {},
   "source": [
    "### Combined model"
   ]
  },
  {
   "cell_type": "code",
   "execution_count": null,
   "metadata": {},
   "outputs": [],
   "source": [
    "# TODO"
   ]
  },
  {
   "cell_type": "markdown",
   "metadata": {},
   "source": [
    "### List of fixed and random effect variables\n",
    "\n",
    "As seen in \"Final model\" section, the final model has the following fixed effects:\n",
    "\n",
    "* `ses`\n",
    "* `meanses`\n",
    "* `pracad`\n",
    "* `minority`\n",
    "* `female`\n",
    "\n",
    "And the following random effects:\n",
    "\n",
    "* `minority`"
   ]
  },
  {
   "cell_type": "markdown",
   "metadata": {},
   "source": [
    "### Estimates for fixed parameters\n",
    "\n",
    "The estimates for fixed parameters are given below:"
   ]
  },
  {
   "cell_type": "code",
   "execution_count": 49,
   "metadata": {},
   "outputs": [
    {
     "data": {
      "text/html": [
       "<div>\n",
       "<style scoped>\n",
       "    .dataframe tbody tr th:only-of-type {\n",
       "        vertical-align: middle;\n",
       "    }\n",
       "\n",
       "    .dataframe tbody tr th {\n",
       "        vertical-align: top;\n",
       "    }\n",
       "\n",
       "    .dataframe thead th {\n",
       "        text-align: right;\n",
       "    }\n",
       "</style>\n",
       "<table border=\"1\" class=\"dataframe\">\n",
       "  <thead>\n",
       "    <tr style=\"text-align: right;\">\n",
       "      <th></th>\n",
       "      <th>coef</th>\n",
       "    </tr>\n",
       "  </thead>\n",
       "  <tbody>\n",
       "    <tr>\n",
       "      <th>Intercept</th>\n",
       "      <td>11.9452</td>\n",
       "    </tr>\n",
       "    <tr>\n",
       "      <th>ses</th>\n",
       "      <td>1.8784</td>\n",
       "    </tr>\n",
       "    <tr>\n",
       "      <th>meanses</th>\n",
       "      <td>1.2356</td>\n",
       "    </tr>\n",
       "    <tr>\n",
       "      <th>pracad</th>\n",
       "      <td>4.0973</td>\n",
       "    </tr>\n",
       "    <tr>\n",
       "      <th>minority</th>\n",
       "      <td>-2.9647</td>\n",
       "    </tr>\n",
       "    <tr>\n",
       "      <th>female</th>\n",
       "      <td>-1.2308</td>\n",
       "    </tr>\n",
       "  </tbody>\n",
       "</table>\n",
       "</div>"
      ],
      "text/plain": [
       "             coef\n",
       "Intercept 11.9452\n",
       "ses        1.8784\n",
       "meanses    1.2356\n",
       "pracad     4.0973\n",
       "minority  -2.9647\n",
       "female    -1.2308"
      ]
     },
     "execution_count": 49,
     "metadata": {},
     "output_type": "execute_result"
    }
   ],
   "source": [
    "coef = final_model_results.fe_params.rename(\"coef\")\n",
    "coef.to_frame()"
   ]
  },
  {
   "cell_type": "markdown",
   "metadata": {},
   "source": [
    "### Combined model with parameter estimates"
   ]
  },
  {
   "cell_type": "code",
   "execution_count": 50,
   "metadata": {},
   "outputs": [
    {
     "name": "stdout",
     "output_type": "stream",
     "text": [
      "mathach_ij = 11.945 + 1.878*ses_ij + 1.236*meanses_ij + 4.097*pracad_ij + -2.965*minority_ij + -1.231*female_ij + u_0j + r_ij\n"
     ]
    }
   ],
   "source": [
    "random_effects = pd.DataFrame(final_model_results.random_effects).T\n",
    "\n",
    "print(\" + \".join([\n",
    "    f\"mathach_ij = {coef.Intercept:.3f}\",\n",
    "    f\"{coef.ses:.3f}*ses_ij\",\n",
    "    f\"{coef.meanses:.3f}*meanses_ij\",\n",
    "    f\"{coef.pracad:.3f}*pracad_ij\",\n",
    "    f\"{coef.minority:.3f}*minority_ij\",\n",
    "    f\"{coef.female:.3f}*female_ij\",\n",
    "    \"u_0j + r_ij\"\n",
    "]))"
   ]
  },
  {
   "cell_type": "markdown",
   "metadata": {},
   "source": [
    "Here $u_0j$ is the school-level random effect for minority and $r_ij$ is the student-level random effect.\n",
    "\n",
    "Formula for $u_0j$:\n",
    "\n",
    "$$u_{0j} = \\gamma_{00} + \\gamma_{01} \\times \\text{minority} + \\mu_{0j}$$\n",
    "\n",
    "Here $\\gamma_{00}$ is the fixed effect of minority, $\\gamma_{01}$ is the random effect of minority, and $\\mu_{0j}$ is the error term.\n",
    "\n",
    "Table for the estimates:"
   ]
  },
  {
   "cell_type": "code",
   "execution_count": 56,
   "metadata": {},
   "outputs": [],
   "source": [
    "# random_effects.rename(columns={\"Group\": \"u_0j\", \"school\": \"r_ij\"}, inplace=True)\n",
    "\n",
    "# random_effects\n",
    "# # $$u_{0j} = \\gamma_{00} + \\gamma_{01} \\times \\text{minority} + \\mu_{0j}$$"
   ]
  },
  {
   "cell_type": "markdown",
   "metadata": {},
   "source": [
    "### Change in chosen information index\n",
    "\n",
    "We will calculate the change in Akaike criteria (AIC) for the final model. The AIC is given by the formula:\n",
    "\n",
    "$$\n",
    "    AIC = -2 \\times \\text{log-likelihood} + 2 \\times \\text{number of random-effect parameters}\n",
    "$$"
   ]
  },
  {
   "cell_type": "code",
   "execution_count": 51,
   "metadata": {},
   "outputs": [
    {
     "name": "stdout",
     "output_type": "stream",
     "text": [
      "Unconditional AIC: 47121.8102\n",
      "Final AIC: 46308.5983\n",
      "Change in AIC: -813.2119\n"
     ]
    }
   ],
   "source": [
    "unconditional_aic = unconditional_model_results.aic\n",
    "final_aic = final_model_results.aic\n",
    "aic_change = final_aic - unconditional_aic\n",
    "\n",
    "print(f\"Unconditional AIC: {unconditional_aic:.4f}\")\n",
    "print(f\"Final AIC: {final_aic:.4f}\")\n",
    "print(f\"Change in AIC: {aic_change:.4f}\")"
   ]
  },
  {
   "cell_type": "markdown",
   "metadata": {},
   "source": [
    "AIC has decreased from 47.1k to 46.3k, which means that the final model is better than the unconditional model."
   ]
  },
  {
   "cell_type": "markdown",
   "metadata": {},
   "source": [
    "### Relative change in first level residual variance estimate\n",
    "\n",
    "Change in the first level residual variance estimate is given by the formula:\n",
    "\n",
    "$$\n",
    "    \\frac{\\text{Old residual variance estimate} - \\text{New residual variance estimate}}{\\text{Old residual variance estimate}}\n",
    "$$"
   ]
  },
  {
   "cell_type": "code",
   "execution_count": 95,
   "metadata": {},
   "outputs": [
    {
     "name": "stdout",
     "output_type": "stream",
     "text": [
      "Relative Change in Residual Variance: 0.1125\n"
     ]
    }
   ],
   "source": [
    "unconditional_residual_var = unconditional_model_results.scale\n",
    "final_residual_var = final_model_results.scale\n",
    "variance_change = (unconditional_residual_var - final_residual_var) / unconditional_residual_var\n",
    "print(f\"Relative Change in Residual Variance: {variance_change:.4f}\")"
   ]
  },
  {
   "cell_type": "markdown",
   "metadata": {},
   "source": [
    "The relative change in the first level residual variance estimate is `0.1125`. This means that the final model explains 11.25% more of the variance in math achievement at the student level."
   ]
  },
  {
   "cell_type": "markdown",
   "metadata": {},
   "source": [
    "## Forecasting\n",
    "\n",
    "We will forecast `mathach` for a student with the following characteristics:"
   ]
  },
  {
   "cell_type": "code",
   "execution_count": 29,
   "metadata": {},
   "outputs": [],
   "source": [
    "forecast_data = {\n",
    "    \"minority\": 1,\n",
    "    \"female\": 1,\n",
    "    \"ses\": 0,\n",
    "    \"cses\": 0.4,\n",
    "    \"meanses\": -0.4,\n",
    "    \"size\": 800,\n",
    "    \"sector\": 0,\n",
    "    \"pracad\": 0.25,\n",
    "    \"himinty\": 0,\n",
    "}"
   ]
  },
  {
   "cell_type": "code",
   "execution_count": 31,
   "metadata": {},
   "outputs": [
    {
     "name": "stdout",
     "output_type": "stream",
     "text": [
      "Forecasted mathach: 8.6354\n"
     ]
    }
   ],
   "source": [
    "fixed_effects = coef.to_dict()\n",
    "\n",
    "forecast_value = fixed_effects[\"Intercept\"] + sum(\n",
    "    [\n",
    "        fixed_effects[var] * forecast_data[var]\n",
    "        for var in forecast_data\n",
    "        if var in fixed_effects\n",
    "    ]\n",
    ")\n",
    "\n",
    "print(f\"Forecasted mathach: {forecast_value:.4f}\")"
   ]
  }
 ],
 "metadata": {
  "kernelspec": {
   "display_name": "multivariate-bR2SZf0l-py3.11",
   "language": "python",
   "name": "python3"
  },
  "language_info": {
   "codemirror_mode": {
    "name": "ipython",
    "version": 3
   },
   "file_extension": ".py",
   "mimetype": "text/x-python",
   "name": "python",
   "nbconvert_exporter": "python",
   "pygments_lexer": "ipython3",
   "version": "3.11.0rc1"
  }
 },
 "nbformat": 4,
 "nbformat_minor": 2
}
