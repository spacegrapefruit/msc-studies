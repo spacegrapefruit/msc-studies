{
 "cells": [
  {
   "cell_type": "markdown",
   "metadata": {},
   "source": [
    "# Multivariate statistics Test 6: EFA + CA\n",
    "\n",
    "**Student**: Aleksandr Jan Smoliakov, VU MIF Data Science MSc year 1  \n",
    "**Date**: 2024-12-05"
   ]
  },
  {
   "cell_type": "markdown",
   "metadata": {},
   "source": [
    "## Exploratory Factor Analysis\n",
    "\n",
    "Data: File `Beer.sav`, variables\n",
    "\n",
    "* `cost`\n",
    "* `size`\n",
    "* `alcohol`\n",
    "* `color`\n",
    "* `aroma`\n",
    "* `taste`\n",
    "\n",
    "Task: perform factor analysis."
   ]
  },
  {
   "cell_type": "markdown",
   "metadata": {},
   "source": [
    "First of all, let's load the data and take a look."
   ]
  },
  {
   "cell_type": "code",
   "execution_count": null,
   "metadata": {},
   "outputs": [
    {
     "data": {
      "text/html": [
       "<div>\n",
       "<style scoped>\n",
       "    .dataframe tbody tr th:only-of-type {\n",
       "        vertical-align: middle;\n",
       "    }\n",
       "\n",
       "    .dataframe tbody tr th {\n",
       "        vertical-align: top;\n",
       "    }\n",
       "\n",
       "    .dataframe thead th {\n",
       "        text-align: right;\n",
       "    }\n",
       "</style>\n",
       "<table border=\"1\" class=\"dataframe\">\n",
       "  <thead>\n",
       "    <tr style=\"text-align: right;\">\n",
       "      <th></th>\n",
       "      <th>COST</th>\n",
       "      <th>SIZE</th>\n",
       "      <th>ALCOHOL</th>\n",
       "      <th>REPUTAT</th>\n",
       "      <th>COLOR</th>\n",
       "      <th>AROMA</th>\n",
       "      <th>TASTE</th>\n",
       "      <th>SES</th>\n",
       "      <th>GROUP</th>\n",
       "    </tr>\n",
       "  </thead>\n",
       "  <tbody>\n",
       "    <tr>\n",
       "      <th>count</th>\n",
       "      <td>231.0000</td>\n",
       "      <td>231.0000</td>\n",
       "      <td>231.0000</td>\n",
       "      <td>231.0000</td>\n",
       "      <td>231.0000</td>\n",
       "      <td>220.0000</td>\n",
       "      <td>231.0000</td>\n",
       "      <td>231.0000</td>\n",
       "      <td>231.0000</td>\n",
       "    </tr>\n",
       "    <tr>\n",
       "      <th>mean</th>\n",
       "      <td>48.8095</td>\n",
       "      <td>45.7143</td>\n",
       "      <td>49.0476</td>\n",
       "      <td>48.3333</td>\n",
       "      <td>49.5238</td>\n",
       "      <td>44.7500</td>\n",
       "      <td>65.9524</td>\n",
       "      <td>3.3333</td>\n",
       "      <td>1.4286</td>\n",
       "    </tr>\n",
       "    <tr>\n",
       "      <th>std</th>\n",
       "      <td>34.1574</td>\n",
       "      <td>34.3800</td>\n",
       "      <td>33.4755</td>\n",
       "      <td>23.6214</td>\n",
       "      <td>27.0465</td>\n",
       "      <td>25.8209</td>\n",
       "      <td>24.2353</td>\n",
       "      <td>2.5378</td>\n",
       "      <td>0.4959</td>\n",
       "    </tr>\n",
       "    <tr>\n",
       "      <th>min</th>\n",
       "      <td>0.0000</td>\n",
       "      <td>0.0000</td>\n",
       "      <td>10.0000</td>\n",
       "      <td>0.0000</td>\n",
       "      <td>0.0000</td>\n",
       "      <td>0.0000</td>\n",
       "      <td>25.0000</td>\n",
       "      <td>0.0000</td>\n",
       "      <td>1.0000</td>\n",
       "    </tr>\n",
       "    <tr>\n",
       "      <th>25%</th>\n",
       "      <td>15.0000</td>\n",
       "      <td>15.0000</td>\n",
       "      <td>20.0000</td>\n",
       "      <td>30.0000</td>\n",
       "      <td>30.0000</td>\n",
       "      <td>27.5000</td>\n",
       "      <td>50.0000</td>\n",
       "      <td>2.0000</td>\n",
       "      <td>1.0000</td>\n",
       "    </tr>\n",
       "    <tr>\n",
       "      <th>50%</th>\n",
       "      <td>50.0000</td>\n",
       "      <td>35.0000</td>\n",
       "      <td>35.0000</td>\n",
       "      <td>40.0000</td>\n",
       "      <td>50.0000</td>\n",
       "      <td>45.0000</td>\n",
       "      <td>65.0000</td>\n",
       "      <td>3.0000</td>\n",
       "      <td>1.0000</td>\n",
       "    </tr>\n",
       "    <tr>\n",
       "      <th>75%</th>\n",
       "      <td>80.0000</td>\n",
       "      <td>80.0000</td>\n",
       "      <td>70.0000</td>\n",
       "      <td>65.0000</td>\n",
       "      <td>75.0000</td>\n",
       "      <td>66.2500</td>\n",
       "      <td>90.0000</td>\n",
       "      <td>5.0000</td>\n",
       "      <td>2.0000</td>\n",
       "    </tr>\n",
       "    <tr>\n",
       "      <th>max</th>\n",
       "      <td>100.0000</td>\n",
       "      <td>100.0000</td>\n",
       "      <td>100.0000</td>\n",
       "      <td>100.0000</td>\n",
       "      <td>95.0000</td>\n",
       "      <td>90.0000</td>\n",
       "      <td>100.0000</td>\n",
       "      <td>8.0000</td>\n",
       "      <td>2.0000</td>\n",
       "    </tr>\n",
       "  </tbody>\n",
       "</table>\n",
       "</div>"
      ],
      "text/plain": [
       "          COST     SIZE  ALCOHOL  REPUTAT    COLOR    AROMA    TASTE      SES  \\\n",
       "count 231.0000 231.0000 231.0000 231.0000 231.0000 220.0000 231.0000 231.0000   \n",
       "mean   48.8095  45.7143  49.0476  48.3333  49.5238  44.7500  65.9524   3.3333   \n",
       "std    34.1574  34.3800  33.4755  23.6214  27.0465  25.8209  24.2353   2.5378   \n",
       "min     0.0000   0.0000  10.0000   0.0000   0.0000   0.0000  25.0000   0.0000   \n",
       "25%    15.0000  15.0000  20.0000  30.0000  30.0000  27.5000  50.0000   2.0000   \n",
       "50%    50.0000  35.0000  35.0000  40.0000  50.0000  45.0000  65.0000   3.0000   \n",
       "75%    80.0000  80.0000  70.0000  65.0000  75.0000  66.2500  90.0000   5.0000   \n",
       "max   100.0000 100.0000 100.0000 100.0000  95.0000  90.0000 100.0000   8.0000   \n",
       "\n",
       "         GROUP  \n",
       "count 231.0000  \n",
       "mean    1.4286  \n",
       "std     0.4959  \n",
       "min     1.0000  \n",
       "25%     1.0000  \n",
       "50%     1.0000  \n",
       "75%     2.0000  \n",
       "max     2.0000  "
      ]
     },
     "execution_count": 48,
     "metadata": {},
     "output_type": "execute_result"
    }
   ],
   "source": [
    "import numpy as np\n",
    "import pandas as pd\n",
    "import pyreadstat\n",
    "from factor_analyzer import FactorAnalyzer, calculate_kmo\n",
    "from matplotlib import pyplot as plt\n",
    "\n",
    "pd.options.display.float_format = '{:.4f}'.format\n",
    "\n",
    "df_beer, metadata_beer = pyreadstat.read_sav(\"data/Beer.sav\")\n",
    "\n",
    "df_beer.describe()"
   ]
  },
  {
   "cell_type": "markdown",
   "metadata": {},
   "source": [
    "There are 11 missing values in the `aroma` column. We are going to remove them.\n",
    "\n",
    "The dataset has three additional columns not described in the task: `reputat`, `ses` and `group`. We are not going to remove them to avoid using them accidentally."
   ]
  },
  {
   "cell_type": "code",
   "execution_count": 49,
   "metadata": {},
   "outputs": [
    {
     "data": {
      "text/html": [
       "<div>\n",
       "<style scoped>\n",
       "    .dataframe tbody tr th:only-of-type {\n",
       "        vertical-align: middle;\n",
       "    }\n",
       "\n",
       "    .dataframe tbody tr th {\n",
       "        vertical-align: top;\n",
       "    }\n",
       "\n",
       "    .dataframe thead th {\n",
       "        text-align: right;\n",
       "    }\n",
       "</style>\n",
       "<table border=\"1\" class=\"dataframe\">\n",
       "  <thead>\n",
       "    <tr style=\"text-align: right;\">\n",
       "      <th></th>\n",
       "      <th>cost</th>\n",
       "      <th>size</th>\n",
       "      <th>alcohol</th>\n",
       "      <th>color</th>\n",
       "      <th>aroma</th>\n",
       "      <th>taste</th>\n",
       "    </tr>\n",
       "  </thead>\n",
       "  <tbody>\n",
       "    <tr>\n",
       "      <th>0</th>\n",
       "      <td>90.0000</td>\n",
       "      <td>80.0000</td>\n",
       "      <td>70.0000</td>\n",
       "      <td>50.0000</td>\n",
       "      <td>70.0000</td>\n",
       "      <td>60.0000</td>\n",
       "    </tr>\n",
       "    <tr>\n",
       "      <th>1</th>\n",
       "      <td>75.0000</td>\n",
       "      <td>95.0000</td>\n",
       "      <td>100.0000</td>\n",
       "      <td>55.0000</td>\n",
       "      <td>40.0000</td>\n",
       "      <td>65.0000</td>\n",
       "    </tr>\n",
       "    <tr>\n",
       "      <th>2</th>\n",
       "      <td>10.0000</td>\n",
       "      <td>15.0000</td>\n",
       "      <td>20.0000</td>\n",
       "      <td>40.0000</td>\n",
       "      <td>30.0000</td>\n",
       "      <td>50.0000</td>\n",
       "    </tr>\n",
       "    <tr>\n",
       "      <th>3</th>\n",
       "      <td>100.0000</td>\n",
       "      <td>70.0000</td>\n",
       "      <td>50.0000</td>\n",
       "      <td>75.0000</td>\n",
       "      <td>60.0000</td>\n",
       "      <td>80.0000</td>\n",
       "    </tr>\n",
       "    <tr>\n",
       "      <th>4</th>\n",
       "      <td>20.0000</td>\n",
       "      <td>10.0000</td>\n",
       "      <td>25.0000</td>\n",
       "      <td>30.0000</td>\n",
       "      <td>35.0000</td>\n",
       "      <td>45.0000</td>\n",
       "    </tr>\n",
       "    <tr>\n",
       "      <th>...</th>\n",
       "      <td>...</td>\n",
       "      <td>...</td>\n",
       "      <td>...</td>\n",
       "      <td>...</td>\n",
       "      <td>...</td>\n",
       "      <td>...</td>\n",
       "    </tr>\n",
       "    <tr>\n",
       "      <th>225</th>\n",
       "      <td>20.0000</td>\n",
       "      <td>5.0000</td>\n",
       "      <td>10.0000</td>\n",
       "      <td>60.0000</td>\n",
       "      <td>50.0000</td>\n",
       "      <td>95.0000</td>\n",
       "    </tr>\n",
       "    <tr>\n",
       "      <th>226</th>\n",
       "      <td>70.0000</td>\n",
       "      <td>60.0000</td>\n",
       "      <td>70.0000</td>\n",
       "      <td>10.0000</td>\n",
       "      <td>15.0000</td>\n",
       "      <td>25.0000</td>\n",
       "    </tr>\n",
       "    <tr>\n",
       "      <th>227</th>\n",
       "      <td>50.0000</td>\n",
       "      <td>15.0000</td>\n",
       "      <td>20.0000</td>\n",
       "      <td>10.0000</td>\n",
       "      <td>5.0000</td>\n",
       "      <td>50.0000</td>\n",
       "    </tr>\n",
       "    <tr>\n",
       "      <th>228</th>\n",
       "      <td>75.0000</td>\n",
       "      <td>50.0000</td>\n",
       "      <td>95.0000</td>\n",
       "      <td>0.0000</td>\n",
       "      <td>0.0000</td>\n",
       "      <td>40.0000</td>\n",
       "    </tr>\n",
       "    <tr>\n",
       "      <th>229</th>\n",
       "      <td>15.0000</td>\n",
       "      <td>10.0000</td>\n",
       "      <td>25.0000</td>\n",
       "      <td>95.0000</td>\n",
       "      <td>80.0000</td>\n",
       "      <td>100.0000</td>\n",
       "    </tr>\n",
       "  </tbody>\n",
       "</table>\n",
       "<p>220 rows × 6 columns</p>\n",
       "</div>"
      ],
      "text/plain": [
       "        cost    size  alcohol   color   aroma    taste\n",
       "0    90.0000 80.0000  70.0000 50.0000 70.0000  60.0000\n",
       "1    75.0000 95.0000 100.0000 55.0000 40.0000  65.0000\n",
       "2    10.0000 15.0000  20.0000 40.0000 30.0000  50.0000\n",
       "3   100.0000 70.0000  50.0000 75.0000 60.0000  80.0000\n",
       "4    20.0000 10.0000  25.0000 30.0000 35.0000  45.0000\n",
       "..       ...     ...      ...     ...     ...      ...\n",
       "225  20.0000  5.0000  10.0000 60.0000 50.0000  95.0000\n",
       "226  70.0000 60.0000  70.0000 10.0000 15.0000  25.0000\n",
       "227  50.0000 15.0000  20.0000 10.0000  5.0000  50.0000\n",
       "228  75.0000 50.0000  95.0000  0.0000  0.0000  40.0000\n",
       "229  15.0000 10.0000  25.0000 95.0000 80.0000 100.0000\n",
       "\n",
       "[220 rows x 6 columns]"
      ]
     },
     "execution_count": 49,
     "metadata": {},
     "output_type": "execute_result"
    }
   ],
   "source": [
    "df_beer = df_beer.drop([\"REPUTAT\", \"SES\", \"GROUP\"], axis=1)\n",
    "df_beer = df_beer.dropna()\n",
    "df_beer.columns = df_beer.columns.str.lower()\n",
    "\n",
    "df_beer"
   ]
  },
  {
   "cell_type": "markdown",
   "metadata": {},
   "source": [
    "### KMO\n",
    "\n",
    "We are going to calculate the KMO measure of adequacy to check if the data is suitable for factor analysis (i.e. KMO > 0.5)."
   ]
  },
  {
   "cell_type": "code",
   "execution_count": 57,
   "metadata": {},
   "outputs": [
    {
     "name": "stdout",
     "output_type": "stream",
     "text": [
      "KMO Model: 0.628\n"
     ]
    }
   ],
   "source": [
    "kmo_all, kmo_model = calculate_kmo(df_beer)\n",
    "print(f\"KMO Model: {kmo_model:.3f}\")"
   ]
  },
  {
   "cell_type": "markdown",
   "metadata": {},
   "source": [
    "The KMO of 0.628 is acceptable."
   ]
  },
  {
   "cell_type": "markdown",
   "metadata": {},
   "source": [
    "### Variance explained by factors\n",
    "\n",
    "Variance explained by each factor is shown in the table below."
   ]
  },
  {
   "cell_type": "code",
   "execution_count": 163,
   "metadata": {},
   "outputs": [
    {
     "data": {
      "text/plain": [
       "array([0.4781151 , 0.43414613, 0.04000927, 0.02392752, 0.01761521,\n",
       "       0.00618677])"
      ]
     },
     "execution_count": 163,
     "metadata": {},
     "output_type": "execute_result"
    }
   ],
   "source": [
    "ev, v = np.linalg.eig(df_beer.corr())\n",
    "ev = ev / ev.sum()\n",
    "ev = np.sort(ev)[::-1]\n",
    "ev"
   ]
  },
  {
   "cell_type": "code",
   "execution_count": 164,
   "metadata": {},
   "outputs": [],
   "source": [
    "df_var_explained = pd.DataFrame(\n",
    "    {\n",
    "        \"factor\": range(1, 7),\n",
    "        \"eigenvalues\": ev,\n",
    "        \"proportion\": ev / ev.sum(),\n",
    "        \"cumulative\": np.cumsum(ev / ev.sum()),\n",
    "    }\n",
    ")"
   ]
  },
  {
   "cell_type": "code",
   "execution_count": 165,
   "metadata": {},
   "outputs": [
    {
     "data": {
      "text/html": [
       "<div>\n",
       "<style scoped>\n",
       "    .dataframe tbody tr th:only-of-type {\n",
       "        vertical-align: middle;\n",
       "    }\n",
       "\n",
       "    .dataframe tbody tr th {\n",
       "        vertical-align: top;\n",
       "    }\n",
       "\n",
       "    .dataframe thead th {\n",
       "        text-align: right;\n",
       "    }\n",
       "</style>\n",
       "<table border=\"1\" class=\"dataframe\">\n",
       "  <thead>\n",
       "    <tr style=\"text-align: right;\">\n",
       "      <th></th>\n",
       "      <th>factor</th>\n",
       "      <th>eigenvalues</th>\n",
       "      <th>proportion</th>\n",
       "      <th>cumulative</th>\n",
       "    </tr>\n",
       "  </thead>\n",
       "  <tbody>\n",
       "    <tr>\n",
       "      <th>0</th>\n",
       "      <td>1</td>\n",
       "      <td>0.4781</td>\n",
       "      <td>0.4781</td>\n",
       "      <td>0.4781</td>\n",
       "    </tr>\n",
       "    <tr>\n",
       "      <th>1</th>\n",
       "      <td>2</td>\n",
       "      <td>0.4341</td>\n",
       "      <td>0.4341</td>\n",
       "      <td>0.9123</td>\n",
       "    </tr>\n",
       "    <tr>\n",
       "      <th>2</th>\n",
       "      <td>3</td>\n",
       "      <td>0.0400</td>\n",
       "      <td>0.0400</td>\n",
       "      <td>0.9523</td>\n",
       "    </tr>\n",
       "    <tr>\n",
       "      <th>3</th>\n",
       "      <td>4</td>\n",
       "      <td>0.0239</td>\n",
       "      <td>0.0239</td>\n",
       "      <td>0.9762</td>\n",
       "    </tr>\n",
       "    <tr>\n",
       "      <th>4</th>\n",
       "      <td>5</td>\n",
       "      <td>0.0176</td>\n",
       "      <td>0.0176</td>\n",
       "      <td>0.9938</td>\n",
       "    </tr>\n",
       "    <tr>\n",
       "      <th>5</th>\n",
       "      <td>6</td>\n",
       "      <td>0.0062</td>\n",
       "      <td>0.0062</td>\n",
       "      <td>1.0000</td>\n",
       "    </tr>\n",
       "  </tbody>\n",
       "</table>\n",
       "</div>"
      ],
      "text/plain": [
       "   factor  eigenvalues  proportion  cumulative\n",
       "0       1       0.4781      0.4781      0.4781\n",
       "1       2       0.4341      0.4341      0.9123\n",
       "2       3       0.0400      0.0400      0.9523\n",
       "3       4       0.0239      0.0239      0.9762\n",
       "4       5       0.0176      0.0176      0.9938\n",
       "5       6       0.0062      0.0062      1.0000"
      ]
     },
     "execution_count": 165,
     "metadata": {},
     "output_type": "execute_result"
    }
   ],
   "source": [
    "df_var_explained"
   ]
  },
  {
   "cell_type": "markdown",
   "metadata": {},
   "source": [
    "### Scree plot"
   ]
  },
  {
   "cell_type": "code",
   "execution_count": 166,
   "metadata": {},
   "outputs": [
    {
     "data": {
      "image/png": "[encoded data removed]",
      "text/plain": [
       "<Figure size 800x500 with 1 Axes>"
      ]
     },
     "metadata": {},
     "output_type": "display_data"
    }
   ],
   "source": [
    "plt.figure(figsize=(8, 5))\n",
    "plt.plot(\n",
    "    df_var_explained[\"factor\"],\n",
    "    df_var_explained[\"eigenvalues\"],\n",
    "    marker=\".\",\n",
    "    label=\"Eigenvalues\",\n",
    ")\n",
    "plt.title(\"Scree Plot\")\n",
    "plt.xlabel(\"Component\")\n",
    "plt.ylabel(\"Eigenvalue\")\n",
    "plt.grid()\n",
    "plt.show()"
   ]
  },
  {
   "cell_type": "markdown",
   "metadata": {},
   "source": [
    "Based on the above table and plot we're going to choose 2 factors with eigenvalues > 1. Cumulatively they explain 91.2% of the variance (see table above)."
   ]
  },
  {
   "cell_type": "code",
   "execution_count": 167,
   "metadata": {},
   "outputs": [],
   "source": [
    "n_factors = 2"
   ]
  },
  {
   "cell_type": "markdown",
   "metadata": {},
   "source": [
    "### Communalities\n",
    "\n",
    "The table below shows the communalities of the variables. All of them are above 0.2, which is acceptable."
   ]
  },
  {
   "cell_type": "code",
   "execution_count": 191,
   "metadata": {},
   "outputs": [
    {
     "data": {
      "text/html": [
       "<div>\n",
       "<style scoped>\n",
       "    .dataframe tbody tr th:only-of-type {\n",
       "        vertical-align: middle;\n",
       "    }\n",
       "\n",
       "    .dataframe tbody tr th {\n",
       "        vertical-align: top;\n",
       "    }\n",
       "\n",
       "    .dataframe thead th {\n",
       "        text-align: right;\n",
       "    }\n",
       "</style>\n",
       "<table border=\"1\" class=\"dataframe\">\n",
       "  <thead>\n",
       "    <tr style=\"text-align: right;\">\n",
       "      <th></th>\n",
       "      <th>Communalities</th>\n",
       "    </tr>\n",
       "  </thead>\n",
       "  <tbody>\n",
       "    <tr>\n",
       "      <th>cost</th>\n",
       "      <td>0.8458</td>\n",
       "    </tr>\n",
       "    <tr>\n",
       "      <th>size</th>\n",
       "      <td>0.9430</td>\n",
       "    </tr>\n",
       "    <tr>\n",
       "      <th>alcohol</th>\n",
       "      <td>0.8911</td>\n",
       "    </tr>\n",
       "    <tr>\n",
       "      <th>color</th>\n",
       "      <td>0.9499</td>\n",
       "    </tr>\n",
       "    <tr>\n",
       "      <th>aroma</th>\n",
       "      <td>0.9236</td>\n",
       "    </tr>\n",
       "    <tr>\n",
       "      <th>taste</th>\n",
       "      <td>0.9201</td>\n",
       "    </tr>\n",
       "  </tbody>\n",
       "</table>\n",
       "</div>"
      ],
      "text/plain": [
       "         Communalities\n",
       "cost            0.8458\n",
       "size            0.9430\n",
       "alcohol         0.8911\n",
       "color           0.9499\n",
       "aroma           0.9236\n",
       "taste           0.9201"
      ]
     },
     "execution_count": 191,
     "metadata": {},
     "output_type": "execute_result"
    }
   ],
   "source": [
    "fa = FactorAnalyzer(rotation=\"varimax\", method=\"principal\", n_factors=n_factors)\n",
    "fa.fit(df_beer)\n",
    "\n",
    "communalities = fa.get_communalities()\n",
    "pd.DataFrame(communalities, index=df_beer.columns, columns=[\"Communalities\"])"
   ]
  },
  {
   "cell_type": "markdown",
   "metadata": {},
   "source": [
    "### Total variation explained by extracted factors\n",
    "\n",
    "We will confirm that the total variation explained by the two extracted factors is still 91.2%."
   ]
  },
  {
   "cell_type": "code",
   "execution_count": 192,
   "metadata": {},
   "outputs": [
    {
     "data": {
      "text/html": [
       "<div>\n",
       "<style scoped>\n",
       "    .dataframe tbody tr th:only-of-type {\n",
       "        vertical-align: middle;\n",
       "    }\n",
       "\n",
       "    .dataframe tbody tr th {\n",
       "        vertical-align: top;\n",
       "    }\n",
       "\n",
       "    .dataframe thead th {\n",
       "        text-align: right;\n",
       "    }\n",
       "</style>\n",
       "<table border=\"1\" class=\"dataframe\">\n",
       "  <thead>\n",
       "    <tr style=\"text-align: right;\">\n",
       "      <th></th>\n",
       "      <th>factor</th>\n",
       "      <th>eigenvalues</th>\n",
       "      <th>proportion</th>\n",
       "      <th>cumulative</th>\n",
       "    </tr>\n",
       "  </thead>\n",
       "  <tbody>\n",
       "    <tr>\n",
       "      <th>0</th>\n",
       "      <td>1</td>\n",
       "      <td>2.7960</td>\n",
       "      <td>0.4660</td>\n",
       "      <td>0.4660</td>\n",
       "    </tr>\n",
       "    <tr>\n",
       "      <th>1</th>\n",
       "      <td>2</td>\n",
       "      <td>2.6776</td>\n",
       "      <td>0.4463</td>\n",
       "      <td>0.9123</td>\n",
       "    </tr>\n",
       "  </tbody>\n",
       "</table>\n",
       "</div>"
      ],
      "text/plain": [
       "   factor  eigenvalues  proportion  cumulative\n",
       "0       1       2.7960      0.4660      0.4660\n",
       "1       2       2.6776      0.4463      0.9123"
      ]
     },
     "execution_count": 192,
     "metadata": {},
     "output_type": "execute_result"
    }
   ],
   "source": [
    "df_var_explained = pd.DataFrame(\n",
    "    np.transpose(fa.get_factor_variance()),\n",
    "    columns=[\"eigenvalues\", \"proportion\", \"cumulative\"],\n",
    ")\n",
    "df_var_explained.insert(0, \"factor\", range(1, 3))\n",
    "df_var_explained"
   ]
  },
  {
   "cell_type": "markdown",
   "metadata": {},
   "source": [
    "### Rotated factor solution\n",
    "\n",
    "The rotated factor loadings are shown in the table below."
   ]
  },
  {
   "cell_type": "code",
   "execution_count": 193,
   "metadata": {},
   "outputs": [
    {
     "data": {
      "text/html": [
       "<div>\n",
       "<style scoped>\n",
       "    .dataframe tbody tr th:only-of-type {\n",
       "        vertical-align: middle;\n",
       "    }\n",
       "\n",
       "    .dataframe tbody tr th {\n",
       "        vertical-align: top;\n",
       "    }\n",
       "\n",
       "    .dataframe thead th {\n",
       "        text-align: right;\n",
       "    }\n",
       "</style>\n",
       "<table border=\"1\" class=\"dataframe\">\n",
       "  <thead>\n",
       "    <tr style=\"text-align: right;\">\n",
       "      <th></th>\n",
       "      <th>Factor 1</th>\n",
       "      <th>Factor 2</th>\n",
       "    </tr>\n",
       "  </thead>\n",
       "  <tbody>\n",
       "    <tr>\n",
       "      <th>cost</th>\n",
       "      <td>-0.0648</td>\n",
       "      <td>0.9174</td>\n",
       "    </tr>\n",
       "    <tr>\n",
       "      <th>size</th>\n",
       "      <td>0.0787</td>\n",
       "      <td>0.9679</td>\n",
       "    </tr>\n",
       "    <tr>\n",
       "      <th>alcohol</th>\n",
       "      <td>0.0189</td>\n",
       "      <td>0.9438</td>\n",
       "    </tr>\n",
       "    <tr>\n",
       "      <th>color</th>\n",
       "      <td>0.9708</td>\n",
       "      <td>0.0856</td>\n",
       "    </tr>\n",
       "    <tr>\n",
       "      <th>aroma</th>\n",
       "      <td>0.9608</td>\n",
       "      <td>0.0230</td>\n",
       "    </tr>\n",
       "    <tr>\n",
       "      <th>taste</th>\n",
       "      <td>0.9590</td>\n",
       "      <td>-0.0228</td>\n",
       "    </tr>\n",
       "  </tbody>\n",
       "</table>\n",
       "</div>"
      ],
      "text/plain": [
       "         Factor 1  Factor 2\n",
       "cost      -0.0648    0.9174\n",
       "size       0.0787    0.9679\n",
       "alcohol    0.0189    0.9438\n",
       "color      0.9708    0.0856\n",
       "aroma      0.9608    0.0230\n",
       "taste      0.9590   -0.0228"
      ]
     },
     "execution_count": 193,
     "metadata": {},
     "output_type": "execute_result"
    }
   ],
   "source": [
    "df_loadings = pd.DataFrame(fa.loadings_, index=df_beer.columns)\n",
    "df_loadings.columns = [f\"Factor {i}\" for i in range(1, n_factors + 1)]\n",
    "df_loadings"
   ]
  },
  {
   "cell_type": "markdown",
   "metadata": {},
   "source": [
    "### Variables related to each factor and Factor names\n",
    "\n",
    "Based on the loadings provided above, we can see the following:\n",
    "\n",
    "The first factor is strongly related to `color`, `aroma`, and `taste` with loadings > 0.9, all of them positively correlated. Based on that, we will interpret the first factor as the \"taste\" factor.\n",
    "\n",
    "The second factor is strongly related to `cost`, `size`, and `alcohol` with loadings > 0.9, all of them positively correlated. Based on that, we will interpret the second factor as the \"size\" factor.\n",
    "\n",
    "Thus, we have two factors:\n",
    "* \"taste\" factor, positively related to `color`, `aroma`, and `taste`\n",
    "* \"size\" factor, positively related to `cost`, `size`, and `alcohol`"
   ]
  },
  {
   "cell_type": "markdown",
   "metadata": {},
   "source": [
    "## Correspondence Analysis\n",
    "\n",
    "Data: Dataframe below\n",
    "\n",
    "* `lib`: liberal\n",
    "* `slib`: slightly liberal\n",
    "* `mod`: moderate\n",
    "* `scon`: slightly conservative\n",
    "* `con`: conservative\n",
    "\n",
    "Task: perform correspondence analysis."
   ]
  },
  {
   "cell_type": "code",
   "execution_count": 289,
   "metadata": {},
   "outputs": [],
   "source": [
    "import numpy as np\n",
    "import pandas as pd\n",
    "from matplotlib import pyplot as plt\n",
    "from scipy.stats import chi2_contingency"
   ]
  },
  {
   "cell_type": "code",
   "execution_count": 202,
   "metadata": {},
   "outputs": [
    {
     "data": {
      "text/html": [
       "<div>\n",
       "<style scoped>\n",
       "    .dataframe tbody tr th:only-of-type {\n",
       "        vertical-align: middle;\n",
       "    }\n",
       "\n",
       "    .dataframe tbody tr th {\n",
       "        vertical-align: top;\n",
       "    }\n",
       "\n",
       "    .dataframe thead th {\n",
       "        text-align: right;\n",
       "    }\n",
       "</style>\n",
       "<table border=\"1\" class=\"dataframe\">\n",
       "  <thead>\n",
       "    <tr style=\"text-align: right;\">\n",
       "      <th></th>\n",
       "      <th>Protestant</th>\n",
       "      <th>Catholic</th>\n",
       "      <th>Jewish</th>\n",
       "      <th>None</th>\n",
       "    </tr>\n",
       "  </thead>\n",
       "  <tbody>\n",
       "    <tr>\n",
       "      <th>lib</th>\n",
       "      <td>98</td>\n",
       "      <td>33</td>\n",
       "      <td>9</td>\n",
       "      <td>41</td>\n",
       "    </tr>\n",
       "    <tr>\n",
       "      <th>slib</th>\n",
       "      <td>116</td>\n",
       "      <td>40</td>\n",
       "      <td>6</td>\n",
       "      <td>28</td>\n",
       "    </tr>\n",
       "    <tr>\n",
       "      <th>mod</th>\n",
       "      <td>324</td>\n",
       "      <td>139</td>\n",
       "      <td>7</td>\n",
       "      <td>43</td>\n",
       "    </tr>\n",
       "    <tr>\n",
       "      <th>scon</th>\n",
       "      <td>163</td>\n",
       "      <td>61</td>\n",
       "      <td>5</td>\n",
       "      <td>16</td>\n",
       "    </tr>\n",
       "    <tr>\n",
       "      <th>con</th>\n",
       "      <td>214</td>\n",
       "      <td>52</td>\n",
       "      <td>3</td>\n",
       "      <td>7</td>\n",
       "    </tr>\n",
       "  </tbody>\n",
       "</table>\n",
       "</div>"
      ],
      "text/plain": [
       "      Protestant  Catholic  Jewish  None\n",
       "lib           98        33       9    41\n",
       "slib         116        40       6    28\n",
       "mod          324       139       7    43\n",
       "scon         163        61       5    16\n",
       "con          214        52       3     7"
      ]
     },
     "execution_count": 202,
     "metadata": {},
     "output_type": "execute_result"
    }
   ],
   "source": [
    "df_politics = pd.DataFrame(\n",
    "    {\n",
    "        \"Protestant\": [98, 116, 324, 163, 214],\n",
    "        \"Catholic\": [33, 40, 139, 61, 52],\n",
    "        \"Jewish\": [9, 6, 7, 5, 3],\n",
    "        \"None\": [41, 28, 43, 16, 7],\n",
    "    },\n",
    "    index=[\"lib\", \"slib\", \"mod\", \"scon\", \"con\"],\n",
    ")\n",
    "\n",
    "df_politics"
   ]
  },
  {
   "cell_type": "markdown",
   "metadata": {},
   "source": [
    "### Chi-square test"
   ]
  },
  {
   "cell_type": "code",
   "execution_count": 222,
   "metadata": {},
   "outputs": [
    {
     "name": "stdout",
     "output_type": "stream",
     "text": [
      "Chi-Square Statistic: 84.434\n",
      "p-value: 5.8455426657118e-13\n",
      "Degrees of Freedom: 12\n",
      "Expected Frequencies:\n"
     ]
    },
    {
     "data": {
      "text/html": [
       "<div>\n",
       "<style scoped>\n",
       "    .dataframe tbody tr th:only-of-type {\n",
       "        vertical-align: middle;\n",
       "    }\n",
       "\n",
       "    .dataframe tbody tr th {\n",
       "        vertical-align: top;\n",
       "    }\n",
       "\n",
       "    .dataframe thead th {\n",
       "        text-align: right;\n",
       "    }\n",
       "</style>\n",
       "<table border=\"1\" class=\"dataframe\">\n",
       "  <thead>\n",
       "    <tr style=\"text-align: right;\">\n",
       "      <th></th>\n",
       "      <th>Protestant</th>\n",
       "      <th>Catholic</th>\n",
       "      <th>Jewish</th>\n",
       "      <th>None</th>\n",
       "    </tr>\n",
       "  </thead>\n",
       "  <tbody>\n",
       "    <tr>\n",
       "      <th>lib</th>\n",
       "      <td>117.8754</td>\n",
       "      <td>41.8683</td>\n",
       "      <td>3.8648</td>\n",
       "      <td>17.3915</td>\n",
       "    </tr>\n",
       "    <tr>\n",
       "      <th>slib</th>\n",
       "      <td>123.7367</td>\n",
       "      <td>43.9502</td>\n",
       "      <td>4.0569</td>\n",
       "      <td>18.2562</td>\n",
       "    </tr>\n",
       "    <tr>\n",
       "      <th>mod</th>\n",
       "      <td>334.0890</td>\n",
       "      <td>118.6655</td>\n",
       "      <td>10.9537</td>\n",
       "      <td>49.2918</td>\n",
       "    </tr>\n",
       "    <tr>\n",
       "      <th>scon</th>\n",
       "      <td>159.5552</td>\n",
       "      <td>56.6726</td>\n",
       "      <td>5.2313</td>\n",
       "      <td>23.5409</td>\n",
       "    </tr>\n",
       "    <tr>\n",
       "      <th>con</th>\n",
       "      <td>179.7438</td>\n",
       "      <td>63.8434</td>\n",
       "      <td>5.8932</td>\n",
       "      <td>26.5196</td>\n",
       "    </tr>\n",
       "  </tbody>\n",
       "</table>\n",
       "</div>"
      ],
      "text/plain": [
       "      Protestant  Catholic  Jewish    None\n",
       "lib     117.8754   41.8683  3.8648 17.3915\n",
       "slib    123.7367   43.9502  4.0569 18.2562\n",
       "mod     334.0890  118.6655 10.9537 49.2918\n",
       "scon    159.5552   56.6726  5.2313 23.5409\n",
       "con     179.7438   63.8434  5.8932 26.5196"
      ]
     },
     "execution_count": 222,
     "metadata": {},
     "output_type": "execute_result"
    }
   ],
   "source": [
    "chi2_result = chi2_contingency(df_politics)\n",
    "print(f\"Chi-Square Statistic: {chi2_result.statistic:.3f}\")\n",
    "print(f\"p-value: {chi2_result.pvalue}\")\n",
    "print(f\"Degrees of Freedom: {chi2_result.dof}\")\n",
    "print(\"Expected Frequencies:\")\n",
    "pd.DataFrame(chi2_result.expected_freq, columns=df_politics.columns, index=df_politics.index)"
   ]
  },
  {
   "cell_type": "markdown",
   "metadata": {},
   "source": [
    "The Chi-square test is significant (p < 0.05), so we can proceed with correspondence analysis."
   ]
  },
  {
   "cell_type": "markdown",
   "metadata": {},
   "source": [
    "### Eigenvalues and cumulative variance explained by 2 dimensions\n",
    "\n",
    "We are going to perform SVD on the contingency table and calculate the eigenvalues and the cumulative variance explained by 2 dimensions."
   ]
  },
  {
   "cell_type": "code",
   "execution_count": 300,
   "metadata": {},
   "outputs": [
    {
     "data": {
      "text/html": [
       "<div>\n",
       "<style scoped>\n",
       "    .dataframe tbody tr th:only-of-type {\n",
       "        vertical-align: middle;\n",
       "    }\n",
       "\n",
       "    .dataframe tbody tr th {\n",
       "        vertical-align: top;\n",
       "    }\n",
       "\n",
       "    .dataframe thead th {\n",
       "        text-align: right;\n",
       "    }\n",
       "</style>\n",
       "<table border=\"1\" class=\"dataframe\">\n",
       "  <thead>\n",
       "    <tr style=\"text-align: right;\">\n",
       "      <th></th>\n",
       "      <th>Dimension</th>\n",
       "      <th>Eigenvalues</th>\n",
       "      <th>Cumulative Variance</th>\n",
       "    </tr>\n",
       "  </thead>\n",
       "  <tbody>\n",
       "    <tr>\n",
       "      <th>0</th>\n",
       "      <td>1</td>\n",
       "      <td>0.0131</td>\n",
       "      <td>0.8706</td>\n",
       "    </tr>\n",
       "    <tr>\n",
       "      <th>1</th>\n",
       "      <td>2</td>\n",
       "      <td>0.0019</td>\n",
       "      <td>0.9944</td>\n",
       "    </tr>\n",
       "  </tbody>\n",
       "</table>\n",
       "</div>"
      ],
      "text/plain": [
       "   Dimension  Eigenvalues  Cumulative Variance\n",
       "0          1       0.0131               0.8706\n",
       "1          2       0.0019               0.9944"
      ]
     },
     "execution_count": 300,
     "metadata": {},
     "output_type": "execute_result"
    }
   ],
   "source": [
    "residuals = (df_politics - chi2_result.expected_freq) / np.sqrt(chi2_result.expected_freq)\n",
    "total = df_politics.values.sum()\n",
    "\n",
    "svd_result = np.linalg.svd(residuals, full_matrices=False)\n",
    "\n",
    "ev = svd_result.S**2 / (total * np.min(df_politics.shape))\n",
    "cumulative_var = np.cumsum(ev / ev.sum())\n",
    "\n",
    "pd.DataFrame(\n",
    "    {\n",
    "        \"Dimension\": range(1, 5),\n",
    "        \"Eigenvalues\": ev,\n",
    "        \"Cumulative Variance\": cumulative_var,\n",
    "    }\n",
    ").iloc[:2]"
   ]
  },
  {
   "cell_type": "markdown",
   "metadata": {},
   "source": [
    "The first two dimensions explain 99.44% of the variance."
   ]
  },
  {
   "cell_type": "markdown",
   "metadata": {},
   "source": [
    "### Vizualization (biplot)"
   ]
  },
  {
   "cell_type": "code",
   "execution_count": 328,
   "metadata": {},
   "outputs": [
    {
     "data": {
      "image/png": "[encoded data removed]",
      "text/plain": [
       "<Figure size 800x800 with 1 Axes>"
      ]
     },
     "metadata": {},
     "output_type": "display_data"
    }
   ],
   "source": [
    "row_coordinates = svd_result.U[:, :2] @ np.diag(svd_result.S[:2])\n",
    "col_coordinates = svd_result.Vh[:2].T @ np.diag(svd_result.S[:2])\n",
    "\n",
    "plt.figure(figsize=(8, 8))\n",
    "\n",
    "for i, (x, y) in enumerate(row_coordinates):\n",
    "    plt.scatter(x, y, color=\"blue\")\n",
    "    plt.text(x, y, df_politics.index[i], color=\"blue\")\n",
    "\n",
    "for i, (x, y) in enumerate(col_coordinates):\n",
    "    plt.scatter(x, y, color=\"red\")\n",
    "    plt.text(x, y, df_politics.columns[i], color=\"red\")\n",
    "\n",
    "plt.title(\"Correspondence analysis biplot\")\n",
    "plt.xlabel(\"Dimension 1 (87.1%)\")\n",
    "plt.ylabel(\"Dimension 2 (12.3%)\")\n",
    "plt.grid()\n",
    "plt.show()"
   ]
  },
  {
   "cell_type": "markdown",
   "metadata": {},
   "source": [
    "Comments:\n",
    "\n",
    "* Political views and religions close together are strongly associated.\n",
    "* Catholics appear to have a tendency to be moderate, Protestants tend to be conservative, Jewish people tend to be slightly liberal, and atheists tend to be liberal."
   ]
  }
 ],
 "metadata": {
  "kernelspec": {
   "display_name": "multivariate-bR2SZf0l-py3.11",
   "language": "python",
   "name": "python3"
  },
  "language_info": {
   "codemirror_mode": {
    "name": "ipython",
    "version": 3
   },
   "file_extension": ".py",
   "mimetype": "text/x-python",
   "name": "python",
   "nbconvert_exporter": "python",
   "pygments_lexer": "ipython3",
   "version": "3.11.0rc1"
  }
 },
 "nbformat": 4,
 "nbformat_minor": 2
}
