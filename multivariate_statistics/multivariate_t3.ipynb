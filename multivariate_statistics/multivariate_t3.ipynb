{
 "cells": [
  {
   "cell_type": "markdown",
   "metadata": {},
   "source": [
    "# Multivariate statistics Test 3\n",
    "\n",
    "**Student**: Aleksandr Jan Smoliakov, VU MIF Data Science MSc year 1  \n",
    "**Date**: 2024-10-17"
   ]
  },
  {
   "cell_type": "markdown",
   "metadata": {},
   "source": [
    "## Task 1: Probit regression\n",
    "\n",
    "Data: File _LI_, variables\n",
    "\n",
    "* _stflife_ (satisfaction with life: 0-extremely unsatisfied,...,10-extremely satisfied)\n",
    "* _stfhlth_ (satisfaction with health system: 0-extremely unsatisfied,...,10-extremely satisfied)\n",
    "* _trstprt_ (trust in political parties: 0-no trust at all,...,10-complete trust)\n",
    "* _pray_: how often pray: 1-every day,..., 7- never\n",
    "* _state_: 0-Israel, 1-LT\n",
    "\n",
    "Dependent binary variable _state_, regressors _stflife_, _stfhlth_, _trstprt_, _pray_. Treat all regressors as interval variables.\n",
    "\n",
    "Task: Perform Probit Analysis."
   ]
  },
  {
   "cell_type": "markdown",
   "metadata": {},
   "source": [
    "First of all, let's load the data and take a look."
   ]
  },
  {
   "cell_type": "code",
   "execution_count": 1,
   "metadata": {},
   "outputs": [
    {
     "data": {
      "text/html": [
       "<div>\n",
       "<style scoped>\n",
       "    .dataframe tbody tr th:only-of-type {\n",
       "        vertical-align: middle;\n",
       "    }\n",
       "\n",
       "    .dataframe tbody tr th {\n",
       "        vertical-align: top;\n",
       "    }\n",
       "\n",
       "    .dataframe thead th {\n",
       "        text-align: right;\n",
       "    }\n",
       "</style>\n",
       "<table border=\"1\" class=\"dataframe\">\n",
       "  <thead>\n",
       "    <tr style=\"text-align: right;\">\n",
       "      <th></th>\n",
       "      <th>stflife</th>\n",
       "      <th>stfedu</th>\n",
       "      <th>stfhlth</th>\n",
       "      <th>pray</th>\n",
       "      <th>trstplc</th>\n",
       "      <th>trstprt</th>\n",
       "      <th>state</th>\n",
       "    </tr>\n",
       "  </thead>\n",
       "  <tbody>\n",
       "    <tr>\n",
       "      <th>count</th>\n",
       "      <td>413.0000</td>\n",
       "      <td>413.0000</td>\n",
       "      <td>413.0000</td>\n",
       "      <td>413.0000</td>\n",
       "      <td>397.0000</td>\n",
       "      <td>381.0000</td>\n",
       "      <td>413.0000</td>\n",
       "    </tr>\n",
       "    <tr>\n",
       "      <th>mean</th>\n",
       "      <td>5.7942</td>\n",
       "      <td>4.0605</td>\n",
       "      <td>4.7361</td>\n",
       "      <td>4.8886</td>\n",
       "      <td>5.5390</td>\n",
       "      <td>2.4016</td>\n",
       "      <td>0.5569</td>\n",
       "    </tr>\n",
       "    <tr>\n",
       "      <th>std</th>\n",
       "      <td>2.5786</td>\n",
       "      <td>2.3137</td>\n",
       "      <td>2.6321</td>\n",
       "      <td>2.0294</td>\n",
       "      <td>2.6057</td>\n",
       "      <td>2.2778</td>\n",
       "      <td>0.4974</td>\n",
       "    </tr>\n",
       "    <tr>\n",
       "      <th>min</th>\n",
       "      <td>0.0000</td>\n",
       "      <td>0.0000</td>\n",
       "      <td>0.0000</td>\n",
       "      <td>1.0000</td>\n",
       "      <td>0.0000</td>\n",
       "      <td>0.0000</td>\n",
       "      <td>0.0000</td>\n",
       "    </tr>\n",
       "    <tr>\n",
       "      <th>25%</th>\n",
       "      <td>4.0000</td>\n",
       "      <td>2.0000</td>\n",
       "      <td>3.0000</td>\n",
       "      <td>4.0000</td>\n",
       "      <td>4.0000</td>\n",
       "      <td>0.0000</td>\n",
       "      <td>0.0000</td>\n",
       "    </tr>\n",
       "    <tr>\n",
       "      <th>50%</th>\n",
       "      <td>6.0000</td>\n",
       "      <td>4.0000</td>\n",
       "      <td>5.0000</td>\n",
       "      <td>5.0000</td>\n",
       "      <td>6.0000</td>\n",
       "      <td>2.0000</td>\n",
       "      <td>1.0000</td>\n",
       "    </tr>\n",
       "    <tr>\n",
       "      <th>75%</th>\n",
       "      <td>8.0000</td>\n",
       "      <td>6.0000</td>\n",
       "      <td>7.0000</td>\n",
       "      <td>7.0000</td>\n",
       "      <td>7.0000</td>\n",
       "      <td>4.0000</td>\n",
       "      <td>1.0000</td>\n",
       "    </tr>\n",
       "    <tr>\n",
       "      <th>max</th>\n",
       "      <td>10.0000</td>\n",
       "      <td>9.0000</td>\n",
       "      <td>10.0000</td>\n",
       "      <td>7.0000</td>\n",
       "      <td>10.0000</td>\n",
       "      <td>10.0000</td>\n",
       "      <td>1.0000</td>\n",
       "    </tr>\n",
       "  </tbody>\n",
       "</table>\n",
       "</div>"
      ],
      "text/plain": [
       "       stflife   stfedu  stfhlth     pray  trstplc  trstprt    state\n",
       "count 413.0000 413.0000 413.0000 413.0000 397.0000 381.0000 413.0000\n",
       "mean    5.7942   4.0605   4.7361   4.8886   5.5390   2.4016   0.5569\n",
       "std     2.5786   2.3137   2.6321   2.0294   2.6057   2.2778   0.4974\n",
       "min     0.0000   0.0000   0.0000   1.0000   0.0000   0.0000   0.0000\n",
       "25%     4.0000   2.0000   3.0000   4.0000   4.0000   0.0000   0.0000\n",
       "50%     6.0000   4.0000   5.0000   5.0000   6.0000   2.0000   1.0000\n",
       "75%     8.0000   6.0000   7.0000   7.0000   7.0000   4.0000   1.0000\n",
       "max    10.0000   9.0000  10.0000   7.0000  10.0000  10.0000   1.0000"
      ]
     },
     "execution_count": 1,
     "metadata": {},
     "output_type": "execute_result"
    }
   ],
   "source": [
    "import pyreadstat\n",
    "import pandas as pd\n",
    "import matplotlib.pyplot as plt\n",
    "import statsmodels.formula.api as smf\n",
    "from scipy.stats import chi2\n",
    "from sklearn.metrics import roc_curve\n",
    "\n",
    "pd.options.display.float_format = '{:.4f}'.format\n",
    "\n",
    "\n",
    "df_state, metadata_state = pyreadstat.read_sav(\"LI.sav\")\n",
    "\n",
    "df_state.describe()"
   ]
  },
  {
   "cell_type": "markdown",
   "metadata": {},
   "source": [
    "The dataset has six columns (_stflife_, _stfedu_, _stfhlth_, _pray_, _trstplc_, _trstprt_, _state_) and 413 rows. However, we will not be using _stfedu_ and _trstplc_ columns in this task because the task description does not mention them.\n",
    "\n",
    "The _trstprt_ column has 32 missing values. We will remove these rows from the dataset."
   ]
  },
  {
   "cell_type": "code",
   "execution_count": 2,
   "metadata": {},
   "outputs": [
    {
     "data": {
      "text/html": [
       "<div>\n",
       "<style scoped>\n",
       "    .dataframe tbody tr th:only-of-type {\n",
       "        vertical-align: middle;\n",
       "    }\n",
       "\n",
       "    .dataframe tbody tr th {\n",
       "        vertical-align: top;\n",
       "    }\n",
       "\n",
       "    .dataframe thead th {\n",
       "        text-align: right;\n",
       "    }\n",
       "</style>\n",
       "<table border=\"1\" class=\"dataframe\">\n",
       "  <thead>\n",
       "    <tr style=\"text-align: right;\">\n",
       "      <th></th>\n",
       "      <th>stflife</th>\n",
       "      <th>stfedu</th>\n",
       "      <th>stfhlth</th>\n",
       "      <th>pray</th>\n",
       "      <th>trstplc</th>\n",
       "      <th>trstprt</th>\n",
       "      <th>state</th>\n",
       "    </tr>\n",
       "  </thead>\n",
       "  <tbody>\n",
       "    <tr>\n",
       "      <th>count</th>\n",
       "      <td>381.0000</td>\n",
       "      <td>381.0000</td>\n",
       "      <td>381.0000</td>\n",
       "      <td>381.0000</td>\n",
       "      <td>375.0000</td>\n",
       "      <td>381.0000</td>\n",
       "      <td>381.0000</td>\n",
       "    </tr>\n",
       "    <tr>\n",
       "      <th>mean</th>\n",
       "      <td>5.8373</td>\n",
       "      <td>4.0761</td>\n",
       "      <td>4.7585</td>\n",
       "      <td>4.8924</td>\n",
       "      <td>5.4800</td>\n",
       "      <td>2.4016</td>\n",
       "      <td>0.5617</td>\n",
       "    </tr>\n",
       "    <tr>\n",
       "      <th>std</th>\n",
       "      <td>2.5782</td>\n",
       "      <td>2.3095</td>\n",
       "      <td>2.6526</td>\n",
       "      <td>2.0265</td>\n",
       "      <td>2.5456</td>\n",
       "      <td>2.2778</td>\n",
       "      <td>0.4968</td>\n",
       "    </tr>\n",
       "    <tr>\n",
       "      <th>min</th>\n",
       "      <td>0.0000</td>\n",
       "      <td>0.0000</td>\n",
       "      <td>0.0000</td>\n",
       "      <td>1.0000</td>\n",
       "      <td>0.0000</td>\n",
       "      <td>0.0000</td>\n",
       "      <td>0.0000</td>\n",
       "    </tr>\n",
       "    <tr>\n",
       "      <th>25%</th>\n",
       "      <td>4.0000</td>\n",
       "      <td>2.0000</td>\n",
       "      <td>3.0000</td>\n",
       "      <td>4.0000</td>\n",
       "      <td>4.0000</td>\n",
       "      <td>0.0000</td>\n",
       "      <td>0.0000</td>\n",
       "    </tr>\n",
       "    <tr>\n",
       "      <th>50%</th>\n",
       "      <td>6.0000</td>\n",
       "      <td>4.0000</td>\n",
       "      <td>5.0000</td>\n",
       "      <td>5.0000</td>\n",
       "      <td>6.0000</td>\n",
       "      <td>2.0000</td>\n",
       "      <td>1.0000</td>\n",
       "    </tr>\n",
       "    <tr>\n",
       "      <th>75%</th>\n",
       "      <td>8.0000</td>\n",
       "      <td>6.0000</td>\n",
       "      <td>7.0000</td>\n",
       "      <td>7.0000</td>\n",
       "      <td>7.0000</td>\n",
       "      <td>4.0000</td>\n",
       "      <td>1.0000</td>\n",
       "    </tr>\n",
       "    <tr>\n",
       "      <th>max</th>\n",
       "      <td>10.0000</td>\n",
       "      <td>9.0000</td>\n",
       "      <td>10.0000</td>\n",
       "      <td>7.0000</td>\n",
       "      <td>10.0000</td>\n",
       "      <td>10.0000</td>\n",
       "      <td>1.0000</td>\n",
       "    </tr>\n",
       "  </tbody>\n",
       "</table>\n",
       "</div>"
      ],
      "text/plain": [
       "       stflife   stfedu  stfhlth     pray  trstplc  trstprt    state\n",
       "count 381.0000 381.0000 381.0000 381.0000 375.0000 381.0000 381.0000\n",
       "mean    5.8373   4.0761   4.7585   4.8924   5.4800   2.4016   0.5617\n",
       "std     2.5782   2.3095   2.6526   2.0265   2.5456   2.2778   0.4968\n",
       "min     0.0000   0.0000   0.0000   1.0000   0.0000   0.0000   0.0000\n",
       "25%     4.0000   2.0000   3.0000   4.0000   4.0000   0.0000   0.0000\n",
       "50%     6.0000   4.0000   5.0000   5.0000   6.0000   2.0000   1.0000\n",
       "75%     8.0000   6.0000   7.0000   7.0000   7.0000   4.0000   1.0000\n",
       "max    10.0000   9.0000  10.0000   7.0000  10.0000  10.0000   1.0000"
      ]
     },
     "execution_count": 2,
     "metadata": {},
     "output_type": "execute_result"
    }
   ],
   "source": [
    "df_state = df_state.dropna(subset=[\"trstprt\"]).reset_index(drop=True)\n",
    "\n",
    "df_state.describe()"
   ]
  },
  {
   "cell_type": "markdown",
   "metadata": {},
   "source": [
    "This has left us with 381 rows and no missing values in the relevant columns."
   ]
  },
  {
   "cell_type": "markdown",
   "metadata": {},
   "source": [
    "1. Present parameter estimates for the initial model with highlighted statistically nonsignificant variables.\n",
    "\n",
    "We fit the initial Probit regression model using all relevant predictor variables."
   ]
  },
  {
   "cell_type": "code",
   "execution_count": 3,
   "metadata": {},
   "outputs": [
    {
     "name": "stdout",
     "output_type": "stream",
     "text": [
      "Optimization terminated successfully.\n",
      "         Current function value: 0.488566\n",
      "         Iterations 6\n"
     ]
    },
    {
     "data": {
      "text/html": [
       "<div>\n",
       "<style scoped>\n",
       "    .dataframe tbody tr th:only-of-type {\n",
       "        vertical-align: middle;\n",
       "    }\n",
       "\n",
       "    .dataframe tbody tr th {\n",
       "        vertical-align: top;\n",
       "    }\n",
       "\n",
       "    .dataframe thead th {\n",
       "        text-align: right;\n",
       "    }\n",
       "</style>\n",
       "<table border=\"1\" class=\"dataframe\">\n",
       "  <thead>\n",
       "    <tr style=\"text-align: right;\">\n",
       "      <th></th>\n",
       "      <th>Coef.</th>\n",
       "      <th>Std.Err.</th>\n",
       "      <th>z</th>\n",
       "      <th>P&gt;|z|</th>\n",
       "      <th>[0.025</th>\n",
       "      <th>0.975]</th>\n",
       "    </tr>\n",
       "  </thead>\n",
       "  <tbody>\n",
       "    <tr>\n",
       "      <th>Intercept</th>\n",
       "      <td>1.7953</td>\n",
       "      <td>0.3129</td>\n",
       "      <td>5.7381</td>\n",
       "      <td>0.0000</td>\n",
       "      <td>1.1821</td>\n",
       "      <td>2.4085</td>\n",
       "    </tr>\n",
       "    <tr>\n",
       "      <th>stflife</th>\n",
       "      <td>-0.2347</td>\n",
       "      <td>0.0350</td>\n",
       "      <td>-6.6993</td>\n",
       "      <td>0.0000</td>\n",
       "      <td>-0.3034</td>\n",
       "      <td>-0.1660</td>\n",
       "    </tr>\n",
       "    <tr>\n",
       "      <th>stfhlth</th>\n",
       "      <td>-0.1720</td>\n",
       "      <td>0.0325</td>\n",
       "      <td>-5.2931</td>\n",
       "      <td>0.0000</td>\n",
       "      <td>-0.2357</td>\n",
       "      <td>-0.1083</td>\n",
       "    </tr>\n",
       "    <tr>\n",
       "      <th>trstprt</th>\n",
       "      <td>0.0284</td>\n",
       "      <td>0.0333</td>\n",
       "      <td>0.8539</td>\n",
       "      <td>0.3931</td>\n",
       "      <td>-0.0368</td>\n",
       "      <td>0.0936</td>\n",
       "    </tr>\n",
       "    <tr>\n",
       "      <th>pray</th>\n",
       "      <td>0.1139</td>\n",
       "      <td>0.0366</td>\n",
       "      <td>3.1071</td>\n",
       "      <td>0.0019</td>\n",
       "      <td>0.0420</td>\n",
       "      <td>0.1857</td>\n",
       "    </tr>\n",
       "  </tbody>\n",
       "</table>\n",
       "</div>"
      ],
      "text/plain": [
       "            Coef.  Std.Err.       z  P>|z|  [0.025  0.975]\n",
       "Intercept  1.7953    0.3129  5.7381 0.0000  1.1821  2.4085\n",
       "stflife   -0.2347    0.0350 -6.6993 0.0000 -0.3034 -0.1660\n",
       "stfhlth   -0.1720    0.0325 -5.2931 0.0000 -0.2357 -0.1083\n",
       "trstprt    0.0284    0.0333  0.8539 0.3931 -0.0368  0.0936\n",
       "pray       0.1139    0.0366  3.1071 0.0019  0.0420  0.1857"
      ]
     },
     "execution_count": 3,
     "metadata": {},
     "output_type": "execute_result"
    }
   ],
   "source": [
    "initial_model = smf.probit(\"state ~ stflife + stfhlth + trstprt + pray\", data=df_state).fit()\n",
    "\n",
    "initial_model.summary2().tables[1]"
   ]
  },
  {
   "cell_type": "markdown",
   "metadata": {},
   "source": [
    "The parameter estimates for the initial model are presented above in the column `Coef.`. Their statistical significance is in the column `Pr(>|z|)`.\n",
    "\n",
    "Not all variables are statistically significant. Statistically insignificant variables (with significance level 0.05) are:\n",
    "\n",
    "* `trstprt` (p-value = 0.393)\n",
    "\n",
    "We remove the statistically non-significant variable `trstprt` and fit the final Probit regression model."
   ]
  },
  {
   "cell_type": "code",
   "execution_count": 4,
   "metadata": {},
   "outputs": [
    {
     "name": "stdout",
     "output_type": "stream",
     "text": [
      "Optimization terminated successfully.\n",
      "         Current function value: 0.489525\n",
      "         Iterations 6\n"
     ]
    }
   ],
   "source": [
    "final_model = smf.probit(\"state ~ stflife + stfhlth + pray\", data=df_state).fit()"
   ]
  },
  {
   "cell_type": "markdown",
   "metadata": {},
   "source": [
    "2. For the final model present Chi square likelihood ratio omnibus test."
   ]
  },
  {
   "cell_type": "code",
   "execution_count": 5,
   "metadata": {},
   "outputs": [
    {
     "name": "stdout",
     "output_type": "stream",
     "text": [
      "Chi-square likelihood ratio test statistic: -0.730486049556248\n",
      "Degrees of freedom: 1.0\n",
      "P-value: 1.0\n"
     ]
    }
   ],
   "source": [
    "# likelihood ratio statistic\n",
    "lr_stat = -2 * (initial_model.llf - final_model.llf)\n",
    "# degrees of freedom\n",
    "df_diff = initial_model.df_model - final_model.df_model\n",
    "# p-value\n",
    "p_value = chi2.sf(lr_stat, df_diff)\n",
    "\n",
    "print(f\"Chi-square likelihood ratio test statistic: {lr_stat}\")\n",
    "print(f\"Degrees of freedom: {df_diff}\")\n",
    "print(f\"P-value: {p_value}\")"
   ]
  },
  {
   "cell_type": "markdown",
   "metadata": {},
   "source": [
    "The p-value for our test is 1.0, which means that the final model is not statistically significantly different from the initial model. That makes sense because we only removed one non significant variable from the initial model."
   ]
  },
  {
   "cell_type": "markdown",
   "metadata": {},
   "source": [
    "3. Estimates for all variables and their statistical significance."
   ]
  },
  {
   "cell_type": "code",
   "execution_count": 6,
   "metadata": {},
   "outputs": [
    {
     "data": {
      "text/html": [
       "<div>\n",
       "<style scoped>\n",
       "    .dataframe tbody tr th:only-of-type {\n",
       "        vertical-align: middle;\n",
       "    }\n",
       "\n",
       "    .dataframe tbody tr th {\n",
       "        vertical-align: top;\n",
       "    }\n",
       "\n",
       "    .dataframe thead th {\n",
       "        text-align: right;\n",
       "    }\n",
       "</style>\n",
       "<table border=\"1\" class=\"dataframe\">\n",
       "  <thead>\n",
       "    <tr style=\"text-align: right;\">\n",
       "      <th></th>\n",
       "      <th>Coef.</th>\n",
       "      <th>Std.Err.</th>\n",
       "      <th>z</th>\n",
       "      <th>P&gt;|z|</th>\n",
       "      <th>[0.025</th>\n",
       "      <th>0.975]</th>\n",
       "    </tr>\n",
       "  </thead>\n",
       "  <tbody>\n",
       "    <tr>\n",
       "      <th>Intercept</th>\n",
       "      <td>1.8667</td>\n",
       "      <td>0.3013</td>\n",
       "      <td>6.1964</td>\n",
       "      <td>0.0000</td>\n",
       "      <td>1.2763</td>\n",
       "      <td>2.4572</td>\n",
       "    </tr>\n",
       "    <tr>\n",
       "      <th>stflife</th>\n",
       "      <td>-0.2337</td>\n",
       "      <td>0.0350</td>\n",
       "      <td>-6.6848</td>\n",
       "      <td>0.0000</td>\n",
       "      <td>-0.3022</td>\n",
       "      <td>-0.1652</td>\n",
       "    </tr>\n",
       "    <tr>\n",
       "      <th>stfhlth</th>\n",
       "      <td>-0.1742</td>\n",
       "      <td>0.0324</td>\n",
       "      <td>-5.3747</td>\n",
       "      <td>0.0000</td>\n",
       "      <td>-0.2377</td>\n",
       "      <td>-0.1107</td>\n",
       "    </tr>\n",
       "    <tr>\n",
       "      <th>pray</th>\n",
       "      <td>0.1137</td>\n",
       "      <td>0.0366</td>\n",
       "      <td>3.1046</td>\n",
       "      <td>0.0019</td>\n",
       "      <td>0.0419</td>\n",
       "      <td>0.1854</td>\n",
       "    </tr>\n",
       "  </tbody>\n",
       "</table>\n",
       "</div>"
      ],
      "text/plain": [
       "            Coef.  Std.Err.       z  P>|z|  [0.025  0.975]\n",
       "Intercept  1.8667    0.3013  6.1964 0.0000  1.2763  2.4572\n",
       "stflife   -0.2337    0.0350 -6.6848 0.0000 -0.3022 -0.1652\n",
       "stfhlth   -0.1742    0.0324 -5.3747 0.0000 -0.2377 -0.1107\n",
       "pray       0.1137    0.0366  3.1046 0.0019  0.0419  0.1854"
      ]
     },
     "execution_count": 6,
     "metadata": {},
     "output_type": "execute_result"
    }
   ],
   "source": [
    "final_model.summary2().tables[1]"
   ]
  },
  {
   "cell_type": "markdown",
   "metadata": {},
   "source": [
    "The parameter estimates for the final model are presented above in the column `Coef.`. Their statistical significance is in the column `Pr(>|z|)`.\n",
    "\n",
    "This time all variables are statistically significant."
   ]
  },
  {
   "cell_type": "markdown",
   "metadata": {},
   "source": [
    "4. Model equation.\n",
    "\n",
    "We can present the final model equation using the parameter estimates."
   ]
  },
  {
   "cell_type": "code",
   "execution_count": 7,
   "metadata": {},
   "outputs": [
    {
     "name": "stdout",
     "output_type": "stream",
     "text": [
      "state = Φ(1.8667 + -0.2337 * stflife + -0.1742 * stfhlth + 0.1137 * pray)\n"
     ]
    }
   ],
   "source": [
    "# extract coefficients\n",
    "coefficients = final_model.params\n",
    "intercept = coefficients[\"Intercept\"]\n",
    "stflife_coef = coefficients[\"stflife\"]\n",
    "stfhlth_coef = coefficients[\"stfhlth\"]\n",
    "pray_coef = coefficients[\"pray\"]\n",
    "\n",
    "# model equation\n",
    "model_equation = f\"state = Φ({intercept:.4f} + {stflife_coef:.4f} * stflife + {stfhlth_coef:.4f} * stfhlth + {pray_coef:.4f} * pray)\"\n",
    "print(model_equation)"
   ]
  },
  {
   "cell_type": "markdown",
   "metadata": {},
   "source": [
    "5. Classification Table.\n",
    "\n",
    "We can present the classification table for the final model."
   ]
  },
  {
   "cell_type": "code",
   "execution_count": 8,
   "metadata": {},
   "outputs": [
    {
     "data": {
      "text/html": [
       "<div>\n",
       "<style scoped>\n",
       "    .dataframe tbody tr th:only-of-type {\n",
       "        vertical-align: middle;\n",
       "    }\n",
       "\n",
       "    .dataframe tbody tr th {\n",
       "        vertical-align: top;\n",
       "    }\n",
       "\n",
       "    .dataframe thead th {\n",
       "        text-align: right;\n",
       "    }\n",
       "</style>\n",
       "<table border=\"1\" class=\"dataframe\">\n",
       "  <thead>\n",
       "    <tr style=\"text-align: right;\">\n",
       "      <th>Predicted</th>\n",
       "      <th>0</th>\n",
       "      <th>1</th>\n",
       "    </tr>\n",
       "    <tr>\n",
       "      <th>Actual</th>\n",
       "      <th></th>\n",
       "      <th></th>\n",
       "    </tr>\n",
       "  </thead>\n",
       "  <tbody>\n",
       "    <tr>\n",
       "      <th>0</th>\n",
       "      <td>122</td>\n",
       "      <td>45</td>\n",
       "    </tr>\n",
       "    <tr>\n",
       "      <th>1</th>\n",
       "      <td>45</td>\n",
       "      <td>169</td>\n",
       "    </tr>\n",
       "  </tbody>\n",
       "</table>\n",
       "</div>"
      ],
      "text/plain": [
       "Predicted    0    1\n",
       "Actual             \n",
       "0          122   45\n",
       "1           45  169"
      ]
     },
     "execution_count": 8,
     "metadata": {},
     "output_type": "execute_result"
    }
   ],
   "source": [
    "# predict the probabilities\n",
    "df_state[\"predicted_prob\"] = final_model.predict(df_state)\n",
    "\n",
    "# classify based on threshold=0.5\n",
    "df_state[\"predicted_state\"] = (df_state[\"predicted_prob\"] > 0.5).astype(int)\n",
    "\n",
    "# create the classification table\n",
    "classification_table = pd.crosstab(\n",
    "    df_state[\"state\"].astype(int),\n",
    "    df_state[\"predicted_state\"],\n",
    "    rownames=[\"Actual\"],\n",
    "    colnames=[\"Predicted\"],\n",
    ")\n",
    "classification_table"
   ]
  },
  {
   "cell_type": "markdown",
   "metadata": {},
   "source": [
    "The classification table above shows there are:\n",
    "\n",
    "* 169 true positives\n",
    "* 122 true negatives\n",
    "* 45 false positives\n",
    "* 45 false negatives"
   ]
  },
  {
   "cell_type": "markdown",
   "metadata": {},
   "source": [
    "6. Sensitivity and Specificity.\n",
    "\n",
    "Using the classification table, we can calculate the sensitivity and specificity for the final model."
   ]
  },
  {
   "cell_type": "code",
   "execution_count": 9,
   "metadata": {},
   "outputs": [
    {
     "name": "stdout",
     "output_type": "stream",
     "text": [
      "Sensitivity: 0.7897\n",
      "Specificity: 0.7305\n"
     ]
    }
   ],
   "source": [
    "tn, fn = classification_table.iloc[0]\n",
    "fp, tp = classification_table.iloc[1]\n",
    "\n",
    "sensitivity = tp / (tp + fn)\n",
    "specificity = tn / (tn + fp)\n",
    "\n",
    "print(f\"Sensitivity: {sensitivity:.4f}\")\n",
    "print(f\"Specificity: {specificity:.4f}\")"
   ]
  },
  {
   "cell_type": "markdown",
   "metadata": {},
   "source": [
    "7. ROC curve.\n",
    "\n",
    "We can also use the predicted probabilities to plot the ROC curve for the final model."
   ]
  },
  {
   "cell_type": "code",
   "execution_count": 10,
   "metadata": {},
   "outputs": [
    {
     "data": {
      "image/png": "[encoded data removed]",
      "text/plain": [
       "<Figure size 600x600 with 1 Axes>"
      ]
     },
     "metadata": {},
     "output_type": "display_data"
    }
   ],
   "source": [
    "# calculate the ROC curve\n",
    "fpr, tpr, thresholds = roc_curve(\n",
    "    df_state[\"state\"],\n",
    "    df_state[\"predicted_prob\"],\n",
    ")\n",
    "\n",
    "# plot the ROC curve\n",
    "plt.figure(figsize=(6, 6))\n",
    "plt.plot(fpr, tpr, label=\"ROC curve\")\n",
    "plt.plot([0, 1], [0, 1], color=\"gray\", linestyle=\"--\")\n",
    "plt.xlim([-0.01, 1.01])\n",
    "plt.ylim([-0.01, 1.01])\n",
    "plt.xlabel(\"False Positive rate\")\n",
    "plt.ylabel(\"True Positive rate\")\n",
    "plt.title(\"ROC Curve for the final model\")\n",
    "plt.show()"
   ]
  },
  {
   "cell_type": "markdown",
   "metadata": {},
   "source": [
    "8. Forecast for stflife=5, stfhlth=7, trstprt = 6, pray =6 (use only variables from the final model).\n",
    "\n",
    "Let's use the final model to forecast the state for stflife = 5, stfhlth = 7, trstprt = 6, pray = 6."
   ]
  },
  {
   "cell_type": "code",
   "execution_count": 11,
   "metadata": {},
   "outputs": [
    {
     "name": "stdout",
     "output_type": "stream",
     "text": [
      "predicted_prob: 0.5638\n"
     ]
    }
   ],
   "source": [
    "stflife = 5\n",
    "stfhlth = 7\n",
    "trstprt = 6  # trstprt is not in the final model!\n",
    "pray = 6\n",
    "\n",
    "# calculate the probability of state=1\n",
    "predicted_prob = final_model.predict({\"stflife\": stflife, \"stfhlth\": stfhlth, \"pray\": pray})[0]\n",
    "print(f\"predicted_prob: {predicted_prob:.4f}\")"
   ]
  },
  {
   "cell_type": "markdown",
   "metadata": {},
   "source": [
    "## Task 2: Poisson regression\n",
    "\n",
    "Data: File _partners_, variables\n",
    "\n",
    "* _age_: respondents age.\n",
    "* _partners_: number of sexual partners last year.\n",
    "* _sexeduc_: Sex education in public schools (1-Favor, 2-Oppose)\n",
    "* _polviews_: 1-extremely liberal, ... 7-extremely conservative.\n",
    "\n",
    "Task: Perform Poisson regression modeling partners by remaining variables. Results must include:"
   ]
  },
  {
   "cell_type": "markdown",
   "metadata": {},
   "source": [
    "First of all, let's load the data and take a look."
   ]
  },
  {
   "cell_type": "code",
   "execution_count": 12,
   "metadata": {},
   "outputs": [
    {
     "data": {
      "text/html": [
       "<div>\n",
       "<style scoped>\n",
       "    .dataframe tbody tr th:only-of-type {\n",
       "        vertical-align: middle;\n",
       "    }\n",
       "\n",
       "    .dataframe tbody tr th {\n",
       "        vertical-align: top;\n",
       "    }\n",
       "\n",
       "    .dataframe thead th {\n",
       "        text-align: right;\n",
       "    }\n",
       "</style>\n",
       "<table border=\"1\" class=\"dataframe\">\n",
       "  <thead>\n",
       "    <tr style=\"text-align: right;\">\n",
       "      <th></th>\n",
       "      <th>age</th>\n",
       "      <th>polviews</th>\n",
       "      <th>sexeduc</th>\n",
       "      <th>tvhours</th>\n",
       "      <th>partners</th>\n",
       "      <th>married</th>\n",
       "    </tr>\n",
       "  </thead>\n",
       "  <tbody>\n",
       "    <tr>\n",
       "      <th>count</th>\n",
       "      <td>188.0000</td>\n",
       "      <td>188.0000</td>\n",
       "      <td>188.0000</td>\n",
       "      <td>188.0000</td>\n",
       "      <td>188.0000</td>\n",
       "      <td>188.0000</td>\n",
       "    </tr>\n",
       "    <tr>\n",
       "      <th>mean</th>\n",
       "      <td>37.6755</td>\n",
       "      <td>3.9894</td>\n",
       "      <td>1.1223</td>\n",
       "      <td>2.8830</td>\n",
       "      <td>1.3830</td>\n",
       "      <td>1.5957</td>\n",
       "    </tr>\n",
       "    <tr>\n",
       "      <th>std</th>\n",
       "      <td>14.5336</td>\n",
       "      <td>1.3641</td>\n",
       "      <td>0.3286</td>\n",
       "      <td>2.2604</td>\n",
       "      <td>1.3252</td>\n",
       "      <td>0.4921</td>\n",
       "    </tr>\n",
       "    <tr>\n",
       "      <th>min</th>\n",
       "      <td>19.0000</td>\n",
       "      <td>1.0000</td>\n",
       "      <td>1.0000</td>\n",
       "      <td>0.0000</td>\n",
       "      <td>0.0000</td>\n",
       "      <td>1.0000</td>\n",
       "    </tr>\n",
       "    <tr>\n",
       "      <th>25%</th>\n",
       "      <td>27.0000</td>\n",
       "      <td>3.0000</td>\n",
       "      <td>1.0000</td>\n",
       "      <td>2.0000</td>\n",
       "      <td>1.0000</td>\n",
       "      <td>1.0000</td>\n",
       "    </tr>\n",
       "    <tr>\n",
       "      <th>50%</th>\n",
       "      <td>34.0000</td>\n",
       "      <td>4.0000</td>\n",
       "      <td>1.0000</td>\n",
       "      <td>2.0000</td>\n",
       "      <td>1.0000</td>\n",
       "      <td>2.0000</td>\n",
       "    </tr>\n",
       "    <tr>\n",
       "      <th>75%</th>\n",
       "      <td>44.0000</td>\n",
       "      <td>5.0000</td>\n",
       "      <td>1.0000</td>\n",
       "      <td>3.2500</td>\n",
       "      <td>1.0000</td>\n",
       "      <td>2.0000</td>\n",
       "    </tr>\n",
       "    <tr>\n",
       "      <th>max</th>\n",
       "      <td>87.0000</td>\n",
       "      <td>7.0000</td>\n",
       "      <td>2.0000</td>\n",
       "      <td>20.0000</td>\n",
       "      <td>7.0000</td>\n",
       "      <td>2.0000</td>\n",
       "    </tr>\n",
       "  </tbody>\n",
       "</table>\n",
       "</div>"
      ],
      "text/plain": [
       "           age  polviews  sexeduc  tvhours  partners  married\n",
       "count 188.0000  188.0000 188.0000 188.0000  188.0000 188.0000\n",
       "mean   37.6755    3.9894   1.1223   2.8830    1.3830   1.5957\n",
       "std    14.5336    1.3641   0.3286   2.2604    1.3252   0.4921\n",
       "min    19.0000    1.0000   1.0000   0.0000    0.0000   1.0000\n",
       "25%    27.0000    3.0000   1.0000   2.0000    1.0000   1.0000\n",
       "50%    34.0000    4.0000   1.0000   2.0000    1.0000   2.0000\n",
       "75%    44.0000    5.0000   1.0000   3.2500    1.0000   2.0000\n",
       "max    87.0000    7.0000   2.0000  20.0000    7.0000   2.0000"
      ]
     },
     "execution_count": 12,
     "metadata": {},
     "output_type": "execute_result"
    }
   ],
   "source": [
    "df_partners, metadata_partners = pyreadstat.read_sav(\"partners.sav\")\n",
    "\n",
    "df_partners.describe()"
   ]
  },
  {
   "cell_type": "markdown",
   "metadata": {},
   "source": [
    "The dataset has six columns (_age_, _polviews_, _sexeduc_, _tvhours_, _partners_, _married_) and 188 rows. However, we will not be using _tvhours_ and _married_ columns in this task because the task description does not mention them."
   ]
  },
  {
   "cell_type": "markdown",
   "metadata": {},
   "source": [
    "1. Estimates for variance and mean of partners."
   ]
  },
  {
   "cell_type": "code",
   "execution_count": 13,
   "metadata": {},
   "outputs": [
    {
     "name": "stdout",
     "output_type": "stream",
     "text": [
      "Mean of partners: 1.3830\n",
      "Variance of partners: 1.7563\n"
     ]
    }
   ],
   "source": [
    "mean_partners = df_partners[\"partners\"].mean()\n",
    "variance_partners = df_partners[\"partners\"].var()\n",
    "\n",
    "print(f\"Mean of partners: {mean_partners:.4f}\")\n",
    "print(f\"Variance of partners: {variance_partners:.4f}\")"
   ]
  },
  {
   "cell_type": "markdown",
   "metadata": {},
   "source": [
    "2. Parameter estimates for the initial model with highlighted statistically non-significant variables.\n",
    "\n",
    "We fit the initial Poisson regression model using all relevant predictor variables."
   ]
  },
  {
   "cell_type": "code",
   "execution_count": 14,
   "metadata": {},
   "outputs": [
    {
     "name": "stdout",
     "output_type": "stream",
     "text": [
      "Optimization terminated successfully.\n",
      "         Current function value: 1.438090\n",
      "         Iterations 6\n"
     ]
    },
    {
     "data": {
      "text/html": [
       "<div>\n",
       "<style scoped>\n",
       "    .dataframe tbody tr th:only-of-type {\n",
       "        vertical-align: middle;\n",
       "    }\n",
       "\n",
       "    .dataframe tbody tr th {\n",
       "        vertical-align: top;\n",
       "    }\n",
       "\n",
       "    .dataframe thead th {\n",
       "        text-align: right;\n",
       "    }\n",
       "</style>\n",
       "<table border=\"1\" class=\"dataframe\">\n",
       "  <thead>\n",
       "    <tr style=\"text-align: right;\">\n",
       "      <th></th>\n",
       "      <th>Coef.</th>\n",
       "      <th>Std.Err.</th>\n",
       "      <th>z</th>\n",
       "      <th>P&gt;|z|</th>\n",
       "      <th>[0.025</th>\n",
       "      <th>0.975]</th>\n",
       "    </tr>\n",
       "  </thead>\n",
       "  <tbody>\n",
       "    <tr>\n",
       "      <th>Intercept</th>\n",
       "      <td>2.0128</td>\n",
       "      <td>0.3482</td>\n",
       "      <td>5.7805</td>\n",
       "      <td>0.0000</td>\n",
       "      <td>1.3303</td>\n",
       "      <td>2.6952</td>\n",
       "    </tr>\n",
       "    <tr>\n",
       "      <th>age</th>\n",
       "      <td>-0.0207</td>\n",
       "      <td>0.0053</td>\n",
       "      <td>-3.8748</td>\n",
       "      <td>0.0001</td>\n",
       "      <td>-0.0311</td>\n",
       "      <td>-0.0102</td>\n",
       "    </tr>\n",
       "    <tr>\n",
       "      <th>sexeduc</th>\n",
       "      <td>-0.5512</td>\n",
       "      <td>0.2545</td>\n",
       "      <td>-2.1653</td>\n",
       "      <td>0.0304</td>\n",
       "      <td>-1.0501</td>\n",
       "      <td>-0.0523</td>\n",
       "    </tr>\n",
       "    <tr>\n",
       "      <th>polviews</th>\n",
       "      <td>-0.0903</td>\n",
       "      <td>0.0485</td>\n",
       "      <td>-1.8625</td>\n",
       "      <td>0.0625</td>\n",
       "      <td>-0.1854</td>\n",
       "      <td>0.0047</td>\n",
       "    </tr>\n",
       "  </tbody>\n",
       "</table>\n",
       "</div>"
      ],
      "text/plain": [
       "            Coef.  Std.Err.       z  P>|z|  [0.025  0.975]\n",
       "Intercept  2.0128    0.3482  5.7805 0.0000  1.3303  2.6952\n",
       "age       -0.0207    0.0053 -3.8748 0.0001 -0.0311 -0.0102\n",
       "sexeduc   -0.5512    0.2545 -2.1653 0.0304 -1.0501 -0.0523\n",
       "polviews  -0.0903    0.0485 -1.8625 0.0625 -0.1854  0.0047"
      ]
     },
     "execution_count": 14,
     "metadata": {},
     "output_type": "execute_result"
    }
   ],
   "source": [
    "initial_model = smf.poisson(\"partners ~ age + sexeduc + polviews\", data=df_partners).fit()\n",
    "\n",
    "initial_model.summary2().tables[1]"
   ]
  },
  {
   "cell_type": "markdown",
   "metadata": {},
   "source": [
    "The parameter estimates for the initial model are presented above in the column `Coef.`. Their statistical significance is in the column `Pr(>|z|)`.\n",
    "\n",
    "Not all variables are statistically significant. Statistically insignificant variables (with significance level 0.05) are:\n",
    "\n",
    "* `polviews` (p-value = 0.063)\n",
    "\n",
    "We remove the statistically non-significant variable `polviews` and fit the final Poisson regression model."
   ]
  },
  {
   "cell_type": "code",
   "execution_count": 15,
   "metadata": {},
   "outputs": [
    {
     "name": "stdout",
     "output_type": "stream",
     "text": [
      "Optimization terminated successfully.\n",
      "         Current function value: 1.452596\n",
      "         Iterations 6\n"
     ]
    }
   ],
   "source": [
    "final_model = smf.poisson(\"partners ~ age + polviews\", data=df_partners).fit()"
   ]
  },
  {
   "cell_type": "markdown",
   "metadata": {},
   "source": [
    "3. For the final model present Chi square likelihood ratio omnibus test."
   ]
  },
  {
   "cell_type": "code",
   "execution_count": 16,
   "metadata": {},
   "outputs": [
    {
     "name": "stdout",
     "output_type": "stream",
     "text": [
      "Chi-square likelihood ratio test statistic: -5.454461517427603\n",
      "Degrees of freedom: 1.0\n",
      "P-value: 1.0\n"
     ]
    }
   ],
   "source": [
    "# likelihood ratio statistic\n",
    "lr_stat = -2 * (initial_model.llf - final_model.llf)\n",
    "# degrees of freedom\n",
    "df_diff = initial_model.df_model - final_model.df_model\n",
    "# p-value\n",
    "p_value = chi2.sf(lr_stat, df_diff)\n",
    "\n",
    "print(f\"Chi-square likelihood ratio test statistic: {lr_stat}\")\n",
    "print(f\"Degrees of freedom: {df_diff}\")\n",
    "print(f\"P-value: {p_value}\")"
   ]
  },
  {
   "cell_type": "markdown",
   "metadata": {},
   "source": [
    "The p-value for our test is 1.0, which means that the final model is not statistically significantly different from the initial model. That makes sense because we only removed one non significant variable from the initial model."
   ]
  },
  {
   "cell_type": "markdown",
   "metadata": {},
   "source": [
    "4. Estimates for all variables and their statistical significance."
   ]
  },
  {
   "cell_type": "code",
   "execution_count": 17,
   "metadata": {},
   "outputs": [
    {
     "data": {
      "text/html": [
       "<div>\n",
       "<style scoped>\n",
       "    .dataframe tbody tr th:only-of-type {\n",
       "        vertical-align: middle;\n",
       "    }\n",
       "\n",
       "    .dataframe tbody tr th {\n",
       "        vertical-align: top;\n",
       "    }\n",
       "\n",
       "    .dataframe thead th {\n",
       "        text-align: right;\n",
       "    }\n",
       "</style>\n",
       "<table border=\"1\" class=\"dataframe\">\n",
       "  <thead>\n",
       "    <tr style=\"text-align: right;\">\n",
       "      <th></th>\n",
       "      <th>Coef.</th>\n",
       "      <th>Std.Err.</th>\n",
       "      <th>z</th>\n",
       "      <th>P&gt;|z|</th>\n",
       "      <th>[0.025</th>\n",
       "      <th>0.975]</th>\n",
       "    </tr>\n",
       "  </thead>\n",
       "  <tbody>\n",
       "    <tr>\n",
       "      <th>Intercept</th>\n",
       "      <td>1.5307</td>\n",
       "      <td>0.2645</td>\n",
       "      <td>5.7872</td>\n",
       "      <td>0.0000</td>\n",
       "      <td>1.0123</td>\n",
       "      <td>2.0491</td>\n",
       "    </tr>\n",
       "    <tr>\n",
       "      <th>age</th>\n",
       "      <td>-0.0219</td>\n",
       "      <td>0.0053</td>\n",
       "      <td>-4.0891</td>\n",
       "      <td>0.0000</td>\n",
       "      <td>-0.0323</td>\n",
       "      <td>-0.0114</td>\n",
       "    </tr>\n",
       "    <tr>\n",
       "      <th>polviews</th>\n",
       "      <td>-0.1101</td>\n",
       "      <td>0.0475</td>\n",
       "      <td>-2.3208</td>\n",
       "      <td>0.0203</td>\n",
       "      <td>-0.2031</td>\n",
       "      <td>-0.0171</td>\n",
       "    </tr>\n",
       "  </tbody>\n",
       "</table>\n",
       "</div>"
      ],
      "text/plain": [
       "            Coef.  Std.Err.       z  P>|z|  [0.025  0.975]\n",
       "Intercept  1.5307    0.2645  5.7872 0.0000  1.0123  2.0491\n",
       "age       -0.0219    0.0053 -4.0891 0.0000 -0.0323 -0.0114\n",
       "polviews  -0.1101    0.0475 -2.3208 0.0203 -0.2031 -0.0171"
      ]
     },
     "execution_count": 17,
     "metadata": {},
     "output_type": "execute_result"
    }
   ],
   "source": [
    "final_model.summary2().tables[1]"
   ]
  },
  {
   "cell_type": "markdown",
   "metadata": {},
   "source": [
    "The parameter estimates for the final model are presented above in the column `Coef.`. Their statistical significance is in the column `Pr(>|z|)`.\n",
    "\n",
    "This time all variables are statistically significant."
   ]
  },
  {
   "cell_type": "markdown",
   "metadata": {},
   "source": [
    "5. Model equation.\n",
    "\n",
    "We can present the final model equation using the parameter estimates."
   ]
  },
  {
   "cell_type": "code",
   "execution_count": 18,
   "metadata": {},
   "outputs": [
    {
     "name": "stdout",
     "output_type": "stream",
     "text": [
      "partners = exp(1.5307 + -0.0219 * age + -0.1101 * polviews)\n"
     ]
    }
   ],
   "source": [
    "# extract coefficients\n",
    "coefficients = final_model.params\n",
    "intercept = coefficients[\"Intercept\"]\n",
    "age_coef = coefficients[\"age\"]\n",
    "polviews_coef = coefficients[\"polviews\"]\n",
    "\n",
    "# model equation\n",
    "model_equation = f\"partners = exp({intercept:.4f} + {age_coef:.4f} * age + {polviews_coef:.4f} * polviews)\"\n",
    "print(model_equation)"
   ]
  },
  {
   "cell_type": "markdown",
   "metadata": {},
   "source": [
    "6. Forecast for age = 40, sexeduc= 1, polviews=1 (use only variables from the final model).\n",
    "\n",
    "Let's use the final model to forecast the number of sexual partners for age = 40, sexeduc = 1, polviews = 1."
   ]
  },
  {
   "cell_type": "code",
   "execution_count": 19,
   "metadata": {},
   "outputs": [
    {
     "name": "stdout",
     "output_type": "stream",
     "text": [
      "Forecasted number of partners: 1.7267\n"
     ]
    }
   ],
   "source": [
    "age = 40\n",
    "sexeduc = 1  # sexeduc is not in the final model!\n",
    "polviews = 1\n",
    "\n",
    "# calculate the expected number of partners\n",
    "expected_partners = final_model.predict(pd.DataFrame({\"age\": [age], \"polviews\": [polviews]}))\n",
    "print(f\"Forecasted number of partners: {expected_partners[0]:.4f}\")"
   ]
  }
 ],
 "metadata": {
  "kernelspec": {
   "display_name": "assignment1-gna1DTTa-py3.11",
   "language": "python",
   "name": "python3"
  },
  "language_info": {
   "codemirror_mode": {
    "name": "ipython",
    "version": 3
   },
   "file_extension": ".py",
   "mimetype": "text/x-python",
   "name": "python",
   "nbconvert_exporter": "python",
   "pygments_lexer": "ipython3",
   "version": "3.11.0"
  }
 },
 "nbformat": 4,
 "nbformat_minor": 2
}
