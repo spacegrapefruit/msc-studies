{
 "cells": [
  {
   "cell_type": "markdown",
   "metadata": {},
   "source": [
    "# Multivariate Statistics Test 4\n",
    "\n",
    "**Student**: Aleksandr Jan Smoliakov, VU MIF Data Science MSc year 1  \n",
    "**Date**: 2024-12-12"
   ]
  },
  {
   "cell_type": "markdown",
   "metadata": {},
   "source": [
    "Note: We are assuming 0.05 significance level for all tests in this task."
   ]
  },
  {
   "cell_type": "code",
   "execution_count": 1,
   "metadata": {},
   "outputs": [],
   "source": [
    "import matplotlib.pyplot as plt\n",
    "import pyreadstat\n",
    "import pandas as pd\n",
    "import pingouin as pg\n",
    "import statsmodels.formula.api as smf\n",
    "import statsmodels.multivariate.manova as manova\n",
    "import statsmodels.stats.anova as anova\n",
    "import statsmodels.stats.multicomp as multicomp\n",
    "from scipy.stats import levene\n",
    "\n",
    "pd.options.display.float_format = \"{:.4f}\".format"
   ]
  },
  {
   "cell_type": "markdown",
   "metadata": {},
   "source": [
    "## Task 1: Science and Math\n",
    "\n",
    "Data: File `scmath.sav`, variables\n",
    "\n",
    "* `group` - school's prestige (1-high, 3-low)\n",
    "* `math` - mean school's Math score\n",
    "* `science` - mean school's Science score"
   ]
  },
  {
   "cell_type": "markdown",
   "metadata": {},
   "source": [
    "First of all, let's load the data and take a look."
   ]
  },
  {
   "cell_type": "code",
   "execution_count": 2,
   "metadata": {},
   "outputs": [
    {
     "data": {
      "text/html": [
       "<div>\n",
       "<style scoped>\n",
       "    .dataframe tbody tr th:only-of-type {\n",
       "        vertical-align: middle;\n",
       "    }\n",
       "\n",
       "    .dataframe tbody tr th {\n",
       "        vertical-align: top;\n",
       "    }\n",
       "\n",
       "    .dataframe thead th {\n",
       "        text-align: right;\n",
       "    }\n",
       "</style>\n",
       "<table border=\"1\" class=\"dataframe\">\n",
       "  <thead>\n",
       "    <tr style=\"text-align: right;\">\n",
       "      <th></th>\n",
       "      <th>group</th>\n",
       "      <th>math</th>\n",
       "      <th>science</th>\n",
       "    </tr>\n",
       "  </thead>\n",
       "  <tbody>\n",
       "    <tr>\n",
       "      <th>count</th>\n",
       "      <td>74.0000</td>\n",
       "      <td>74.0000</td>\n",
       "      <td>74.0000</td>\n",
       "    </tr>\n",
       "    <tr>\n",
       "      <th>mean</th>\n",
       "      <td>2.1081</td>\n",
       "      <td>13.3784</td>\n",
       "      <td>19.8198</td>\n",
       "    </tr>\n",
       "    <tr>\n",
       "      <th>std</th>\n",
       "      <td>0.8204</td>\n",
       "      <td>4.4566</td>\n",
       "      <td>9.5067</td>\n",
       "    </tr>\n",
       "    <tr>\n",
       "      <th>min</th>\n",
       "      <td>1.0000</td>\n",
       "      <td>6.6667</td>\n",
       "      <td>3.3333</td>\n",
       "    </tr>\n",
       "    <tr>\n",
       "      <th>25%</th>\n",
       "      <td>1.0000</td>\n",
       "      <td>10.0000</td>\n",
       "      <td>13.3333</td>\n",
       "    </tr>\n",
       "    <tr>\n",
       "      <th>50%</th>\n",
       "      <td>2.0000</td>\n",
       "      <td>13.3333</td>\n",
       "      <td>20.0000</td>\n",
       "    </tr>\n",
       "    <tr>\n",
       "      <th>75%</th>\n",
       "      <td>3.0000</td>\n",
       "      <td>16.6667</td>\n",
       "      <td>26.6667</td>\n",
       "    </tr>\n",
       "    <tr>\n",
       "      <th>max</th>\n",
       "      <td>3.0000</td>\n",
       "      <td>26.6667</td>\n",
       "      <td>36.6667</td>\n",
       "    </tr>\n",
       "  </tbody>\n",
       "</table>\n",
       "</div>"
      ],
      "text/plain": [
       "        group    math  science\n",
       "count 74.0000 74.0000  74.0000\n",
       "mean   2.1081 13.3784  19.8198\n",
       "std    0.8204  4.4566   9.5067\n",
       "min    1.0000  6.6667   3.3333\n",
       "25%    1.0000 10.0000  13.3333\n",
       "50%    2.0000 13.3333  20.0000\n",
       "75%    3.0000 16.6667  26.6667\n",
       "max    3.0000 26.6667  36.6667"
      ]
     },
     "execution_count": 2,
     "metadata": {},
     "output_type": "execute_result"
    }
   ],
   "source": [
    "df_scmath, metadata_scmath = pyreadstat.read_sav(\"data/scmath.sav\")\n",
    "\n",
    "df_scmath.describe()"
   ]
  },
  {
   "cell_type": "markdown",
   "metadata": {},
   "source": [
    "### Perform ANOVA for Science scores for all groups\n",
    "\n",
    "We will fit a linear model with `group` as a factor and `science` as a dependent variable to test if the group has a significant effect on the science score.\n",
    "\n",
    "* Null hypothesis: the group has no significant effect on the science score.\n",
    "* Alternative hypothesis: the group has a significant effect on the science score."
   ]
  },
  {
   "cell_type": "code",
   "execution_count": 3,
   "metadata": {},
   "outputs": [
    {
     "data": {
      "text/html": [
       "<div>\n",
       "<style scoped>\n",
       "    .dataframe tbody tr th:only-of-type {\n",
       "        vertical-align: middle;\n",
       "    }\n",
       "\n",
       "    .dataframe tbody tr th {\n",
       "        vertical-align: top;\n",
       "    }\n",
       "\n",
       "    .dataframe thead th {\n",
       "        text-align: right;\n",
       "    }\n",
       "</style>\n",
       "<table border=\"1\" class=\"dataframe\">\n",
       "  <thead>\n",
       "    <tr style=\"text-align: right;\">\n",
       "      <th></th>\n",
       "      <th>sum_sq</th>\n",
       "      <th>df</th>\n",
       "      <th>F</th>\n",
       "      <th>PR(&gt;F)</th>\n",
       "    </tr>\n",
       "  </thead>\n",
       "  <tbody>\n",
       "    <tr>\n",
       "      <th>C(group)</th>\n",
       "      <td>336.1923</td>\n",
       "      <td>2.0000</td>\n",
       "      <td>1.9061</td>\n",
       "      <td>0.1562</td>\n",
       "    </tr>\n",
       "    <tr>\n",
       "      <th>Residual</th>\n",
       "      <td>6261.4053</td>\n",
       "      <td>71.0000</td>\n",
       "      <td>NaN</td>\n",
       "      <td>NaN</td>\n",
       "    </tr>\n",
       "  </tbody>\n",
       "</table>\n",
       "</div>"
      ],
      "text/plain": [
       "            sum_sq      df      F  PR(>F)\n",
       "C(group)  336.1923  2.0000 1.9061  0.1562\n",
       "Residual 6261.4053 71.0000    NaN     NaN"
      ]
     },
     "execution_count": 3,
     "metadata": {},
     "output_type": "execute_result"
    }
   ],
   "source": [
    "anova_model = smf.ols(\"science ~ C(group)\", data=df_scmath).fit()\n",
    "anova_results = anova.anova_lm(anova_model, typ=2)\n",
    "\n",
    "anova_results"
   ]
  },
  {
   "cell_type": "markdown",
   "metadata": {},
   "source": [
    "The F-statistic of the group is 1.91, and the p-value is 0.156. Since the p-value is greater than 0.05, we fail to reject the null hypothesis."
   ]
  },
  {
   "cell_type": "markdown",
   "metadata": {},
   "source": [
    "### Levene tests for equality of science variances in all three samples\n",
    "\n",
    "Null hypothesis: the variances of the science scores in all three groups are equal.  \n",
    "Alternative hypothesis: the variances of the science scores in all three groups are not equal."
   ]
  },
  {
   "cell_type": "code",
   "execution_count": 4,
   "metadata": {},
   "outputs": [
    {
     "name": "stdout",
     "output_type": "stream",
     "text": [
      "Levene test p-value: 0.11552903683721506\n"
     ]
    }
   ],
   "source": [
    "levene_results = levene(\n",
    "    df_scmath.loc[df_scmath[\"group\"] == 1, \"science\"],\n",
    "    df_scmath.loc[df_scmath[\"group\"] == 2, \"science\"],\n",
    "    df_scmath.loc[df_scmath[\"group\"] == 3, \"science\"],\n",
    ")\n",
    "\n",
    "print(\"Levene test p-value:\", levene_results.pvalue)"
   ]
  },
  {
   "cell_type": "markdown",
   "metadata": {},
   "source": [
    "The Levene test shows that the p-value is 0.116, which means that we cannot reject the null hypothesis that the variances are equal.\n",
    "\n",
    "We can assume that the variances of the science scores in all three groups are equal."
   ]
  },
  {
   "cell_type": "markdown",
   "metadata": {},
   "source": [
    "### Perform ANCOVA for Science scores controlling for Math scores\n",
    "\n",
    "Null hypothesis: the group has no significant effect on the science score after controlling for the math score.  \n",
    "Alternative hypothesis: the group has a significant effect on the science score after controlling for the math score."
   ]
  },
  {
   "cell_type": "code",
   "execution_count": 5,
   "metadata": {},
   "outputs": [
    {
     "data": {
      "text/html": [
       "<div>\n",
       "<style scoped>\n",
       "    .dataframe tbody tr th:only-of-type {\n",
       "        vertical-align: middle;\n",
       "    }\n",
       "\n",
       "    .dataframe tbody tr th {\n",
       "        vertical-align: top;\n",
       "    }\n",
       "\n",
       "    .dataframe thead th {\n",
       "        text-align: right;\n",
       "    }\n",
       "</style>\n",
       "<table border=\"1\" class=\"dataframe\">\n",
       "  <thead>\n",
       "    <tr style=\"text-align: right;\">\n",
       "      <th></th>\n",
       "      <th>sum_sq</th>\n",
       "      <th>df</th>\n",
       "      <th>F</th>\n",
       "      <th>PR(&gt;F)</th>\n",
       "    </tr>\n",
       "  </thead>\n",
       "  <tbody>\n",
       "    <tr>\n",
       "      <th>C(group)</th>\n",
       "      <td>924.5442</td>\n",
       "      <td>2.0000</td>\n",
       "      <td>17.8991</td>\n",
       "      <td>0.0000</td>\n",
       "    </tr>\n",
       "    <tr>\n",
       "      <th>math</th>\n",
       "      <td>4453.5482</td>\n",
       "      <td>1.0000</td>\n",
       "      <td>172.4408</td>\n",
       "      <td>0.0000</td>\n",
       "    </tr>\n",
       "    <tr>\n",
       "      <th>Residual</th>\n",
       "      <td>1807.8571</td>\n",
       "      <td>70.0000</td>\n",
       "      <td>NaN</td>\n",
       "      <td>NaN</td>\n",
       "    </tr>\n",
       "  </tbody>\n",
       "</table>\n",
       "</div>"
      ],
      "text/plain": [
       "            sum_sq      df        F  PR(>F)\n",
       "C(group)  924.5442  2.0000  17.8991  0.0000\n",
       "math     4453.5482  1.0000 172.4408  0.0000\n",
       "Residual 1807.8571 70.0000      NaN     NaN"
      ]
     },
     "execution_count": 5,
     "metadata": {},
     "output_type": "execute_result"
    }
   ],
   "source": [
    "ancova_model = smf.ols(\"science ~ C(group) + math\", data=df_scmath).fit()\n",
    "ancova_results = anova.anova_lm(ancova_model, typ=2)\n",
    "\n",
    "ancova_results"
   ]
  },
  {
   "cell_type": "markdown",
   "metadata": {},
   "source": [
    "With math as a covariate:\n",
    "\n",
    "* the p-values for the group and the math are both under 0.0001\n",
    "* which means that both variables have a significant effect on the science score, and the null hypothesis is rejected"
   ]
  },
  {
   "cell_type": "markdown",
   "metadata": {},
   "source": [
    "### Post-hoc Tukey test for ANCOVA model\n",
    "\n",
    "Sadly, Python doesn't seem to have a built-in function for Tukey's post-hoc test for ANCOVA models.\n",
    "\n",
    "Instead, we're going to remove the effect of the math score from the science score and then perform the Tukey test on the residuals.\n",
    "\n",
    "Null hypothesis: the means of the groups are equal.  \n",
    "Alternative hypothesis: the means of the groups are not equal."
   ]
  },
  {
   "cell_type": "code",
   "execution_count": null,
   "metadata": {},
   "outputs": [
    {
     "name": "stdout",
     "output_type": "stream",
     "text": [
      " Multiple Comparison of Means - Tukey HSD, FWER=0.05 \n",
      "=====================================================\n",
      "group1 group2 meandiff p-adj   lower    upper  reject\n",
      "-----------------------------------------------------\n",
      "   1.0    2.0   -1.359 0.6413  -4.9684  2.2504  False\n",
      "   1.0    3.0  -8.0716    0.0 -11.5328 -4.6104   True\n",
      "   2.0    3.0  -6.7126    0.0  -10.046 -3.3793   True\n",
      "-----------------------------------------------------\n"
     ]
    }
   ],
   "source": [
    "tukey_results = multicomp.pairwise_tukeyhsd(\n",
    "    df_scmath[\"science\"] - ancova_model.params[\"math\"] * df_scmath[\"math\"],\n",
    "    df_scmath[\"group\"],\n",
    ")\n",
    "\n",
    "print(tukey_results)"
   ]
  },
  {
   "cell_type": "markdown",
   "metadata": {},
   "source": [
    "We can see the following results:\n",
    "\n",
    "* The p-value for groups 1 (prestigious) vs 2 (very prestigious) is 0.641, which means we fail to reject the null hypothesis that the means are equal when controlling for the math score.\n",
    "* The other two p-values (prestigious / v. prestigions vs not prestigious) are <0.0001, which means we reject the null hypothesis that the means are equal when controlling for the math score."
   ]
  },
  {
   "cell_type": "markdown",
   "metadata": {},
   "source": [
    "## Task 2: Preferred time-spending\n",
    "\n",
    "Data: File `Activity.sav`, variables\n",
    "\n",
    "* `family` - preferred time-spending with family\n",
    "* `social` - preferred time-spending with friends\n",
    "* `work` - preferred time-spending with co-workers"
   ]
  },
  {
   "cell_type": "markdown",
   "metadata": {},
   "source": [
    "First of all, let's load the data and take a look."
   ]
  },
  {
   "cell_type": "code",
   "execution_count": 6,
   "metadata": {},
   "outputs": [
    {
     "data": {
      "text/html": [
       "<div>\n",
       "<style scoped>\n",
       "    .dataframe tbody tr th:only-of-type {\n",
       "        vertical-align: middle;\n",
       "    }\n",
       "\n",
       "    .dataframe tbody tr th {\n",
       "        vertical-align: top;\n",
       "    }\n",
       "\n",
       "    .dataframe thead th {\n",
       "        text-align: right;\n",
       "    }\n",
       "</style>\n",
       "<table border=\"1\" class=\"dataframe\">\n",
       "  <thead>\n",
       "    <tr style=\"text-align: right;\">\n",
       "      <th></th>\n",
       "      <th>family</th>\n",
       "      <th>social</th>\n",
       "      <th>work</th>\n",
       "    </tr>\n",
       "  </thead>\n",
       "  <tbody>\n",
       "    <tr>\n",
       "      <th>count</th>\n",
       "      <td>66.0000</td>\n",
       "      <td>66.0000</td>\n",
       "      <td>66.0000</td>\n",
       "    </tr>\n",
       "    <tr>\n",
       "      <th>mean</th>\n",
       "      <td>15.5758</td>\n",
       "      <td>15.4545</td>\n",
       "      <td>13.2424</td>\n",
       "    </tr>\n",
       "    <tr>\n",
       "      <th>std</th>\n",
       "      <td>4.1103</td>\n",
       "      <td>3.7670</td>\n",
       "      <td>3.6922</td>\n",
       "    </tr>\n",
       "    <tr>\n",
       "      <th>min</th>\n",
       "      <td>4.0000</td>\n",
       "      <td>7.0000</td>\n",
       "      <td>4.0000</td>\n",
       "    </tr>\n",
       "    <tr>\n",
       "      <th>25%</th>\n",
       "      <td>13.2500</td>\n",
       "      <td>13.0000</td>\n",
       "      <td>11.2500</td>\n",
       "    </tr>\n",
       "    <tr>\n",
       "      <th>50%</th>\n",
       "      <td>16.0000</td>\n",
       "      <td>15.5000</td>\n",
       "      <td>13.0000</td>\n",
       "    </tr>\n",
       "    <tr>\n",
       "      <th>75%</th>\n",
       "      <td>18.7500</td>\n",
       "      <td>18.0000</td>\n",
       "      <td>16.0000</td>\n",
       "    </tr>\n",
       "    <tr>\n",
       "      <th>max</th>\n",
       "      <td>25.0000</td>\n",
       "      <td>26.0000</td>\n",
       "      <td>20.0000</td>\n",
       "    </tr>\n",
       "  </tbody>\n",
       "</table>\n",
       "</div>"
      ],
      "text/plain": [
       "       family  social    work\n",
       "count 66.0000 66.0000 66.0000\n",
       "mean  15.5758 15.4545 13.2424\n",
       "std    4.1103  3.7670  3.6922\n",
       "min    4.0000  7.0000  4.0000\n",
       "25%   13.2500 13.0000 11.2500\n",
       "50%   16.0000 15.5000 13.0000\n",
       "75%   18.7500 18.0000 16.0000\n",
       "max   25.0000 26.0000 20.0000"
      ]
     },
     "execution_count": 6,
     "metadata": {},
     "output_type": "execute_result"
    }
   ],
   "source": [
    "df_activity, metadata_activity = pyreadstat.read_sav(\"data/Activity.sav\")\n",
    "\n",
    "df_activity.describe()"
   ]
  },
  {
   "cell_type": "markdown",
   "metadata": {},
   "source": [
    "### Data preparation in correct format\n",
    "\n",
    "We will convert the data to the long format, where the columns will be transformed into separate rows."
   ]
  },
  {
   "cell_type": "code",
   "execution_count": 7,
   "metadata": {},
   "outputs": [
    {
     "data": {
      "text/html": [
       "<div>\n",
       "<style scoped>\n",
       "    .dataframe tbody tr th:only-of-type {\n",
       "        vertical-align: middle;\n",
       "    }\n",
       "\n",
       "    .dataframe tbody tr th {\n",
       "        vertical-align: top;\n",
       "    }\n",
       "\n",
       "    .dataframe thead th {\n",
       "        text-align: right;\n",
       "    }\n",
       "</style>\n",
       "<table border=\"1\" class=\"dataframe\">\n",
       "  <thead>\n",
       "    <tr style=\"text-align: right;\">\n",
       "      <th></th>\n",
       "      <th>ID</th>\n",
       "      <th>variable</th>\n",
       "      <th>value</th>\n",
       "    </tr>\n",
       "  </thead>\n",
       "  <tbody>\n",
       "    <tr>\n",
       "      <th>0</th>\n",
       "      <td>0</td>\n",
       "      <td>family</td>\n",
       "      <td>19.0000</td>\n",
       "    </tr>\n",
       "    <tr>\n",
       "      <th>1</th>\n",
       "      <td>1</td>\n",
       "      <td>family</td>\n",
       "      <td>17.0000</td>\n",
       "    </tr>\n",
       "    <tr>\n",
       "      <th>2</th>\n",
       "      <td>2</td>\n",
       "      <td>family</td>\n",
       "      <td>8.0000</td>\n",
       "    </tr>\n",
       "    <tr>\n",
       "      <th>3</th>\n",
       "      <td>3</td>\n",
       "      <td>family</td>\n",
       "      <td>13.0000</td>\n",
       "    </tr>\n",
       "    <tr>\n",
       "      <th>4</th>\n",
       "      <td>4</td>\n",
       "      <td>family</td>\n",
       "      <td>14.0000</td>\n",
       "    </tr>\n",
       "    <tr>\n",
       "      <th>...</th>\n",
       "      <td>...</td>\n",
       "      <td>...</td>\n",
       "      <td>...</td>\n",
       "    </tr>\n",
       "    <tr>\n",
       "      <th>193</th>\n",
       "      <td>61</td>\n",
       "      <td>work</td>\n",
       "      <td>18.0000</td>\n",
       "    </tr>\n",
       "    <tr>\n",
       "      <th>194</th>\n",
       "      <td>62</td>\n",
       "      <td>work</td>\n",
       "      <td>12.0000</td>\n",
       "    </tr>\n",
       "    <tr>\n",
       "      <th>195</th>\n",
       "      <td>63</td>\n",
       "      <td>work</td>\n",
       "      <td>16.0000</td>\n",
       "    </tr>\n",
       "    <tr>\n",
       "      <th>196</th>\n",
       "      <td>64</td>\n",
       "      <td>work</td>\n",
       "      <td>13.0000</td>\n",
       "    </tr>\n",
       "    <tr>\n",
       "      <th>197</th>\n",
       "      <td>65</td>\n",
       "      <td>work</td>\n",
       "      <td>10.0000</td>\n",
       "    </tr>\n",
       "  </tbody>\n",
       "</table>\n",
       "<p>198 rows × 3 columns</p>\n",
       "</div>"
      ],
      "text/plain": [
       "     ID variable   value\n",
       "0     0   family 19.0000\n",
       "1     1   family 17.0000\n",
       "2     2   family  8.0000\n",
       "3     3   family 13.0000\n",
       "4     4   family 14.0000\n",
       "..   ..      ...     ...\n",
       "193  61     work 18.0000\n",
       "194  62     work 12.0000\n",
       "195  63     work 16.0000\n",
       "196  64     work 13.0000\n",
       "197  65     work 10.0000\n",
       "\n",
       "[198 rows x 3 columns]"
      ]
     },
     "execution_count": 7,
     "metadata": {},
     "output_type": "execute_result"
    }
   ],
   "source": [
    "df_activity[\"ID\"] = df_activity.index\n",
    "\n",
    "df_activity_long = pd.melt(\n",
    "    df_activity,\n",
    "    id_vars=[\"ID\"],\n",
    "    value_vars=[\"family\", \"social\", \"work\"],\n",
    ")\n",
    "\n",
    "df_activity_long"
   ]
  },
  {
   "cell_type": "markdown",
   "metadata": {},
   "source": [
    "### Test Sphericity assumption\n",
    "\n",
    "We will perform Mauchly's test of sphericity to test if the data is spherically distributed.\n",
    "\n",
    "Null hypothesis: the data is spherically distributed.  \n",
    "Alternative hypothesis: the data is not spherically distributed."
   ]
  },
  {
   "cell_type": "code",
   "execution_count": 8,
   "metadata": {},
   "outputs": [
    {
     "name": "stdout",
     "output_type": "stream",
     "text": [
      "P-value of Mauchly's test: 0.9598403034007936\n"
     ]
    }
   ],
   "source": [
    "mauchly_test = pg.sphericity(\n",
    "    df_activity_long,\n",
    "    dv=\"value\",\n",
    "    within=\"variable\",\n",
    "    subject=\"ID\",\n",
    ")\n",
    "\n",
    "print(\"P-value of Mauchly's test:\", mauchly_test.pval)"
   ]
  },
  {
   "cell_type": "markdown",
   "metadata": {},
   "source": [
    "The Mauchly's test shows that the p-value is 0.960, which means that we cannot reject the null hypothesis that the data is spherically distributed.\n",
    "\n",
    "We can proceed with the repeated measures ANOVA."
   ]
  },
  {
   "cell_type": "markdown",
   "metadata": {},
   "source": [
    "### Test statistical significance\n",
    "\n",
    "We will perform the repeated measures ANOVA to check if there are any significant differences between the three preferred time-spending types.\n",
    "\n",
    "Null hypothesis: there are no significant differences between preference for family, social, and work time-spending types.  \n",
    "Alternative hypothesis: there are significant differences between preference for family, social, and work time-spending types."
   ]
  },
  {
   "cell_type": "code",
   "execution_count": 9,
   "metadata": {},
   "outputs": [
    {
     "data": {
      "text/html": [
       "<table class=\"simpletable\">\n",
       "<tr>\n",
       "      <td></td>     <th>F Value</th> <th>Num DF</th>  <th>Den DF</th>  <th>Pr > F</th>\n",
       "</tr>\n",
       "<tr>\n",
       "  <th>variable</th> <td>8.0916</td>  <td>2.0000</td> <td>130.0000</td> <td>0.0005</td>\n",
       "</tr>\n",
       "</table><br/>\n"
      ],
      "text/latex": [
       "\\begin{table}\n",
       "\\caption{Anova}\n",
       "\\label{}\n",
       "\\begin{center}\n",
       "\\begin{tabular}{lrrrr}\n",
       "\\hline\n",
       "         & F Value & Num DF &   Den DF & Pr $>$ F  \\\\\n",
       "\\hline\n",
       "variable &  8.0916 & 2.0000 & 130.0000 &   0.0005  \\\\\n",
       "\\hline\n",
       "\\end{tabular}\n",
       "\\end{center}\n",
       "\\end{table}\n",
       "\\bigskip\n"
      ],
      "text/plain": [
       "<class 'statsmodels.iolib.summary2.Summary'>\n",
       "\"\"\"\n",
       "                 Anova\n",
       "=======================================\n",
       "         F Value Num DF  Den DF  Pr > F\n",
       "---------------------------------------\n",
       "variable  8.0916 2.0000 130.0000 0.0005\n",
       "=======================================\n",
       "\n",
       "\"\"\""
      ]
     },
     "execution_count": 9,
     "metadata": {},
     "output_type": "execute_result"
    }
   ],
   "source": [
    "anova_results = anova.AnovaRM(\n",
    "    df_activity_long,\n",
    "    depvar=\"value\",\n",
    "    subject=\"ID\",\n",
    "    within=[\"variable\"],\n",
    ").fit()\n",
    "\n",
    "anova_results.summary()"
   ]
  },
  {
   "cell_type": "markdown",
   "metadata": {},
   "source": [
    "The p-value is 0.0005, which means that we reject the null hypothesis and conclude that there are significant differences between family, social, and work time-spending types."
   ]
  },
  {
   "cell_type": "markdown",
   "metadata": {},
   "source": [
    "### Post hoc tests\n",
    "\n",
    "We'll run Tukey's post hoc test to determine which pairs of variables have significantly different means.\n",
    "\n",
    "Null hypothesis: the means of the variables are equal.  \n",
    "Alternative hypothesis: the means of the variables are not equal."
   ]
  },
  {
   "cell_type": "code",
   "execution_count": 10,
   "metadata": {},
   "outputs": [
    {
     "name": "stdout",
     "output_type": "stream",
     "text": [
      "Multiple Comparison of Means - Tukey HSD, FWER=0.05 \n",
      "====================================================\n",
      "group1 group2 meandiff p-adj   lower   upper  reject\n",
      "----------------------------------------------------\n",
      "family social  -0.1212 0.9822 -1.7085  1.4661  False\n",
      "family   work  -2.3333 0.0018 -3.9206 -0.7461   True\n",
      "social   work  -2.2121 0.0034 -3.7994 -0.6248   True\n",
      "----------------------------------------------------\n"
     ]
    }
   ],
   "source": [
    "tukey_results = multicomp.pairwise_tukeyhsd(\n",
    "    df_activity_long[\"value\"],\n",
    "    df_activity_long[\"variable\"],\n",
    ")\n",
    "\n",
    "print(tukey_results)"
   ]
  },
  {
   "cell_type": "markdown",
   "metadata": {},
   "source": [
    "The p-value for `family` vs `social` is 0.982, which means that we fail to reject the null hypothesis that their means are equal.\n",
    "\n",
    "The p-value for `family` vs `work` is 0.002 and `social` vs `work` is 0.003, which means that we reject the null hypothesis that the means are equal."
   ]
  },
  {
   "cell_type": "markdown",
   "metadata": {},
   "source": [
    "## Task 3: Training and Test scores\n",
    "\n",
    "Data: File `ABk.sav`, variables\n",
    "\n",
    "* `T` - hours trained before the test\n",
    "* `school` - school location (1=small town, 2=capital, 3=rural)\n",
    "* `reading` - reading test score\n",
    "* `math` - math test score"
   ]
  },
  {
   "cell_type": "markdown",
   "metadata": {},
   "source": [
    "First of all, let's load the data and take a look."
   ]
  },
  {
   "cell_type": "code",
   "execution_count": 11,
   "metadata": {},
   "outputs": [
    {
     "data": {
      "text/html": [
       "<div>\n",
       "<style scoped>\n",
       "    .dataframe tbody tr th:only-of-type {\n",
       "        vertical-align: middle;\n",
       "    }\n",
       "\n",
       "    .dataframe tbody tr th {\n",
       "        vertical-align: top;\n",
       "    }\n",
       "\n",
       "    .dataframe thead th {\n",
       "        text-align: right;\n",
       "    }\n",
       "</style>\n",
       "<table border=\"1\" class=\"dataframe\">\n",
       "  <thead>\n",
       "    <tr style=\"text-align: right;\">\n",
       "      <th></th>\n",
       "      <th>T</th>\n",
       "      <th>school</th>\n",
       "      <th>reading</th>\n",
       "      <th>math</th>\n",
       "    </tr>\n",
       "  </thead>\n",
       "  <tbody>\n",
       "    <tr>\n",
       "      <th>count</th>\n",
       "      <td>75.0000</td>\n",
       "      <td>75.0000</td>\n",
       "      <td>75.0000</td>\n",
       "      <td>75.0000</td>\n",
       "    </tr>\n",
       "    <tr>\n",
       "      <th>mean</th>\n",
       "      <td>2.4133</td>\n",
       "      <td>2.0933</td>\n",
       "      <td>13.5556</td>\n",
       "      <td>10.3111</td>\n",
       "    </tr>\n",
       "    <tr>\n",
       "      <th>std</th>\n",
       "      <td>1.1751</td>\n",
       "      <td>0.8248</td>\n",
       "      <td>4.6848</td>\n",
       "      <td>10.3566</td>\n",
       "    </tr>\n",
       "    <tr>\n",
       "      <th>min</th>\n",
       "      <td>1.0000</td>\n",
       "      <td>1.0000</td>\n",
       "      <td>6.6667</td>\n",
       "      <td>-6.6667</td>\n",
       "    </tr>\n",
       "    <tr>\n",
       "      <th>25%</th>\n",
       "      <td>1.0000</td>\n",
       "      <td>1.0000</td>\n",
       "      <td>10.0000</td>\n",
       "      <td>3.3333</td>\n",
       "    </tr>\n",
       "    <tr>\n",
       "      <th>50%</th>\n",
       "      <td>2.0000</td>\n",
       "      <td>2.0000</td>\n",
       "      <td>13.3333</td>\n",
       "      <td>10.0000</td>\n",
       "    </tr>\n",
       "    <tr>\n",
       "      <th>75%</th>\n",
       "      <td>3.0000</td>\n",
       "      <td>3.0000</td>\n",
       "      <td>16.6667</td>\n",
       "      <td>16.6667</td>\n",
       "    </tr>\n",
       "    <tr>\n",
       "      <th>max</th>\n",
       "      <td>5.0000</td>\n",
       "      <td>3.0000</td>\n",
       "      <td>26.6667</td>\n",
       "      <td>46.6667</td>\n",
       "    </tr>\n",
       "  </tbody>\n",
       "</table>\n",
       "</div>"
      ],
      "text/plain": [
       "            T  school  reading    math\n",
       "count 75.0000 75.0000  75.0000 75.0000\n",
       "mean   2.4133  2.0933  13.5556 10.3111\n",
       "std    1.1751  0.8248   4.6848 10.3566\n",
       "min    1.0000  1.0000   6.6667 -6.6667\n",
       "25%    1.0000  1.0000  10.0000  3.3333\n",
       "50%    2.0000  2.0000  13.3333 10.0000\n",
       "75%    3.0000  3.0000  16.6667 16.6667\n",
       "max    5.0000  3.0000  26.6667 46.6667"
      ]
     },
     "execution_count": 11,
     "metadata": {},
     "output_type": "execute_result"
    }
   ],
   "source": [
    "df_abk, metadata_abk = pyreadstat.read_sav(\"data/ABk.sav\")\n",
    "\n",
    "df_abk.describe()"
   ]
  },
  {
   "cell_type": "markdown",
   "metadata": {},
   "source": [
    "### ANOVAs for reading and math"
   ]
  },
  {
   "cell_type": "code",
   "execution_count": 12,
   "metadata": {},
   "outputs": [
    {
     "name": "stdout",
     "output_type": "stream",
     "text": [
      "ANOVA Results for reading:\n",
      "             sum_sq      df      F  PR(>F)\n",
      "C(school)   56.9905  2.0000 1.3092  0.2764\n",
      "Residual  1567.0836 72.0000    NaN     NaN\n",
      "\n",
      "ANOVA Results for math:\n",
      "             sum_sq      df      F  PR(>F)\n",
      "C(school)  414.5726  2.0000 1.9840  0.1450\n",
      "Residual  7522.6126 72.0000    NaN     NaN\n",
      "\n"
     ]
    }
   ],
   "source": [
    "for var in [\"reading\", \"math\"]:\n",
    "    anova_model = smf.ols(f\"{var} ~ C(school)\", data=df_abk).fit()\n",
    "    anova_results = anova.anova_lm(anova_model, typ=2)\n",
    "    # tukey_results = multicomp.pairwise_tukeyhsd(df_abk[var], df_abk[\"group\"])\n",
    "\n",
    "    print(f\"ANOVA Results for {var}:\")\n",
    "    print(anova_results)\n",
    "    print()\n",
    "    # print(tukey_results)\n",
    "    # print()"
   ]
  },
  {
   "cell_type": "markdown",
   "metadata": {},
   "source": [
    "The p-values for the categorical variable `school` and other variables are the following:\n",
    "\n",
    "* `reading`: 0.276, i.e. not significant\n",
    "* `math`: 0.145, i.e. not significant"
   ]
  },
  {
   "cell_type": "markdown",
   "metadata": {},
   "source": [
    "### Box test\n",
    "\n",
    "Null hypothesis: the covariance matrices of the groups are equal.  \n",
    "Alternative hypothesis: at least one of the covariance matrices of the groups is different."
   ]
  },
  {
   "cell_type": "code",
   "execution_count": 19,
   "metadata": {},
   "outputs": [
    {
     "data": {
      "text/html": [
       "<div>\n",
       "<style scoped>\n",
       "    .dataframe tbody tr th:only-of-type {\n",
       "        vertical-align: middle;\n",
       "    }\n",
       "\n",
       "    .dataframe tbody tr th {\n",
       "        vertical-align: top;\n",
       "    }\n",
       "\n",
       "    .dataframe thead th {\n",
       "        text-align: right;\n",
       "    }\n",
       "</style>\n",
       "<table border=\"1\" class=\"dataframe\">\n",
       "  <thead>\n",
       "    <tr style=\"text-align: right;\">\n",
       "      <th></th>\n",
       "      <th>Chi2</th>\n",
       "      <th>df</th>\n",
       "      <th>pval</th>\n",
       "      <th>equal_cov</th>\n",
       "    </tr>\n",
       "  </thead>\n",
       "  <tbody>\n",
       "    <tr>\n",
       "      <th>box</th>\n",
       "      <td>10.7721</td>\n",
       "      <td>6.0000</td>\n",
       "      <td>0.0957</td>\n",
       "      <td>True</td>\n",
       "    </tr>\n",
       "  </tbody>\n",
       "</table>\n",
       "</div>"
      ],
      "text/plain": [
       "       Chi2     df   pval  equal_cov\n",
       "box 10.7721 6.0000 0.0957       True"
      ]
     },
     "execution_count": 19,
     "metadata": {},
     "output_type": "execute_result"
    }
   ],
   "source": [
    "pg.box_m(\n",
    "    df_abk,\n",
    "    group=\"school\",\n",
    "    dvs=[\"reading\", \"math\"],\n",
    ")"
   ]
  },
  {
   "cell_type": "markdown",
   "metadata": {},
   "source": [
    "The p-value is 0.096, which means that we fail to reject the null hypothesis that the covariance matrices of the groups are equal.\n",
    "\n",
    "We can assume homogeneity of covariances, and we can proceed with MANOVA."
   ]
  },
  {
   "cell_type": "markdown",
   "metadata": {},
   "source": [
    "### Perform MANOVA with reading and math\n",
    "\n",
    "Null hypothesis: the school location has no significant effect on the reading and math test scores.  \n",
    "Alternative hypothesis: the school location has a significant effect on the reading and math test scores."
   ]
  },
  {
   "cell_type": "code",
   "execution_count": 13,
   "metadata": {},
   "outputs": [
    {
     "name": "stdout",
     "output_type": "stream",
     "text": [
      "                  Multivariate linear model\n",
      "=============================================================\n",
      "                                                             \n",
      "-------------------------------------------------------------\n",
      "       Intercept        Value  Num DF  Den DF F Value  Pr > F\n",
      "-------------------------------------------------------------\n",
      "          Wilks' lambda 0.2135 2.0000 71.0000 130.7464 0.0000\n",
      "         Pillai's trace 0.7865 2.0000 71.0000 130.7464 0.0000\n",
      " Hotelling-Lawley trace 3.6830 2.0000 71.0000 130.7464 0.0000\n",
      "    Roy's greatest root 3.6830 2.0000 71.0000 130.7464 0.0000\n",
      "-------------------------------------------------------------\n",
      "                                                             \n",
      "-------------------------------------------------------------\n",
      "       C(school)        Value  Num DF  Den DF  F Value Pr > F\n",
      "-------------------------------------------------------------\n",
      "          Wilks' lambda 0.6170 4.0000 142.0000  9.6944 0.0000\n",
      "         Pillai's trace 0.3847 4.0000 144.0000  8.5743 0.0000\n",
      " Hotelling-Lawley trace 0.6179 4.0000  84.1709 10.9190 0.0000\n",
      "    Roy's greatest root 0.6134 2.0000  72.0000 22.0822 0.0000\n",
      "=============================================================\n",
      "\n"
     ]
    }
   ],
   "source": [
    "manova_model = manova.MANOVA.from_formula(\"reading + math ~ C(school)\", data=df_abk)\n",
    "manova_results = manova_model.mv_test()\n",
    "\n",
    "print(manova_results)"
   ]
  },
  {
   "cell_type": "markdown",
   "metadata": {},
   "source": [
    "The Wilks' Lambda test shows that the p-value is <0.0001, which means that we reject the null hypothesis and conclude that the school location has a significant effect on the reading and math test scores."
   ]
  },
  {
   "cell_type": "markdown",
   "metadata": {},
   "source": [
    "### MANCOVA, controlling for T (hours trained)\n",
    "\n",
    "We will incorporate the hours trained variable as a covariate in the MANOVA model, and run a MANCOVA.\n",
    "\n",
    "Null hypothesis: the school location has no significant effect on the reading and math test scores after controlling for the hours trained.  \n",
    "Alternative hypothesis: the school location has a significant effect on the reading and math test scores after controlling for the hours trained."
   ]
  },
  {
   "cell_type": "code",
   "execution_count": 14,
   "metadata": {},
   "outputs": [
    {
     "name": "stdout",
     "output_type": "stream",
     "text": [
      "                  Multivariate linear model\n",
      "=============================================================\n",
      "                                                             \n",
      "-------------------------------------------------------------\n",
      "        Intercept        Value  Num DF  Den DF F Value Pr > F\n",
      "-------------------------------------------------------------\n",
      "           Wilks' lambda 0.3748 2.0000 70.0000 58.3746 0.0000\n",
      "          Pillai's trace 0.6252 2.0000 70.0000 58.3746 0.0000\n",
      "  Hotelling-Lawley trace 1.6678 2.0000 70.0000 58.3746 0.0000\n",
      "     Roy's greatest root 1.6678 2.0000 70.0000 58.3746 0.0000\n",
      "-------------------------------------------------------------\n",
      "                                                             \n",
      "-------------------------------------------------------------\n",
      "       C(school)        Value  Num DF  Den DF  F Value Pr > F\n",
      "-------------------------------------------------------------\n",
      "          Wilks' lambda 0.8922 4.0000 140.0000  2.0542 0.0901\n",
      "         Pillai's trace 0.1082 4.0000 142.0000  2.0299 0.0934\n",
      " Hotelling-Lawley trace 0.1204 4.0000  82.9711  2.0974 0.0884\n",
      "    Roy's greatest root 0.1168 2.0000  71.0000  4.1465 0.0198\n",
      "-------------------------------------------------------------\n",
      "                                                             \n",
      "-------------------------------------------------------------\n",
      "            T            Value  Num DF  Den DF F Value Pr > F\n",
      "-------------------------------------------------------------\n",
      "           Wilks' lambda 0.3595 2.0000 70.0000 62.3455 0.0000\n",
      "          Pillai's trace 0.6405 2.0000 70.0000 62.3455 0.0000\n",
      "  Hotelling-Lawley trace 1.7813 2.0000 70.0000 62.3455 0.0000\n",
      "     Roy's greatest root 1.7813 2.0000 70.0000 62.3455 0.0000\n",
      "=============================================================\n",
      "\n"
     ]
    }
   ],
   "source": [
    "manova_model = manova.MANOVA.from_formula(\"reading + math ~ C(school) + T\", data=df_abk)\n",
    "manova_results = manova_model.mv_test()\n",
    "\n",
    "print(manova_results)"
   ]
  },
  {
   "cell_type": "markdown",
   "metadata": {},
   "source": [
    "After controlling for the hours trained, the Wilks' Lambda test shows that the p-value is 0.090, which means that we fail to reject the null hypothesis that the school location has no significant effect on the reading and math test scores after controlling for the hours trained."
   ]
  }
 ],
 "metadata": {
  "kernelspec": {
   "display_name": "multivariate-bR2SZf0l-py3.11",
   "language": "python",
   "name": "python3"
  },
  "language_info": {
   "codemirror_mode": {
    "name": "ipython",
    "version": 3
   },
   "file_extension": ".py",
   "mimetype": "text/x-python",
   "name": "python",
   "nbconvert_exporter": "python",
   "pygments_lexer": "ipython3",
   "version": "3.11.0rc1"
  }
 },
 "nbformat": 4,
 "nbformat_minor": 2
}
