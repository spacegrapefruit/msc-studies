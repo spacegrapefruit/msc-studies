{
 "cells": [
  {
   "cell_type": "markdown",
   "metadata": {},
   "source": [
    "# Image processing assignment #2\n",
    "\n",
    "**Student**: Aleksandr J. Smoliakov, MIF Data Science, MSc year 1  \n",
    "**Date**: 2024-11-07"
   ]
  },
  {
   "cell_type": "markdown",
   "metadata": {},
   "source": [
    "## Part 1"
   ]
  },
  {
   "cell_type": "code",
   "execution_count": null,
   "metadata": {},
   "outputs": [],
   "source": [
    "!python python/main.py two-way-fourier data/input/Fig0507\\(a\\)\\(ckt-board-orig\\).tif"
   ]
  },
  {
   "cell_type": "markdown",
   "metadata": {},
   "source": [
    "## Part 2"
   ]
  },
  {
   "cell_type": "markdown",
   "metadata": {},
   "source": [
    "### Sine wave"
   ]
  },
  {
   "cell_type": "code",
   "execution_count": 39,
   "metadata": {},
   "outputs": [
    {
     "name": "stdout",
     "output_type": "stream",
     "text": [
      "Transform 1: Generate Image\n",
      "Image shape: (256, 256)\n",
      "Image type: float64\n",
      "Image min: 0.0, mean: 0.5, max: 1.0\n",
      "INFO:root:Saved image to /home/aleks/studies/image_analysis/assignment2/data/output/image_generation/sine/01_generate_image.png\n",
      "INFO:root:Saved image to /home/aleks/studies/image_analysis/assignment2/data/output/image_generation/sine/01_generate_image.tif\n",
      "\n",
      "Transform 2: Pad Image\n",
      "Image shape: (512, 512)\n",
      "Image type: float64\n",
      "Image min: 0.0, mean: 0.125, max: 1.0\n",
      "INFO:root:Saved image to /home/aleks/studies/image_analysis/assignment2/data/output/image_generation/sine/02_pad_image.png\n",
      "INFO:root:Saved image to /home/aleks/studies/image_analysis/assignment2/data/output/image_generation/sine/02_pad_image.tif\n",
      "\n",
      "Transform 3: Shifted for Periodicity\n",
      "Image shape: (512, 512)\n",
      "Image type: float64\n",
      "Image min: -1.0, mean: 0.0, max: 1.0\n",
      "WARNING:root:Image values are outside the valid range [0, 1]. Clipping to [0, 1]\n",
      "INFO:root:Saved image to /home/aleks/studies/image_analysis/assignment2/data/output/image_generation/sine/03_shifted_for_periodicity.png\n",
      "INFO:root:Saved image to /home/aleks/studies/image_analysis/assignment2/data/output/image_generation/sine/03_shifted_for_periodicity.tif\n",
      "\n",
      "Transform 4: DFT\n",
      "Image shape: (512, 512)\n",
      "Image type: complex128\n",
      "Image min: (-14754.745-108.646j), mean: (1+0j), max: (32768+0j)\n",
      "WARNING:root:Encountered complex image. Saving log(abs(image) + 1) instead.\n",
      "INFO:root:Saved image to /home/aleks/studies/image_analysis/assignment2/data/output/image_generation/sine/04_dft.png\n",
      "INFO:root:Saved image to /home/aleks/studies/image_analysis/assignment2/data/output/image_generation/sine/04_dft.tif\n",
      "\n"
     ]
    }
   ],
   "source": [
    "!python python/main.py image-generation sine --size 256"
   ]
  },
  {
   "cell_type": "markdown",
   "metadata": {},
   "source": [
    "### Vertical stripes"
   ]
  },
  {
   "cell_type": "code",
   "execution_count": null,
   "metadata": {},
   "outputs": [],
   "source": [
    "!python python/main.py image-generation vertical_lines --size 32"
   ]
  },
  {
   "cell_type": "markdown",
   "metadata": {},
   "source": [
    "### Checkerboard"
   ]
  },
  {
   "cell_type": "code",
   "execution_count": null,
   "metadata": {},
   "outputs": [],
   "source": [
    "!python python/main.py image-generation checkerboard --size 32"
   ]
  },
  {
   "cell_type": "markdown",
   "metadata": {},
   "source": [
    "## Part 3"
   ]
  },
  {
   "cell_type": "markdown",
   "metadata": {},
   "source": [
    "### Ideal"
   ]
  },
  {
   "cell_type": "code",
   "execution_count": null,
   "metadata": {},
   "outputs": [],
   "source": [
    "!python python/main.py frequency-filtering ideal_low_pass data/input/Kidney1-Crop.tif --cutoff 64"
   ]
  },
  {
   "cell_type": "code",
   "execution_count": null,
   "metadata": {},
   "outputs": [],
   "source": [
    "!python python/main.py frequency-filtering ideal_high_pass data/input/Kidney1-Crop.tif --cutoff 64"
   ]
  },
  {
   "cell_type": "markdown",
   "metadata": {},
   "source": [
    "### Gaussian"
   ]
  },
  {
   "cell_type": "code",
   "execution_count": null,
   "metadata": {},
   "outputs": [],
   "source": [
    "!python python/main.py frequency-filtering gaussian_low_pass data/input/Kidney1-Crop.tif --cutoff 64"
   ]
  },
  {
   "cell_type": "code",
   "execution_count": null,
   "metadata": {},
   "outputs": [],
   "source": [
    "!python python/main.py frequency-filtering gaussian_high_pass data/input/Kidney1-Crop.tif --cutoff 64"
   ]
  },
  {
   "cell_type": "markdown",
   "metadata": {},
   "source": [
    "### Butterworth"
   ]
  },
  {
   "cell_type": "code",
   "execution_count": null,
   "metadata": {},
   "outputs": [],
   "source": [
    "!python python/main.py frequency-filtering butterworth_low_pass data/input/Kidney1-Crop.tif --cutoff 64 --order 2"
   ]
  },
  {
   "cell_type": "code",
   "execution_count": null,
   "metadata": {},
   "outputs": [],
   "source": [
    "!python python/main.py frequency-filtering butterworth_high_pass data/input/Kidney1-Crop.tif --cutoff 64 --order 2"
   ]
  },
  {
   "cell_type": "markdown",
   "metadata": {},
   "source": [
    "### Transforms in the spatial domain"
   ]
  },
  {
   "cell_type": "code",
   "execution_count": null,
   "metadata": {},
   "outputs": [],
   "source": [
    "!python python/main.py convolution average data/input/Kidney1-Crop.tif --size 10"
   ]
  },
  {
   "cell_type": "code",
   "execution_count": null,
   "metadata": {},
   "outputs": [],
   "source": [
    "!python python/main.py convolution gaussian data/input/Kidney1-Crop.tif --size 10 --sigma 4"
   ]
  },
  {
   "cell_type": "code",
   "execution_count": null,
   "metadata": {},
   "outputs": [],
   "source": [
    "!python python/main.py convolution differentiation_x data/input/Kidney1-Crop.tif"
   ]
  },
  {
   "cell_type": "markdown",
   "metadata": {},
   "source": [
    "### Transforms in the frequency domain"
   ]
  },
  {
   "cell_type": "code",
   "execution_count": null,
   "metadata": {},
   "outputs": [],
   "source": [
    "!python python/main.py frequency-filtering spatial_average data/input/Kidney1-Crop.tif --size 10"
   ]
  },
  {
   "cell_type": "code",
   "execution_count": null,
   "metadata": {},
   "outputs": [],
   "source": [
    "!python python/main.py frequency-filtering spatial_gaussian data/input/Kidney1-Crop.tif --size 10 --sigma 4"
   ]
  },
  {
   "cell_type": "code",
   "execution_count": null,
   "metadata": {},
   "outputs": [],
   "source": [
    "!python python/main.py frequency-filtering spatial_differentiation_x data/input/Kidney1-Crop.tif"
   ]
  },
  {
   "cell_type": "code",
   "execution_count": null,
   "metadata": {},
   "outputs": [],
   "source": []
  },
  {
   "cell_type": "code",
   "execution_count": null,
   "metadata": {},
   "outputs": [],
   "source": []
  },
  {
   "cell_type": "code",
   "execution_count": null,
   "metadata": {},
   "outputs": [],
   "source": []
  },
  {
   "cell_type": "code",
   "execution_count": null,
   "metadata": {},
   "outputs": [],
   "source": [
    "# from libtiff import TIFF\n",
    "# import numpy as np\n",
    "# import math\n",
    "# import sys\n",
    "# import typer\n",
    "\n",
    "from python.image_utils import fourier_transform_pipeline\n",
    "from python.notebook_utils import display_images"
   ]
  },
  {
   "cell_type": "code",
   "execution_count": null,
   "metadata": {},
   "outputs": [],
   "source": [
    "# np.matmul for matrix/vector calculation\n",
    "# np.fft for Fourier transform"
   ]
  },
  {
   "cell_type": "code",
   "execution_count": null,
   "metadata": {},
   "outputs": [],
   "source": [
    "display_images(\n",
    "    [\"data/input/Kidney1-Crop.tif\"],\n",
    "    [\"Kidney1-Crop.tif\"],\n",
    "    figsize=(6, 6),\n",
    ")"
   ]
  },
  {
   "cell_type": "code",
   "execution_count": null,
   "metadata": {},
   "outputs": [],
   "source": [
    "pipeline_steps_images = fourier_transform_pipeline(\"data/input/Kidney1-Crop.tif\")"
   ]
  },
  {
   "cell_type": "code",
   "execution_count": null,
   "metadata": {},
   "outputs": [],
   "source": [
    "display_images(\n",
    "    *list(zip(*pipeline_steps_images)),\n",
    "    subplot_shape=(2, 3),\n",
    "    figsize=(16, 9),\n",
    ")"
   ]
  }
 ],
 "metadata": {
  "kernelspec": {
   "display_name": "assignment2-01gJb2SF-py3.10",
   "language": "python",
   "name": "python3"
  },
  "language_info": {
   "codemirror_mode": {
    "name": "ipython",
    "version": 3
   },
   "file_extension": ".py",
   "mimetype": "text/x-python",
   "name": "python",
   "nbconvert_exporter": "python",
   "pygments_lexer": "ipython3",
   "version": "3.10.12"
  }
 },
 "nbformat": 4,
 "nbformat_minor": 2
}
