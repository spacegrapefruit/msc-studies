{
 "cells": [
  {
   "cell_type": "markdown",
   "metadata": {},
   "source": [
    "# Image processing assignment #3\n",
    "\n",
    "**Student**: Aleksandr J. Smoliakov, MIF Data Science, MSc year 1  \n",
    "**Date**: 2024-12-12"
   ]
  },
  {
   "cell_type": "markdown",
   "metadata": {},
   "source": [
    "## FISH Signal Counts"
   ]
  },
  {
   "cell_type": "code",
   "execution_count": 98,
   "metadata": {},
   "outputs": [
    {
     "name": "stdout",
     "output_type": "stream",
     "text": [
      "TIFFReadDirectory: Warning, Unknown field with tag 50838 (0xc696) encountered.\n",
      "TIFFReadDirectory: Warning, Unknown field with tag 50839 (0xc697) encountered.\n",
      "TIFFReadDirectory: Warning, Unknown field with tag 50838 (0xc696) encountered.\n",
      "TIFFReadDirectory: Warning, Unknown field with tag 50839 (0xc697) encountered.\n",
      "INFO:root:Saved image to data/output/fish_signal_counts/binary_masks.png\n",
      "INFO:root:Saved image to data/output/fish_signal_counts/binary_masks_cleaned.png\n",
      "INFO:root:Cell analysis results\n",
      "INFO:root:Total cells: 30\n",
      "INFO:root:---------------------\n",
      "INFO:root:Cell 4 (area=4161): Acridine=2.0, FITC=1.0, Ratio=2.0\n",
      "INFO:root:Cell 5 (area=4446): Acridine=0.0, FITC=1.0, Ratio=0.0\n",
      "INFO:root:Cell 6 (area=2753): Acridine=3.0, FITC=0.0, Ratio=None\n",
      "INFO:root:Cell 7 (area=4195): Acridine=5.0, FITC=1.0, Ratio=5.0\n",
      "INFO:root:Cell 8 (area=5157): Acridine=5.0, FITC=2.0, Ratio=2.5\n",
      "INFO:root:Cell 9 (area=5791): Acridine=9.0, FITC=3.0, Ratio=3.0\n",
      "INFO:root:Cell 10 (area=4603): Acridine=3.0, FITC=1.0, Ratio=3.0\n",
      "INFO:root:Cell 11 (area=3895): Acridine=3.0, FITC=1.0, Ratio=3.0\n",
      "INFO:root:Cell 12 (area=4147): Acridine=2.0, FITC=0.0, Ratio=None\n",
      "INFO:root:Cell 13 (area=5465): Acridine=6.0, FITC=2.0, Ratio=3.0\n",
      "INFO:root:Cell 14 (area=3500): Acridine=3.0, FITC=0.0, Ratio=None\n",
      "INFO:root:Cell 15 (area=5367): Acridine=4.0, FITC=1.0, Ratio=4.0\n",
      "INFO:root:Cell 16 (area=5051): Acridine=5.0, FITC=1.0, Ratio=5.0\n",
      "INFO:root:Cell 18 (area=2232): Acridine=1.0, FITC=1.0, Ratio=1.0\n",
      "INFO:root:Cell 19 (area=2737): Acridine=0.0, FITC=0.0, Ratio=None\n",
      "INFO:root:Cell 20 (area=5781): Acridine=6.0, FITC=1.0, Ratio=6.0\n",
      "INFO:root:Cell 21 (area=4783): Acridine=0.0, FITC=3.0, Ratio=0.0\n",
      "INFO:root:Cell 22 (area=5634): Acridine=3.0, FITC=0.0, Ratio=None\n",
      "INFO:root:Cell 23 (area=4405): Acridine=5.0, FITC=0.0, Ratio=None\n",
      "INFO:root:Cell 24 (area=3228): Acridine=3.0, FITC=0.0, Ratio=None\n",
      "INFO:root:Cell 25 (area=3695): Acridine=0.0, FITC=0.0, Ratio=None\n",
      "INFO:root:Cell 26 (area=2607): Acridine=0.0, FITC=0.0, Ratio=None\n",
      "INFO:root:Cell 27 (area=1974): Acridine=1.0, FITC=1.0, Ratio=1.0\n",
      "INFO:root:Cell 28 (area=2558): Acridine=1.0, FITC=0.0, Ratio=None\n",
      "INFO:root:Cell 30 (area=2317): Acridine=2.0, FITC=0.0, Ratio=None\n",
      "INFO:root:Cell 31 (area=5015): Acridine=3.0, FITC=1.0, Ratio=3.0\n",
      "INFO:root:Cell 32 (area=5126): Acridine=6.0, FITC=2.0, Ratio=3.0\n",
      "INFO:root:Cell 33 (area=3332): Acridine=2.0, FITC=0.0, Ratio=None\n",
      "INFO:root:Cell 34 (area=5204): Acridine=8.0, FITC=1.0, Ratio=8.0\n",
      "INFO:root:Cell 35 (area=841): Acridine=1.0, FITC=0.0, Ratio=None\n"
     ]
    }
   ],
   "source": [
    "!python python/main.py fish-signal-counts \\\n",
    "    \"data/input/BXY-ABCD_Region 002_FOV 00040_Acridine.tif\" \\\n",
    "    \"data/input/BXY-ABCD_Region 002_FOV 00040_FITC.tif\" \\\n",
    "    \"data/input/BXY-ABCD_Region 002_FOV 00040_DAPI.tif\""
   ]
  },
  {
   "cell_type": "markdown",
   "metadata": {},
   "source": [
    "## Circuit Board Quality Assurance"
   ]
  },
  {
   "cell_type": "code",
   "execution_count": 107,
   "metadata": {},
   "outputs": [
    {
     "name": "stdout",
     "output_type": "stream",
     "text": [
      "INFO:root:Saved image to data/output/circuit_board_qa/median_filtered_image.png\n",
      "INFO:root:Saved image to data/output/circuit_board_qa/conductor_mask_thick.png\n",
      "0.8339100346020761\n",
      "0.8339100346020761\n",
      "0.8339100346020761\n",
      "0.8339100346020761\n",
      "0.8339100346020761\n",
      "0.8339100346020761\n",
      "0.8339100346020761\n",
      "1.0\n",
      "0.8339100346020761\n",
      "0.8339100346020761\n",
      "0.8373702422145328\n",
      "0.8588235294117647\n",
      "0.8339100346020761\n",
      "WARNING:root:Component 32 with suspected broken wire touches 1 connectors\n",
      "0.8339100346020761\n",
      "0.8339100346020761\n",
      "0.8339100346020761\n",
      "0.8339100346020761\n",
      "WARNING:root:Component 37 with suspected broken wire touches 1 connectors\n",
      "0.8339100346020761\n",
      "0.8339100346020761\n",
      "WARNING:root:Component 41 with suspected broken wire touches 1 connectors\n",
      "WARNING:root:Component 42 with suspected broken wire touches 1 connectors\n",
      "1.0\n",
      "INFO:root:Saved image to data/output/circuit_board_qa/final_image.png\n"
     ]
    }
   ],
   "source": [
    "!python python/main.py circuit-board-qa data/input/pcb-xray.tif"
   ]
  },
  {
   "cell_type": "markdown",
   "metadata": {},
   "source": [
    "## Filled Bottles"
   ]
  },
  {
   "cell_type": "code",
   "execution_count": 97,
   "metadata": {},
   "outputs": [
    {
     "name": "stdout",
     "output_type": "stream",
     "text": [
      "/home/aleks/msc-studies/image_analysis/assignment3/python/image_pipelines.py:228: UserWarning: Warning: converting a masked element to nan.\n",
      "  means_above = np.array([row_means[:i].mean() for i in range(1, len(row_means))])\n",
      "/home/aleks/msc-studies/image_analysis/assignment3/python/image_pipelines.py:229: UserWarning: Warning: converting a masked element to nan.\n",
      "  means_below = np.array([row_means[i:].mean() for i in range(1, len(row_means))])\n",
      "INFO:root:Saved image to data/output/filled_bottles/final_image.png\n",
      "INFO:root:Bottle analysis results\n",
      "INFO:root:Total bottles: 3\n",
      "INFO:root:---------------------\n",
      "INFO:root:Bottle 2: Liquid=73, Shoulder=93, Neck=68, Filled=True\n",
      "INFO:root:Bottle 3: Liquid=132, Shoulder=91, Neck=67, Filled=False\n",
      "INFO:root:Bottle 4: Liquid=73, Shoulder=93, Neck=68, Filled=True\n"
     ]
    }
   ],
   "source": [
    "!python python/main.py filled-bottles data/input/Bottles.tif"
   ]
  }
 ],
 "metadata": {
  "kernelspec": {
   "display_name": "Python 3",
   "language": "python",
   "name": "python3"
  },
  "language_info": {
   "codemirror_mode": {
    "name": "ipython",
    "version": 3
   },
   "file_extension": ".py",
   "mimetype": "text/x-python",
   "name": "python",
   "nbconvert_exporter": "python",
   "pygments_lexer": "ipython3",
   "version": "3.10.12"
  }
 },
 "nbformat": 4,
 "nbformat_minor": 2
}
