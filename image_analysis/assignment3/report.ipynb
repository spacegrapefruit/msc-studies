{
 "cells": [
  {
   "cell_type": "markdown",
   "metadata": {},
   "source": [
    "# Image processing assignment #3\n",
    "\n",
    "**Student**: Aleksandr J. Smoliakov, MIF Data Science, MSc year 1  \n",
    "**Date**: 2024-12-12"
   ]
  },
  {
   "cell_type": "markdown",
   "metadata": {},
   "source": [
    "## FISH Signal Counts"
   ]
  },
  {
   "cell_type": "code",
   "execution_count": 143,
   "metadata": {},
   "outputs": [
    {
     "name": "stdout",
     "output_type": "stream",
     "text": [
      "TIFFReadDirectory: Warning, Unknown field with tag 50838 (0xc696) encountered.\n",
      "TIFFReadDirectory: Warning, Unknown field with tag 50839 (0xc697) encountered.\n",
      "TIFFReadDirectory: Warning, Unknown field with tag 50838 (0xc696) encountered.\n",
      "TIFFReadDirectory: Warning, Unknown field with tag 50839 (0xc697) encountered.\n",
      "INFO:root:Saved image to data/output/fish_signal_counts/binary_masks.png\n",
      "INFO:root:Saved image to data/output/fish_signal_counts/binary_masks_cleaned.png\n",
      "INFO:root:Cell analysis results\n",
      "INFO:root:Total cells: 30\n",
      "INFO:root:---------------------\n",
      "INFO:root:Cell 3 (area=838): Acridine=1.0, FITC=0.0, Ratio=None\n",
      "INFO:root:Cell 4 (area=5094): Acridine=3.0, FITC=1.0, Ratio=3.0\n",
      "INFO:root:Cell 5 (area=4168): Acridine=2.0, FITC=1.0, Ratio=2.0\n",
      "INFO:root:Cell 6 (area=3501): Acridine=3.0, FITC=0.0, Ratio=None\n",
      "INFO:root:Cell 7 (area=3899): Acridine=3.0, FITC=1.0, Ratio=3.0\n",
      "INFO:root:Cell 8 (area=2564): Acridine=1.0, FITC=0.0, Ratio=None\n",
      "INFO:root:Cell 18 (area=5221): Acridine=8.0, FITC=1.0, Ratio=8.0\n",
      "INFO:root:Cell 35 (area=2336): Acridine=2.0, FITC=0.0, Ratio=None\n",
      "INFO:root:Cell 36 (area=2746): Acridine=3.0, FITC=0.0, Ratio=None\n",
      "INFO:root:Cell 44 (area=2237): Acridine=1.0, FITC=1.0, Ratio=1.0\n",
      "INFO:root:Cell 49 (area=4147): Acridine=2.0, FITC=0.0, Ratio=None\n",
      "INFO:root:Cell 52 (area=4196): Acridine=5.0, FITC=1.0, Ratio=5.0\n",
      "INFO:root:Cell 57 (area=5050): Acridine=5.0, FITC=1.0, Ratio=5.0\n",
      "INFO:root:Cell 61 (area=5793): Acridine=6.0, FITC=1.0, Ratio=6.0\n",
      "INFO:root:Cell 72 (area=3237): Acridine=3.0, FITC=0.0, Ratio=None\n",
      "INFO:root:Cell 81 (area=4611): Acridine=3.0, FITC=1.0, Ratio=3.0\n",
      "INFO:root:Cell 82 (area=2747): Acridine=0.0, FITC=0.0, Ratio=None\n",
      "INFO:root:Cell 83 (area=4438): Acridine=0.0, FITC=1.0, Ratio=0.0\n",
      "INFO:root:Cell 84 (area=4415): Acridine=5.0, FITC=0.0, Ratio=None\n",
      "INFO:root:Cell 85 (area=5463): Acridine=6.0, FITC=2.0, Ratio=3.0\n",
      "INFO:root:Cell 87 (area=5179): Acridine=5.0, FITC=2.0, Ratio=2.5\n",
      "INFO:root:Cell 88 (area=4775): Acridine=0.0, FITC=3.0, Ratio=0.0\n",
      "INFO:root:Cell 89 (area=5146): Acridine=6.0, FITC=2.0, Ratio=3.0\n",
      "INFO:root:Cell 90 (area=3697): Acridine=0.0, FITC=0.0, Ratio=None\n",
      "INFO:root:Cell 91 (area=5378): Acridine=4.0, FITC=1.0, Ratio=4.0\n",
      "INFO:root:Cell 92 (area=1981): Acridine=1.0, FITC=1.0, Ratio=1.0\n",
      "INFO:root:Cell 93 (area=5803): Acridine=9.0, FITC=3.0, Ratio=3.0\n",
      "INFO:root:Cell 95 (area=2629): Acridine=0.0, FITC=0.0, Ratio=None\n",
      "INFO:root:Cell 96 (area=5651): Acridine=3.0, FITC=0.0, Ratio=None\n",
      "INFO:root:Cell 98 (area=3337): Acridine=2.0, FITC=0.0, Ratio=None\n"
     ]
    }
   ],
   "source": [
    "!python python/main.py fish-signal-counts \\\n",
    "    \"data/input/BXY-ABCD_Region 002_FOV 00040_Acridine.tif\" \\\n",
    "    \"data/input/BXY-ABCD_Region 002_FOV 00040_FITC.tif\" \\\n",
    "    \"data/input/BXY-ABCD_Region 002_FOV 00040_DAPI.tif\""
   ]
  },
  {
   "cell_type": "markdown",
   "metadata": {},
   "source": [
    "## Circuit Board Quality Assurance"
   ]
  },
  {
   "cell_type": "code",
   "execution_count": 57,
   "metadata": {},
   "outputs": [
    {
     "name": "stdout",
     "output_type": "stream",
     "text": [
      "Number of detected regions: 21\n",
      "/home/aleks/.local/lib/python3.10/site-packages/numpy/core/fromnumeric.py:3504: RuntimeWarning: Mean of empty slice.\n",
      "  return _methods._mean(a, axis=axis, dtype=dtype,\n",
      "/home/aleks/.local/lib/python3.10/site-packages/numpy/core/_methods.py:121: RuntimeWarning: invalid value encountered in divide\n",
      "  ret = um.true_divide(\n",
      "\n",
      "Detected soldering regions:\n",
      "\n",
      "Detected drilled holes:\n",
      "  Hole 1: Area = 25, Centroid = (11.0, 87.0)\n",
      "  Hole 2: Area = 25, Centroid = (14.0, 55.0)\n",
      "  Hole 3: Area = 25, Centroid = (22.0, 116.0)\n",
      "  Hole 4: Area = 25, Centroid = (23.0, 144.0)\n",
      "  Hole 5: Area = 25, Centroid = (36.0, 58.0)\n",
      "  Hole 6: Area = 24, Centroid = (36.875, 86.0)\n",
      "  Hole 7: Area = 25, Centroid = (49.0, 115.0)\n",
      "  Hole 8: Area = 25, Centroid = (49.0, 144.0)\n",
      "  Hole 9: Area = 25, Centroid = (60.0, 58.0)\n",
      "  Hole 10: Area = 25, Centroid = (60.0, 87.0)\n",
      "  Hole 11: Area = 52, Centroid = (179.07692307692307, 248.3653846153846)\n",
      "  Hole 12: Area = 25, Centroid = (184.0, 44.0)\n",
      "  Hole 13: Area = 27, Centroid = (186.8148148148148, 72.88888888888889)\n",
      "  Hole 14: Area = 25, Centroid = (220.0, 30.0)\n",
      "  Hole 15: Area = 26, Centroid = (220.07692307692307, 59.07692307692308)\n",
      "  Hole 16: Area = 26, Centroid = (244.07692307692307, 58.07692307692308)\n",
      "  Hole 17: Area = 25, Centroid = (245.0, 30.0)\n",
      "  Hole 18: Area = 38, Centroid = (245.0, 111.89473684210526)\n",
      "  Hole 19: Area = 25, Centroid = (245.0, 140.0)\n",
      "  Hole 20: Area = 50, Centroid = (252.0, 248.5)\n",
      "  Hole 21: Area = 0, Centroid = (nan, nan)\n",
      "Warning: Hole 1 is not centered in any soldering region.\n",
      "Warning: Hole 2 is not centered in any soldering region.\n",
      "Warning: Hole 3 is not centered in any soldering region.\n",
      "Warning: Hole 4 is not centered in any soldering region.\n",
      "Warning: Hole 5 is not centered in any soldering region.\n",
      "Warning: Hole 6 is not centered in any soldering region.\n",
      "Warning: Hole 7 is not centered in any soldering region.\n",
      "Warning: Hole 8 is not centered in any soldering region.\n",
      "Warning: Hole 9 is not centered in any soldering region.\n",
      "Warning: Hole 10 is not centered in any soldering region.\n",
      "Warning: Hole 11 is not centered in any soldering region.\n",
      "Warning: Hole 12 is not centered in any soldering region.\n",
      "Warning: Hole 13 is not centered in any soldering region.\n",
      "Warning: Hole 14 is not centered in any soldering region.\n",
      "Warning: Hole 15 is not centered in any soldering region.\n",
      "Warning: Hole 16 is not centered in any soldering region.\n",
      "Warning: Hole 17 is not centered in any soldering region.\n",
      "Warning: Hole 18 is not centered in any soldering region.\n",
      "Warning: Hole 19 is not centered in any soldering region.\n",
      "Warning: Hole 20 is not centered in any soldering region.\n",
      "Warning: Hole 21 is not centered in any soldering region.\n"
     ]
    }
   ],
   "source": [
    "!python python/main.py circuit-board-qa data/input/pcb-xray.tif"
   ]
  },
  {
   "cell_type": "markdown",
   "metadata": {},
   "source": [
    "## Filled Bottles"
   ]
  },
  {
   "cell_type": "code",
   "execution_count": null,
   "metadata": {},
   "outputs": [],
   "source": [
    "!python python/main.py filled-bottles data/input/Bottles.tif"
   ]
  }
 ],
 "metadata": {
  "kernelspec": {
   "display_name": "Python 3",
   "language": "python",
   "name": "python3"
  },
  "language_info": {
   "codemirror_mode": {
    "name": "ipython",
    "version": 3
   },
   "file_extension": ".py",
   "mimetype": "text/x-python",
   "name": "python",
   "nbconvert_exporter": "python",
   "pygments_lexer": "ipython3",
   "version": "3.10.12"
  }
 },
 "nbformat": 4,
 "nbformat_minor": 2
}
