{
 "cells": [
  {
   "cell_type": "markdown",
   "metadata": {},
   "source": [
    "# Image processing assignment #3\n",
    "\n",
    "**Student**: Aleksandr J. Smoliakov, MIF Data Science, MSc year 1  \n",
    "**Date**: 2024-12-12"
   ]
  },
  {
   "cell_type": "markdown",
   "metadata": {},
   "source": [
    "## FISH Signal Counts"
   ]
  },
  {
   "cell_type": "code",
   "execution_count": 107,
   "metadata": {},
   "outputs": [
    {
     "name": "stdout",
     "output_type": "stream",
     "text": [
      "TIFFReadDirectory: Warning, Unknown field with tag 50838 (0xc696) encountered.\n",
      "TIFFReadDirectory: Warning, Unknown field with tag 50839 (0xc697) encountered.\n",
      "TIFFReadDirectory: Warning, Unknown field with tag 50838 (0xc696) encountered.\n",
      "TIFFReadDirectory: Warning, Unknown field with tag 50839 (0xc697) encountered.\n",
      "INFO:root:Saved image to data/output/fish_signal_counts/binary_masks.png\n",
      "INFO:root:Saved image to data/output/fish_signal_counts/binary_masks_cleaned.png\n",
      "INFO:root:Cell analysis results\n",
      "INFO:root:Total cells: 30\n",
      "INFO:root:---------------------\n",
      "INFO:root:Cell 1\n",
      "INFO:root:  X: 586.82, Y: 19.07\n",
      "INFO:root:  Area: 841\n",
      "INFO:root:  Acridine=1.0, FITC=0.0, Ratio=None\n",
      "INFO:root:Cell 2\n",
      "INFO:root:  X: 497.55, Y: 45.82\n",
      "INFO:root:  Area: 5015\n",
      "INFO:root:  Acridine=3.0, FITC=1.0, Ratio=3.0\n",
      "INFO:root:Cell 3\n",
      "INFO:root:  X: 44.79, Y: 60.05\n",
      "INFO:root:  Area: 4161\n",
      "INFO:root:  Acridine=2.0, FITC=1.0, Ratio=2.0\n",
      "INFO:root:Cell 4\n",
      "INFO:root:  X: 171.11, Y: 74.59\n",
      "INFO:root:  Area: 3500\n",
      "INFO:root:  Acridine=3.0, FITC=0.0, Ratio=None\n",
      "INFO:root:Cell 5\n",
      "INFO:root:  X: 118.36, Y: 83.39\n",
      "INFO:root:  Area: 3895\n",
      "INFO:root:  Acridine=3.0, FITC=1.0, Ratio=3.0\n",
      "INFO:root:Cell 6\n",
      "INFO:root:  X: 422.38, Y: 72.97\n",
      "INFO:root:  Area: 2558\n",
      "INFO:root:  Acridine=1.0, FITC=0.0, Ratio=None\n",
      "INFO:root:Cell 7\n",
      "INFO:root:  X: 543.70, Y: 133.72\n",
      "INFO:root:  Area: 5204\n",
      "INFO:root:  Acridine=8.0, FITC=1.0, Ratio=8.0\n",
      "INFO:root:Cell 8\n",
      "INFO:root:  X: 434.76, Y: 211.62\n",
      "INFO:root:  Area: 2317\n",
      "INFO:root:  Acridine=2.0, FITC=0.0, Ratio=None\n",
      "INFO:root:Cell 9\n",
      "INFO:root:  X: 79.91, Y: 226.41\n",
      "INFO:root:  Area: 2753\n",
      "INFO:root:  Acridine=3.0, FITC=0.0, Ratio=None\n",
      "INFO:root:Cell 10\n",
      "INFO:root:  X: 196.82, Y: 266.44\n",
      "INFO:root:  Area: 2232\n",
      "INFO:root:  Acridine=1.0, FITC=1.0, Ratio=1.0\n",
      "INFO:root:Cell 11\n",
      "INFO:root:  X: 138.64, Y: 281.66\n",
      "INFO:root:  Area: 4147\n",
      "INFO:root:  Acridine=2.0, FITC=0.0, Ratio=None\n",
      "INFO:root:Cell 12\n",
      "INFO:root:  X: 80.49, Y: 306.00\n",
      "INFO:root:  Area: 4195\n",
      "INFO:root:  Acridine=5.0, FITC=1.0, Ratio=5.0\n",
      "INFO:root:Cell 13\n",
      "INFO:root:  X: 186.25, Y: 343.55\n",
      "INFO:root:  Area: 5051\n",
      "INFO:root:  Acridine=5.0, FITC=1.0, Ratio=5.0\n",
      "INFO:root:Cell 14\n",
      "INFO:root:  X: 250.69, Y: 359.29\n",
      "INFO:root:  Area: 5781\n",
      "INFO:root:  Acridine=6.0, FITC=1.0, Ratio=6.0\n",
      "INFO:root:Cell 15\n",
      "INFO:root:  X: 314.68, Y: 392.48\n",
      "INFO:root:  Area: 3228\n",
      "INFO:root:  Acridine=3.0, FITC=0.0, Ratio=None\n",
      "INFO:root:Cell 16\n",
      "INFO:root:  X: 117.96, Y: 428.92\n",
      "INFO:root:  Area: 4603\n",
      "INFO:root:  Acridine=3.0, FITC=1.0, Ratio=3.0\n",
      "INFO:root:Cell 17\n",
      "INFO:root:  X: 231.42, Y: 428.03\n",
      "INFO:root:  Area: 2737\n",
      "INFO:root:  Acridine=0.0, FITC=0.0, Ratio=None\n",
      "INFO:root:Cell 18\n",
      "INFO:root:  X: 51.54, Y: 464.47\n",
      "INFO:root:  Area: 4446\n",
      "INFO:root:  Acridine=0.0, FITC=1.0, Ratio=0.0\n",
      "INFO:root:Cell 19\n",
      "INFO:root:  X: 316.54, Y: 485.68\n",
      "INFO:root:  Area: 4405\n",
      "INFO:root:  Acridine=5.0, FITC=0.0, Ratio=None\n",
      "INFO:root:Cell 20\n",
      "INFO:root:  X: 172.45, Y: 501.08\n",
      "INFO:root:  Area: 5465\n",
      "INFO:root:  Acridine=6.0, FITC=2.0, Ratio=3.0\n",
      "INFO:root:Cell 21\n",
      "INFO:root:  X: 106.00, Y: 538.03\n",
      "INFO:root:  Area: 5157\n",
      "INFO:root:  Acridine=5.0, FITC=2.0, Ratio=2.5\n",
      "INFO:root:Cell 22\n",
      "INFO:root:  X: 252.85, Y: 551.11\n",
      "INFO:root:  Area: 4783\n",
      "INFO:root:  Acridine=0.0, FITC=3.0, Ratio=0.0\n",
      "INFO:root:Cell 23\n",
      "INFO:root:  X: 515.97, Y: 551.02\n",
      "INFO:root:  Area: 5126\n",
      "INFO:root:  Acridine=6.0, FITC=2.0, Ratio=3.0\n",
      "INFO:root:Cell 24\n",
      "INFO:root:  X: 322.40, Y: 569.27\n",
      "INFO:root:  Area: 3695\n",
      "INFO:root:  Acridine=0.0, FITC=0.0, Ratio=None\n",
      "INFO:root:Cell 25\n",
      "INFO:root:  X: 188.82, Y: 587.49\n",
      "INFO:root:  Area: 5367\n",
      "INFO:root:  Acridine=4.0, FITC=1.0, Ratio=4.0\n",
      "INFO:root:Cell 26\n",
      "INFO:root:  X: 385.74, Y: 577.79\n",
      "INFO:root:  Area: 1974\n",
      "INFO:root:  Acridine=1.0, FITC=1.0, Ratio=1.0\n",
      "INFO:root:Cell 27\n",
      "INFO:root:  X: 118.42, Y: 614.76\n",
      "INFO:root:  Area: 5791\n",
      "INFO:root:  Acridine=9.0, FITC=3.0, Ratio=3.0\n",
      "INFO:root:Cell 28\n",
      "INFO:root:  X: 375.64, Y: 658.44\n",
      "INFO:root:  Area: 2607\n",
      "INFO:root:  Acridine=0.0, FITC=0.0, Ratio=None\n",
      "INFO:root:Cell 29\n",
      "INFO:root:  X: 277.46, Y: 676.39\n",
      "INFO:root:  Area: 5634\n",
      "INFO:root:  Acridine=3.0, FITC=0.0, Ratio=None\n",
      "INFO:root:Cell 30\n",
      "INFO:root:  X: 530.05, Y: 691.11\n",
      "INFO:root:  Area: 3332\n",
      "INFO:root:  Acridine=2.0, FITC=0.0, Ratio=None\n"
     ]
    }
   ],
   "source": [
    "!python python/main.py fish-signal-counts \\\n",
    "    \"data/input/BXY-ABCD_Region 002_FOV 00040_Acridine.tif\" \\\n",
    "    \"data/input/BXY-ABCD_Region 002_FOV 00040_FITC.tif\" \\\n",
    "    \"data/input/BXY-ABCD_Region 002_FOV 00040_DAPI.tif\""
   ]
  },
  {
   "cell_type": "markdown",
   "metadata": {},
   "source": [
    "## Circuit Board Quality Assurance"
   ]
  },
  {
   "cell_type": "code",
   "execution_count": 112,
   "metadata": {},
   "outputs": [
    {
     "name": "stdout",
     "output_type": "stream",
     "text": [
      "INFO:root:Saved image to data/output/circuit_board_qa/image_denoised.png\n",
      "INFO:root:Saved image to data/output/circuit_board_qa/solder_mask_thick.png\n",
      "INFO:root:Saved image to data/output/circuit_board_qa/final_image.png\n",
      "INFO:root:Circuit board QA results\n",
      "INFO:root:Total defects: 12\n",
      "INFO:root:---------------------\n",
      "INFO:root:Defect 1\n",
      "INFO:root:  X: 58.00, Y: 11.00\n",
      "INFO:root:  Message: round soldering region has hole at centroid: (14.0, 55.0), expected: (11.0, 58.0)\n",
      "INFO:root:Defect 2\n",
      "INFO:root:  X: 141.45, Y: 23.79\n",
      "INFO:root:  Message: Suspected broken wire touches 1 != 2 connectors\n",
      "INFO:root:Defect 3\n",
      "INFO:root:  X: 115.00, Y: 23.00\n",
      "INFO:root:  Message: round soldering region has hole at centroid: (22.0, 116.0), expected: (23.0, 115.0)\n",
      "INFO:root:Defect 4\n",
      "INFO:root:  X: 155.07, Y: 30.42\n",
      "INFO:root:  Message: Suspected broken wire touches 1 != 2 connectors\n",
      "INFO:root:Defect 5\n",
      "INFO:root:  X: 87.00, Y: 36.00\n",
      "INFO:root:  Message: round soldering region has hole at centroid: (36.95454545454545, 86.06818181818181), expected: (36.0, 87.0)\n",
      "INFO:root:Defect 6\n",
      "INFO:root:  X: 180.70, Y: 85.88\n",
      "INFO:root:  Message: Suspected broken wire touches 1 != 2 connectors\n",
      "INFO:root:Defect 7\n",
      "INFO:root:  X: 209.50, Y: 112.46\n",
      "INFO:root:  Message: Suspected broken wire touches 1 != 2 connectors\n",
      "INFO:root:Defect 8\n",
      "INFO:root:  X: 44.00, Y: 187.00\n",
      "INFO:root:  Message: round soldering region has hole at centroid: (184.0, 44.0), expected: (187.0, 44.0)\n",
      "INFO:root:Defect 9\n",
      "INFO:root:  X: 58.97, Y: 245.02\n",
      "INFO:root:  Message: round soldering region has hole at centroid: (244.0, 58.0), expected: (245.01652892561984, 58.96694214876033)\n",
      "INFO:root:Defect 10\n",
      "INFO:root:  X: 112.50, Y: 245.00\n",
      "INFO:root:  Message: round soldering region, area: 292, expected: 242, intersection: 242\n",
      "INFO:root:Defect 11\n",
      "INFO:root:  X: 112.50, Y: 245.00\n",
      "INFO:root:  Message: round soldering region has hole at centroid: (245.0, 111.74545454545455), expected: (245.0, 112.5)\n",
      "INFO:root:Defect 12\n",
      "INFO:root:  X: 111.75, Y: 245.00\n",
      "INFO:root:  Message: round soldering region has hole with dimensions: (7, 9), expected one of: [(7, 7)]\n"
     ]
    }
   ],
   "source": [
    "!python python/main.py circuit-board-qa data/input/pcb-xray.tif"
   ]
  },
  {
   "cell_type": "markdown",
   "metadata": {},
   "source": [
    "## Filled Bottles"
   ]
  },
  {
   "cell_type": "code",
   "execution_count": 106,
   "metadata": {},
   "outputs": [
    {
     "name": "stdout",
     "output_type": "stream",
     "text": [
      "INFO:root:Saved image to data/output/filled_bottles/final_image.png\n",
      "INFO:root:Bottle analysis results\n",
      "INFO:root:Total bottles: 3\n",
      "INFO:root:---------------------\n",
      "INFO:root:Bottle 1\n",
      "INFO:root:  X: 254.26, Y: 190.82\n",
      "INFO:root:  Liquid level: 132\n",
      "INFO:root:  Neck-Shoulder range: 67-91\n",
      "INFO:root:  Filled: False\n",
      "INFO:root:Bottle 2\n",
      "INFO:root:  X: 134.83, Y: 190.69\n",
      "INFO:root:  Liquid level: 73\n",
      "INFO:root:  Neck-Shoulder range: 68-93\n",
      "INFO:root:  Filled: True\n",
      "INFO:root:Bottle 3\n",
      "INFO:root:  X: 372.83, Y: 190.69\n",
      "INFO:root:  Liquid level: 73\n",
      "INFO:root:  Neck-Shoulder range: 68-93\n",
      "INFO:root:  Filled: True\n"
     ]
    }
   ],
   "source": [
    "!python python/main.py filled-bottles data/input/Bottles.tif"
   ]
  }
 ],
 "metadata": {
  "kernelspec": {
   "display_name": "Python 3",
   "language": "python",
   "name": "python3"
  },
  "language_info": {
   "codemirror_mode": {
    "name": "ipython",
    "version": 3
   },
   "file_extension": ".py",
   "mimetype": "text/x-python",
   "name": "python",
   "nbconvert_exporter": "python",
   "pygments_lexer": "ipython3",
   "version": "3.10.12"
  }
 },
 "nbformat": 4,
 "nbformat_minor": 2
}
